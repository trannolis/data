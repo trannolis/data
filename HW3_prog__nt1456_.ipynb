{
  "nbformat": 4,
  "nbformat_minor": 0,
  "metadata": {
    "kernelspec": {
      "display_name": "Python 3",
      "language": "python",
      "name": "python3"
    },
    "language_info": {
      "codemirror_mode": {
        "name": "ipython",
        "version": 3
      },
      "file_extension": ".py",
      "mimetype": "text/x-python",
      "name": "python",
      "nbconvert_exporter": "python",
      "pygments_lexer": "ipython3",
      "version": "3.8.2-final"
    },
    "colab": {
      "name": "HW3_prog__nt1456_.ipynb",
      "provenance": [],
      "include_colab_link": true
    }
  },
  "cells": [
    {
      "cell_type": "markdown",
      "metadata": {
        "id": "view-in-github",
        "colab_type": "text"
      },
      "source": [
        "<a href=\"https://colab.research.google.com/github/trannolis/data/blob/main/HW3_prog__nt1456_.ipynb\" target=\"_parent\"><img src=\"https://colab.research.google.com/assets/colab-badge.svg\" alt=\"Open In Colab\"/></a>"
      ]
    },
    {
      "cell_type": "markdown",
      "metadata": {
        "id": "-CyEdIouSZoj"
      },
      "source": [
        "# Programming Assignment 3 - Polynomial Regression (50 points)"
      ]
    },
    {
      "cell_type": "markdown",
      "metadata": {
        "id": "Fxj7BUqjSZop"
      },
      "source": [
        "## Before you start\n",
        "\n",
        "For this semester, the teaching staff of this course will be using Autograder to grade programming assignment. Here are three things we would like you to know before starting. `PLEASE READ CAREFULLY.` Otherwise, you might lose points on some questions.\n",
        "\n",
        "* If you see any blocks containing statements like `grader.check(\"Qxx\")`, please `do not modify` them. You can add new cells to the notebook, but just make sure there is `no other cells` between the answer cells containing tag `# TODO Qxx` and grading cells like 'grader.check(\"Qxx\")`. \n",
        "\n",
        "* If the instructions say that you are required to use certain names for output variables, please `follow the instructions`, and you are not supposed to change the names of any given variables. You can still create new variables, but don't forget to `assign the output variables to correct values`. If the `type` of a output variable is specified, make sure the type of the variable is correct.\n",
        "\n",
        "* You can use print statements to print out results through out the notebook. However, if you have any `print statements in functions`, please make sure you have `put them in comments` before you submit.\n",
        "\n",
        "* Please note for questions that require you to plot, please **_DO NOT MODIFY_** statements like `plt.show(block=False)`. Changing the statement would block the execution of autograder and you might lose points on that question.\n",
        "\n",
        "* Please `APPEND YOUR NYU NETID` to the name your submission (for example, name your submission as \"HW1_prog_abc12345.ipynb\" when you submit on Gradescope, and replace <abc1234> with your NYU NetID). \n",
        "\n",
        "Good luck with programming assignment 3!"
      ]
    },
    {
      "cell_type": "code",
      "metadata": {
        "id": "N59B_OjrSZoq"
      },
      "source": [
        "import numpy as np\n",
        "import matplotlib\n",
        "import pandas as pd\n",
        "import matplotlib.pyplot as plt\n",
        "from sklearn import datasets, linear_model, preprocessing\n",
        "import numpy.polynomial.polynomial as poly\n",
        "%matplotlib inline"
      ],
      "execution_count": null,
      "outputs": []
    },
    {
      "cell_type": "markdown",
      "metadata": {
        "id": "n8kzruAoSZoq"
      },
      "source": [
        "# Importing Data \n",
        "Import data from `poly_regression.csv`. Please put `poly_regression.csv` file under the **_SAME DIRECTORY_** of your `HW3_prog_<netid>.ipynb` file."
      ]
    },
    {
      "cell_type": "code",
      "metadata": {
        "id": "W5D_ngbKSZor"
      },
      "source": [
        "# TODO Q01\n",
        "# read the poly_regression.csv into df(<pd.Dataframe>)\n",
        "# then convert df to data(<np.ndarray>)\n",
        "# and import the first column in X(<np.ndarray>) and the second column in Y(<np.ndarray>)\n",
        "df = ...\n",
        "data = ...\n",
        "X = ...\n",
        "y = ..."
      ],
      "execution_count": null,
      "outputs": []
    },
    {
      "cell_type": "code",
      "metadata": {
        "deletable": false,
        "editable": false,
        "id": "considerable-clear"
      },
      "source": [
        "grader.check(\"Q01\")"
      ],
      "execution_count": null,
      "outputs": []
    },
    {
      "cell_type": "code",
      "metadata": {
        "id": "8V19PE1lSZor"
      },
      "source": [
        "# TODO Q02\n",
        "# Reshape X and Y to be rank 2 matrices X_2d(<np.ndarray>) and y_2d(<np.ndarray>)\n",
        "X_2d = ...\n",
        "y_2d = ..."
      ],
      "execution_count": null,
      "outputs": []
    },
    {
      "cell_type": "code",
      "metadata": {
        "deletable": false,
        "editable": false,
        "id": "hazardous-bangkok"
      },
      "source": [
        "grader.check(\"Q02\")"
      ],
      "execution_count": null,
      "outputs": []
    },
    {
      "cell_type": "markdown",
      "metadata": {
        "id": "CPodj4FrSZos"
      },
      "source": [
        "# Training and Validation Set\n",
        "Divide the dataset approximately into 2 equal parts : training set and validation set. "
      ]
    },
    {
      "cell_type": "code",
      "metadata": {
        "id": "1fezjIuVSZos"
      },
      "source": [
        "# TODO Q03 \n",
        "# Save the first 100 rows in X_tr(<np.ndarray>), y_tr(<np.ndarray>) as 1D arrays\n",
        "# and the next 100 in X_val(<np.ndarray>) and y_val(<np.ndarray>) as 1D arrays\n",
        "X_tr = ...\n",
        "y_tr = ...\n",
        "X_val = ...\n",
        "y_val = ..."
      ],
      "execution_count": null,
      "outputs": []
    },
    {
      "cell_type": "code",
      "metadata": {
        "deletable": false,
        "editable": false,
        "id": "collectible-blend"
      },
      "source": [
        "grader.check(\"Q03\")"
      ],
      "execution_count": null,
      "outputs": []
    },
    {
      "cell_type": "markdown",
      "metadata": {
        "id": "_iUEgHT4SZot"
      },
      "source": [
        "# Plotting Dataset"
      ]
    },
    {
      "cell_type": "markdown",
      "metadata": {
        "id": "Q4Tsl33XSZot"
      },
      "source": [
        "Plot `X_tr` versus `y_tr` as a scatter plot. Make sure your plot has **grid lines**, a **_title_** and **_labels_** on axes. **_DO NOT MODIFY_** `plt.show(block=False)`"
      ]
    },
    {
      "cell_type": "markdown",
      "metadata": {
        "deletable": false,
        "editable": false,
        "id": "43shgweTSZot"
      },
      "source": [
        "<!-- BEGIN QUESTION -->\n",
        "\n",
        "<!--\n",
        "BEGIN QUESTION\n",
        "name: Q04\n",
        "manual: true\n",
        "points: 3\n",
        "-->"
      ]
    },
    {
      "cell_type": "code",
      "metadata": {
        "id": "R15jlQvlSZot"
      },
      "source": [
        "# TODO Q04\n",
        "...\n",
        "plt.show(block=False)"
      ],
      "execution_count": null,
      "outputs": []
    },
    {
      "cell_type": "markdown",
      "metadata": {
        "id": "x17084bZSZot"
      },
      "source": [
        "<!-- END QUESTION -->\n",
        "\n",
        "\n",
        "\n",
        "Plot `X_val` versus `y_val` as a scatter plot. Make sure your plot has **grid lines**, a **_title_** and **_labels_** on axes. **_DO NOT MODIFY_** `plt.show(block=False)`"
      ]
    },
    {
      "cell_type": "markdown",
      "metadata": {
        "deletable": false,
        "editable": false,
        "id": "bhTlKbYbSZou"
      },
      "source": [
        "<!-- BEGIN QUESTION -->\n",
        "\n",
        "<!--\n",
        "BEGIN QUESTION\n",
        "name: Q05\n",
        "manual: true\n",
        "points: 3\n",
        "-->"
      ]
    },
    {
      "cell_type": "code",
      "metadata": {
        "id": "IaNprgxXSZou"
      },
      "source": [
        "# TODO Q05\n",
        "...\n",
        "plt.show(block=False)"
      ],
      "execution_count": null,
      "outputs": []
    },
    {
      "cell_type": "markdown",
      "metadata": {
        "id": "BAxdw-0-SZou"
      },
      "source": [
        "<!-- END QUESTION -->\n",
        "\n",
        "\n",
        "\n",
        "# Model Selection.\n",
        "Write code to obtain polynomial regression models of different orders starting from linear regression i.e. `degree = 1` to higher degree models like `degree = 2 to 10`. Find training and validation error for every order and plot these errors v/s degree. Select the order that fits the data best based on validation error. You can use `poly.polyval` method from numpy to find coefficients of the different models."
      ]
    },
    {
      "cell_type": "code",
      "metadata": {
        "id": "CQgmcT6_SZou"
      },
      "source": [
        "# TODO Q06\n",
        "# Record the training error, validation error and theta in train_costs(<list>), validation_costs(<list>) and theta_dict(<dict>) for degrees = 1, 2, 3,..., 10 \n",
        "# Create degrees using range object and assign to model_degree(<range>)\n",
        "# HINT - Use poly.polyfit to find the theta values and poly.polyval to find the yhat values\n",
        "\n",
        "validation_costs = []\n",
        "train_costs = []\n",
        "theta_dict = {}\n",
        "model_degree = ...\n",
        "\n",
        "for d in model_degree:\n",
        "    print('Order: ', d)\n",
        "    theta = ...\n",
        "    yhat = ...\n",
        "    validation_cost = ...\n",
        "    theta_dict[d] = theta\n",
        "    validation_costs.append(validation_cost)\n",
        "    print('Theta: ', theta)\n",
        "    yhat_train = ...\n",
        "    train_cost = ...\n",
        "    train_costs.append(train_cost)\n",
        "    print('Train cost: ', train_cost)\n",
        "    print('-------------------------')"
      ],
      "execution_count": null,
      "outputs": []
    },
    {
      "cell_type": "code",
      "metadata": {
        "deletable": false,
        "editable": false,
        "id": "synthetic-ready"
      },
      "source": [
        "grader.check(\"Q06\")"
      ],
      "execution_count": null,
      "outputs": []
    },
    {
      "cell_type": "markdown",
      "metadata": {
        "id": "6NBSNJG5SZov"
      },
      "source": [
        "Plot training dataset and the hypothesis function for each degree. Use `plt.xlim(-1.5,1.5)`,`plt.ylim(-7,7)` for the range of the plot. Make sure your plot has **grid lines**, a **_title_** and **_labels_** on axes. **_DO NOT MODIFY_** `plt.show(block=False)`"
      ]
    },
    {
      "cell_type": "markdown",
      "metadata": {
        "deletable": false,
        "editable": false,
        "id": "ZAAQ_H1aSZov"
      },
      "source": [
        "<!-- BEGIN QUESTION -->\n",
        "\n",
        "<!--\n",
        "BEGIN QUESTION\n",
        "name: Q07\n",
        "manual: true\n",
        "points: 10\n",
        "-->"
      ]
    },
    {
      "cell_type": "code",
      "metadata": {
        "id": "jDbWUOiuSZov"
      },
      "source": [
        "# TODO Q07\n",
        "for d in model_degree:\n",
        "    print('Degree: ', d)\n",
        "    # Plot data\n",
        "    ...\n",
        "\n",
        "    xp = np.linspace(-1,1,200)\n",
        "    yp_hat = ...\n",
        "    # Plot hypothesis\n",
        "    ...\n",
        "    plt.show(block=False)\n",
        "    "
      ],
      "execution_count": null,
      "outputs": []
    },
    {
      "cell_type": "markdown",
      "metadata": {
        "id": "adbu0XJwSZow"
      },
      "source": [
        "<!-- END QUESTION -->\n",
        "\n",
        "\n",
        "\n",
        "Plot `train_cost` versus `Model order` as line plot with style of `'.-'`. Make sure your plot has **grid lines**, a **_title_** and **_labels_** on axes. **_DO NOT MODIFY_** `plt.show(block=False)`"
      ]
    },
    {
      "cell_type": "markdown",
      "metadata": {
        "deletable": false,
        "editable": false,
        "id": "HKdkVZFsSZow"
      },
      "source": [
        "<!-- BEGIN QUESTION -->\n",
        "\n",
        "<!--\n",
        "BEGIN QUESTION\n",
        "name: Q08\n",
        "manual: true\n",
        "points: 4\n",
        "-->"
      ]
    },
    {
      "cell_type": "code",
      "metadata": {
        "scrolled": true,
        "id": "5gLIlxa3SZow"
      },
      "source": [
        "# TODO Q08\n",
        "...\n",
        "plt.show(block=False)"
      ],
      "execution_count": null,
      "outputs": []
    },
    {
      "cell_type": "markdown",
      "metadata": {
        "id": "a-Iq1cR-SZox"
      },
      "source": [
        "<!-- END QUESTION -->\n",
        "\n",
        "\n",
        "\n",
        "Plot `validation_cost` versus `model_degree` as line plot with style of `'.-'`. Make sure your plot has **grid lines**, a **_title_** and **_labels_** on axes. **_DO NOT MODIFY_** `plt.show(block=False)`"
      ]
    },
    {
      "cell_type": "markdown",
      "metadata": {
        "deletable": false,
        "editable": false,
        "id": "NxXOZ-75SZox"
      },
      "source": [
        "<!-- BEGIN QUESTION -->\n",
        "\n",
        "<!--\n",
        "BEGIN QUESTION\n",
        "name: Q09\n",
        "manual: true\n",
        "points: 4\n",
        "-->"
      ]
    },
    {
      "cell_type": "code",
      "metadata": {
        "id": "PuxhGNVjSZox"
      },
      "source": [
        "# TODO Q09\n",
        "...\n",
        "plt.show(block=False)"
      ],
      "execution_count": null,
      "outputs": []
    }
  ]
}