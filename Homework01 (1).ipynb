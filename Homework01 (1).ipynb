{
  "nbformat": 4,
  "nbformat_minor": 0,
  "metadata": {
    "colab": {
      "name": "MMDS-spring-HW1",
      "provenance": [],
      "collapsed_sections": [],
      "toc_visible": true
    },
    "kernelspec": {
      "name": "python3",
      "display_name": "Python 3"
    }
  },
  "cells": [
    {
      "cell_type": "code",
      "metadata": {
        "id": "Qy0dsQ1Ia7iw",
        "colab": {
          "base_uri": "https://localhost:8080/"
        },
        "outputId": "09bcb6d7-666b-49df-d0ae-11c98f62cf2f"
      },
      "source": [
        "#imports and options\n",
        "\n",
        "import pandas as pd\n",
        "pd.set_option('display.max_colwidth', - 1)"
      ],
      "execution_count": null,
      "outputs": [
        {
          "output_type": "stream",
          "text": [
            "/usr/local/lib/python3.6/dist-packages/ipykernel_launcher.py:4: FutureWarning: Passing a negative integer is deprecated in version 1.0 and will not be supported in future version. Instead, use None to not limit the column width.\n",
            "  after removing the cwd from sys.path.\n"
          ],
          "name": "stderr"
        }
      ]
    },
    {
      "cell_type": "markdown",
      "metadata": {
        "id": "RWjsxMRxbp5h"
      },
      "source": [
        "# Retrieving the Data"
      ]
    },
    {
      "cell_type": "markdown",
      "metadata": {
        "id": "k-sPq0oLj9xu"
      },
      "source": [
        "For this assignment you will be working with the Construction and Demolition dataset issued by the DOB (Department of Buildings) and published on NYC Open Data (https://opendata.cityofnewyork.us/). NYC Open Data provides multiple free datasets like this one, and is a great source for data science projects."
      ]
    },
    {
      "cell_type": "markdown",
      "metadata": {
        "id": "x3Z5hI5KS97r"
      },
      "source": [
        "This dataset is really big, so we are only going to be using the first 2 Million rows. Even so, the code block below might take bit of time..."
      ]
    },
    {
      "cell_type": "code",
      "metadata": {
        "id": "Nz_ZK9WUbt6c",
        "colab": {
          "base_uri": "https://localhost:8080/",
          "height": 394
        },
        "outputId": "62f1c4e1-ad76-4800-f84d-f8d3b67fe41a"
      },
      "source": [
        "df = pd.read_csv(\"https://data.cityofnewyork.us/resource/ipu4-2q9a.csv?$limit=2000000\")\n",
        "df.head()"
      ],
      "execution_count": null,
      "outputs": [
        {
          "output_type": "stream",
          "text": [
            "/usr/local/lib/python3.6/dist-packages/IPython/core/interactiveshell.py:2718: DtypeWarning: Columns (1,8,9,10,15,31,33,34,35,36,51,52) have mixed types.Specify dtype option on import or set low_memory=False.\n",
            "  interactivity=interactivity, compiler=compiler, result=result)\n"
          ],
          "name": "stderr"
        },
        {
          "output_type": "execute_result",
          "data": {
            "text/html": [
              "<div>\n",
              "<style scoped>\n",
              "    .dataframe tbody tr th:only-of-type {\n",
              "        vertical-align: middle;\n",
              "    }\n",
              "\n",
              "    .dataframe tbody tr th {\n",
              "        vertical-align: top;\n",
              "    }\n",
              "\n",
              "    .dataframe thead th {\n",
              "        text-align: right;\n",
              "    }\n",
              "</style>\n",
              "<table border=\"1\" class=\"dataframe\">\n",
              "  <thead>\n",
              "    <tr style=\"text-align: right;\">\n",
              "      <th></th>\n",
              "      <th>borough</th>\n",
              "      <th>bin__</th>\n",
              "      <th>house__</th>\n",
              "      <th>street_name</th>\n",
              "      <th>job__</th>\n",
              "      <th>job_doc___</th>\n",
              "      <th>job_type</th>\n",
              "      <th>self_cert</th>\n",
              "      <th>block</th>\n",
              "      <th>lot</th>\n",
              "      <th>community_board</th>\n",
              "      <th>zip_code</th>\n",
              "      <th>bldg_type</th>\n",
              "      <th>residential</th>\n",
              "      <th>special_district_1</th>\n",
              "      <th>special_district_2</th>\n",
              "      <th>work_type</th>\n",
              "      <th>permit_status</th>\n",
              "      <th>filing_status</th>\n",
              "      <th>permit_type</th>\n",
              "      <th>permit_sequence__</th>\n",
              "      <th>permit_subtype</th>\n",
              "      <th>oil_gas</th>\n",
              "      <th>site_fill</th>\n",
              "      <th>filing_date</th>\n",
              "      <th>issuance_date</th>\n",
              "      <th>expiration_date</th>\n",
              "      <th>job_start_date</th>\n",
              "      <th>permittee_s_first_name</th>\n",
              "      <th>permittee_s_last_name</th>\n",
              "      <th>permittee_s_business_name</th>\n",
              "      <th>permittee_s_phone__</th>\n",
              "      <th>permittee_s_license_type</th>\n",
              "      <th>permittee_s_license__</th>\n",
              "      <th>act_as_superintendent</th>\n",
              "      <th>permittee_s_other_title</th>\n",
              "      <th>hic_license</th>\n",
              "      <th>site_safety_mgr_s_first_name</th>\n",
              "      <th>site_safety_mgr_s_last_name</th>\n",
              "      <th>site_safety_mgr_business_name</th>\n",
              "      <th>superintendent_first___last_name</th>\n",
              "      <th>superintendent_business_name</th>\n",
              "      <th>owner_s_business_type</th>\n",
              "      <th>non_profit</th>\n",
              "      <th>owner_s_business_name</th>\n",
              "      <th>owner_s_first_name</th>\n",
              "      <th>owner_s_last_name</th>\n",
              "      <th>owner_s_house__</th>\n",
              "      <th>owner_s_house_street_name</th>\n",
              "      <th>city</th>\n",
              "      <th>state</th>\n",
              "      <th>owner_s_zip_code</th>\n",
              "      <th>owner_s_phone__</th>\n",
              "      <th>dobrundate</th>\n",
              "      <th>permit_si_no</th>\n",
              "      <th>gis_latitude</th>\n",
              "      <th>gis_longitude</th>\n",
              "      <th>gis_council_district</th>\n",
              "      <th>gis_census_tract</th>\n",
              "      <th>gis_nta_name</th>\n",
              "    </tr>\n",
              "  </thead>\n",
              "  <tbody>\n",
              "    <tr>\n",
              "      <th>0</th>\n",
              "      <td>MANHATTAN</td>\n",
              "      <td>1077287</td>\n",
              "      <td>1230</td>\n",
              "      <td>6TH AVENUE</td>\n",
              "      <td>123725807</td>\n",
              "      <td>1</td>\n",
              "      <td>A2</td>\n",
              "      <td>Y</td>\n",
              "      <td>1264</td>\n",
              "      <td>5</td>\n",
              "      <td>105</td>\n",
              "      <td>10020.0</td>\n",
              "      <td>2.0</td>\n",
              "      <td>NaN</td>\n",
              "      <td>MID</td>\n",
              "      <td>NaN</td>\n",
              "      <td>OT</td>\n",
              "      <td>ISSUED</td>\n",
              "      <td>RENEWAL</td>\n",
              "      <td>EW</td>\n",
              "      <td>2</td>\n",
              "      <td>OT</td>\n",
              "      <td>NaN</td>\n",
              "      <td>NOT APPLICABLE</td>\n",
              "      <td>12/11/2020</td>\n",
              "      <td>12/11/2020</td>\n",
              "      <td>11/02/2021</td>\n",
              "      <td>12/23/2019</td>\n",
              "      <td>COLM</td>\n",
              "      <td>MORRISSEY</td>\n",
              "      <td>COYLE CONTRACTING CORP</td>\n",
              "      <td>2.12511e+09</td>\n",
              "      <td>GC</td>\n",
              "      <td>0608236</td>\n",
              "      <td>NaN</td>\n",
              "      <td>NaN</td>\n",
              "      <td>NaN</td>\n",
              "      <td>NaN</td>\n",
              "      <td>NaN</td>\n",
              "      <td>NaN</td>\n",
              "      <td>NaN</td>\n",
              "      <td>NaN</td>\n",
              "      <td>CORPORATION</td>\n",
              "      <td>N</td>\n",
              "      <td>TISHMAN SPEYER</td>\n",
              "      <td>GEOFF</td>\n",
              "      <td>ROSS</td>\n",
              "      <td>45</td>\n",
              "      <td>ROCKEFELLER PLAZA</td>\n",
              "      <td>NEW YORK</td>\n",
              "      <td>NY</td>\n",
              "      <td>10111</td>\n",
              "      <td>2.12715e+09</td>\n",
              "      <td>12/12/2020 00:00:00</td>\n",
              "      <td>3554580</td>\n",
              "      <td>40.758977</td>\n",
              "      <td>-73.981089</td>\n",
              "      <td>4.0</td>\n",
              "      <td>96.0</td>\n",
              "      <td>Midtown-Midtown South</td>\n",
              "    </tr>\n",
              "    <tr>\n",
              "      <th>1</th>\n",
              "      <td>STATEN ISLAND</td>\n",
              "      <td>5113169</td>\n",
              "      <td>715</td>\n",
              "      <td>OCEAN TERRACE</td>\n",
              "      <td>500876037</td>\n",
              "      <td>1</td>\n",
              "      <td>A2</td>\n",
              "      <td>Y</td>\n",
              "      <td>683</td>\n",
              "      <td>1</td>\n",
              "      <td>502</td>\n",
              "      <td>10301.0</td>\n",
              "      <td>2.0</td>\n",
              "      <td>NaN</td>\n",
              "      <td>NA-1</td>\n",
              "      <td>NaN</td>\n",
              "      <td>OT</td>\n",
              "      <td>ISSUED</td>\n",
              "      <td>RENEWAL</td>\n",
              "      <td>EW</td>\n",
              "      <td>3</td>\n",
              "      <td>OT</td>\n",
              "      <td>NaN</td>\n",
              "      <td>USE UNDER 300 CU.YD</td>\n",
              "      <td>12/11/2020</td>\n",
              "      <td>12/11/2020</td>\n",
              "      <td>12/31/2020</td>\n",
              "      <td>08/02/2019</td>\n",
              "      <td>GHASSAN</td>\n",
              "      <td>ANTONIOS</td>\n",
              "      <td>THE MORGANTI GROUP, INC</td>\n",
              "      <td>2.0383e+09</td>\n",
              "      <td>GC</td>\n",
              "      <td>0619624</td>\n",
              "      <td>NaN</td>\n",
              "      <td>NaN</td>\n",
              "      <td>NaN</td>\n",
              "      <td>NaN</td>\n",
              "      <td>NaN</td>\n",
              "      <td>NaN</td>\n",
              "      <td>NaN</td>\n",
              "      <td>NaN</td>\n",
              "      <td>OTHER GOV'T AGENCY</td>\n",
              "      <td>N</td>\n",
              "      <td>SCHOOL CONSTRUCTION AUTHORITY</td>\n",
              "      <td>ELAN</td>\n",
              "      <td>ABNERI</td>\n",
              "      <td>30-30</td>\n",
              "      <td>THOMSON AVENUE</td>\n",
              "      <td>L.I.C.</td>\n",
              "      <td>NY</td>\n",
              "      <td>11101</td>\n",
              "      <td>7.18473e+09</td>\n",
              "      <td>12/12/2020 00:00:00</td>\n",
              "      <td>3719150</td>\n",
              "      <td>40.608512</td>\n",
              "      <td>-74.102067</td>\n",
              "      <td>50.0</td>\n",
              "      <td>177.0</td>\n",
              "      <td>Todt Hill-Emerson Hill-Heartland Village-Lighthouse Hill</td>\n",
              "    </tr>\n",
              "    <tr>\n",
              "      <th>2</th>\n",
              "      <td>BROOKLYN</td>\n",
              "      <td>3253458</td>\n",
              "      <td>9952</td>\n",
              "      <td>3 AVE</td>\n",
              "      <td>321963014</td>\n",
              "      <td>1</td>\n",
              "      <td>DM</td>\n",
              "      <td>N</td>\n",
              "      <td>6133</td>\n",
              "      <td>56</td>\n",
              "      <td>310</td>\n",
              "      <td>11209.0</td>\n",
              "      <td>1.0</td>\n",
              "      <td>NaN</td>\n",
              "      <td>BR</td>\n",
              "      <td>NaN</td>\n",
              "      <td>NaN</td>\n",
              "      <td>ISSUED</td>\n",
              "      <td>INITIAL</td>\n",
              "      <td>DM</td>\n",
              "      <td>1</td>\n",
              "      <td>NaN</td>\n",
              "      <td>NaN</td>\n",
              "      <td>USE UNDER 300 CU.YD</td>\n",
              "      <td>06/17/2020</td>\n",
              "      <td>06/17/2020</td>\n",
              "      <td>05/10/2021</td>\n",
              "      <td>06/17/2020</td>\n",
              "      <td>YAKOV</td>\n",
              "      <td>EISENBACH</td>\n",
              "      <td>DESIGN N SAFETY INC</td>\n",
              "      <td>7.18236e+09</td>\n",
              "      <td>GC</td>\n",
              "      <td>0614365</td>\n",
              "      <td>NaN</td>\n",
              "      <td>NaN</td>\n",
              "      <td>NaN</td>\n",
              "      <td>NaN</td>\n",
              "      <td>NaN</td>\n",
              "      <td>NaN</td>\n",
              "      <td>TOBY SALAMON</td>\n",
              "      <td>PRO CLASSIC CORP</td>\n",
              "      <td>CORPORATION</td>\n",
              "      <td>N</td>\n",
              "      <td>THE NARROWS LLC</td>\n",
              "      <td>IGOR</td>\n",
              "      <td>NESTOR</td>\n",
              "      <td>49</td>\n",
              "      <td>BARLOW DRIVE NORTH</td>\n",
              "      <td>BROOKLYN</td>\n",
              "      <td>NY</td>\n",
              "      <td>11234</td>\n",
              "      <td>3.47866e+09</td>\n",
              "      <td>06/18/2020 00:00:00</td>\n",
              "      <td>3765458</td>\n",
              "      <td>40.613341</td>\n",
              "      <td>-74.035582</td>\n",
              "      <td>43.0</td>\n",
              "      <td>5602.0</td>\n",
              "      <td>Bay Ridge</td>\n",
              "    </tr>\n",
              "    <tr>\n",
              "      <th>3</th>\n",
              "      <td>BROOKLYN</td>\n",
              "      <td>3117942</td>\n",
              "      <td>179</td>\n",
              "      <td>LOTT STREET</td>\n",
              "      <td>322006618</td>\n",
              "      <td>1</td>\n",
              "      <td>DM</td>\n",
              "      <td>N</td>\n",
              "      <td>5136</td>\n",
              "      <td>58</td>\n",
              "      <td>317</td>\n",
              "      <td>11226.0</td>\n",
              "      <td>1.0</td>\n",
              "      <td>NaN</td>\n",
              "      <td>NaN</td>\n",
              "      <td>NaN</td>\n",
              "      <td>NaN</td>\n",
              "      <td>ISSUED</td>\n",
              "      <td>INITIAL</td>\n",
              "      <td>DM</td>\n",
              "      <td>1</td>\n",
              "      <td>NaN</td>\n",
              "      <td>NaN</td>\n",
              "      <td>ON-SITE</td>\n",
              "      <td>06/17/2020</td>\n",
              "      <td>06/17/2020</td>\n",
              "      <td>02/21/2021</td>\n",
              "      <td>06/17/2020</td>\n",
              "      <td>FREDERICK</td>\n",
              "      <td>KLEIN</td>\n",
              "      <td>SUPERB CONSTRUCTION MGT</td>\n",
              "      <td>9.17578e+09</td>\n",
              "      <td>GC</td>\n",
              "      <td>0620355</td>\n",
              "      <td>NaN</td>\n",
              "      <td>NaN</td>\n",
              "      <td>NaN</td>\n",
              "      <td>NaN</td>\n",
              "      <td>NaN</td>\n",
              "      <td>NaN</td>\n",
              "      <td>RALPH SCOPO</td>\n",
              "      <td>NaN</td>\n",
              "      <td>INDIVIDUAL</td>\n",
              "      <td>N</td>\n",
              "      <td>LOTT RESIDENCE LLC</td>\n",
              "      <td>LEAH</td>\n",
              "      <td>WALDMAN</td>\n",
              "      <td>670</td>\n",
              "      <td>MYRTLE AVE</td>\n",
              "      <td>BROOKLYN</td>\n",
              "      <td>NY</td>\n",
              "      <td>11205</td>\n",
              "      <td>7.18415e+09</td>\n",
              "      <td>06/18/2020 00:00:00</td>\n",
              "      <td>3765459</td>\n",
              "      <td>40.645537</td>\n",
              "      <td>-73.954034</td>\n",
              "      <td>40.0</td>\n",
              "      <td>792.0</td>\n",
              "      <td>Erasmus</td>\n",
              "    </tr>\n",
              "    <tr>\n",
              "      <th>4</th>\n",
              "      <td>BROOKLYN</td>\n",
              "      <td>3210296</td>\n",
              "      <td>2917</td>\n",
              "      <td>AVENUE  N</td>\n",
              "      <td>321996970</td>\n",
              "      <td>1</td>\n",
              "      <td>DM</td>\n",
              "      <td>N</td>\n",
              "      <td>7665</td>\n",
              "      <td>4</td>\n",
              "      <td>314</td>\n",
              "      <td>11210.0</td>\n",
              "      <td>2.0</td>\n",
              "      <td>NaN</td>\n",
              "      <td>NaN</td>\n",
              "      <td>NaN</td>\n",
              "      <td>NaN</td>\n",
              "      <td>ISSUED</td>\n",
              "      <td>INITIAL</td>\n",
              "      <td>DM</td>\n",
              "      <td>1</td>\n",
              "      <td>NaN</td>\n",
              "      <td>NaN</td>\n",
              "      <td>ON-SITE</td>\n",
              "      <td>06/17/2020</td>\n",
              "      <td>06/17/2020</td>\n",
              "      <td>03/04/2021</td>\n",
              "      <td>06/17/2020</td>\n",
              "      <td>MARLON</td>\n",
              "      <td>COLE</td>\n",
              "      <td>COLE PARTNERS INC</td>\n",
              "      <td>7.18876e+09</td>\n",
              "      <td>GC</td>\n",
              "      <td>0029619</td>\n",
              "      <td>NaN</td>\n",
              "      <td>NaN</td>\n",
              "      <td>NaN</td>\n",
              "      <td>NaN</td>\n",
              "      <td>NaN</td>\n",
              "      <td>NaN</td>\n",
              "      <td>MARLON COLE</td>\n",
              "      <td>COLE PARTNERS, INC</td>\n",
              "      <td>INDIVIDUAL</td>\n",
              "      <td>N</td>\n",
              "      <td>2915-2921 AVE N PROPERTIES LLC</td>\n",
              "      <td>JOEL</td>\n",
              "      <td>LEFKOWITZ</td>\n",
              "      <td>2740</td>\n",
              "      <td>NOSTRAND AVE</td>\n",
              "      <td>BROOKLYN</td>\n",
              "      <td>NY</td>\n",
              "      <td>11210</td>\n",
              "      <td>3.47493e+09</td>\n",
              "      <td>06/18/2020 00:00:00</td>\n",
              "      <td>3765460</td>\n",
              "      <td>40.617141</td>\n",
              "      <td>-73.945805</td>\n",
              "      <td>45.0</td>\n",
              "      <td>746.0</td>\n",
              "      <td>Flatlands</td>\n",
              "    </tr>\n",
              "  </tbody>\n",
              "</table>\n",
              "</div>"
            ],
            "text/plain": [
              "         borough  ...                                              gis_nta_name\n",
              "0  MANHATTAN      ...  Midtown-Midtown South                                   \n",
              "1  STATEN ISLAND  ...  Todt Hill-Emerson Hill-Heartland Village-Lighthouse Hill\n",
              "2  BROOKLYN       ...  Bay Ridge                                               \n",
              "3  BROOKLYN       ...  Erasmus                                                 \n",
              "4  BROOKLYN       ...  Flatlands                                               \n",
              "\n",
              "[5 rows x 60 columns]"
            ]
          },
          "metadata": {
            "tags": []
          },
          "execution_count": 34
        }
      ]
    },
    {
      "cell_type": "markdown",
      "metadata": {
        "id": "TCnE6lIvehQf"
      },
      "source": [
        "# Understanding the Dataset"
      ]
    },
    {
      "cell_type": "markdown",
      "metadata": {
        "id": "htDRfVjJWwLN"
      },
      "source": [
        "Each row represents a permit application to construct or demolish on a property in NYC. The columns provide extensive information about which building is being affected, where, when, by whom... since there are 60 columns, we won't describe all of them here, but you are welcome to look more into what each of the columns mean (https://data.cityofnewyork.us/Housing-Development/DOB-Permit-Issuance/ipu4-2q9a). You may not need to use all of the columns below in your submission."
      ]
    },
    {
      "cell_type": "markdown",
      "metadata": {
        "id": "-CbjgxHPeqv0"
      },
      "source": [
        "\n",
        "borough = the borough of the property in the permit\n",
        "\n",
        "bin__ = number assigned by City Planning to a specific building \n",
        "\n",
        "house__ = house number of Residence or Commercial Property\n",
        "\n",
        "street_name = street name where Property is located\n",
        "\n",
        "job__ = number assigned by DOB to Job Filing\n",
        "\n",
        "job_type = job type, based on DOB Job Code (NB-New Building, A1, A2, A3- Alterations 1-3, SG-Sign, etc.)\n",
        "\n",
        "zip_code = zipcode of the property in the permit\n",
        "\n",
        "filing_date = date the permit application was filed\n",
        "\n",
        "issuance_date = date the permit was issued (approved)\n",
        "\n",
        "expiration_date = date the permit expires\n",
        "\n",
        "job_start_date = date the work on the property starts\n",
        "\n",
        "gis_nta_name = Neighbourhood Tabulation Area Name (https://www1.nyc.gov/assets/planning/download/pdf/planning-level/nyc-population/census2010/ntas.pdf) "
      ]
    },
    {
      "cell_type": "markdown",
      "metadata": {
        "id": "PVFAEDCwjLG5"
      },
      "source": [
        "# Working with the Data"
      ]
    },
    {
      "cell_type": "markdown",
      "metadata": {
        "id": "HbAHp6kzn8IM"
      },
      "source": [
        "**Q1a**: How many categories/features do we have in our dataset?"
      ]
    },
    {
      "cell_type": "code",
      "metadata": {
        "id": "oQNnvH0YbyMi"
      },
      "source": [
        ""
      ],
      "execution_count": null,
      "outputs": []
    },
    {
      "cell_type": "markdown",
      "metadata": {
        "id": "1WtBZp8ePn5c"
      },
      "source": [
        "**Answer**:"
      ]
    },
    {
      "cell_type": "markdown",
      "metadata": {
        "id": "ww-OX05DojTY"
      },
      "source": [
        "**Q1b**: Check the info summary of the dataset. Do we have enough data in each column? Do you think we should neglect any column?"
      ]
    },
    {
      "cell_type": "code",
      "metadata": {
        "id": "_g9NvY6RbzS_"
      },
      "source": [
        ""
      ],
      "execution_count": null,
      "outputs": []
    },
    {
      "cell_type": "markdown",
      "metadata": {
        "id": "YxHQLoxIPrvS"
      },
      "source": [
        "**Answer:**"
      ]
    },
    {
      "cell_type": "markdown",
      "metadata": {
        "id": "J2Nq4tv3YCCw"
      },
      "source": [
        "------------------------------------------------------"
      ]
    },
    {
      "cell_type": "markdown",
      "metadata": {
        "id": "swWyTK3DTCKF"
      },
      "source": [
        "**Q2a:** List the amount of permit applications in each of the boroughs:\n",
        "\n",
        "\n"
      ]
    },
    {
      "cell_type": "code",
      "metadata": {
        "id": "5NCUPOneS0f0"
      },
      "source": [
        ""
      ],
      "execution_count": null,
      "outputs": []
    },
    {
      "cell_type": "markdown",
      "metadata": {
        "id": "m54RQOJ2TfBe"
      },
      "source": [
        "**Q2b:** As you can see, the top 3 boroughs make up most of the permits, so we want to break them down further. What are the top 10 zipcodes for permits in each of the top 3 boroughs? Visualize your results using bar charts (Write one line for each borough, in 3 separate cells)."
      ]
    },
    {
      "cell_type": "code",
      "metadata": {
        "id": "3r5xh-jITdw-"
      },
      "source": [
        ""
      ],
      "execution_count": null,
      "outputs": []
    },
    {
      "cell_type": "code",
      "metadata": {
        "id": "bUDlhll4VB8E"
      },
      "source": [
        ""
      ],
      "execution_count": null,
      "outputs": []
    },
    {
      "cell_type": "code",
      "metadata": {
        "id": "-paohIJ9VGPk"
      },
      "source": [
        ""
      ],
      "execution_count": null,
      "outputs": []
    },
    {
      "cell_type": "markdown",
      "metadata": {
        "id": "bXh0plOKVwMc"
      },
      "source": [
        "**Q2c**: Which 3 zipcodes have the most permits? Why do you think this is?"
      ]
    },
    {
      "cell_type": "markdown",
      "metadata": {
        "id": "36MumIcLHR2J"
      },
      "source": [
        "**Answer**:"
      ]
    },
    {
      "cell_type": "markdown",
      "metadata": {
        "id": "X-ZnNWlEbIn1"
      },
      "source": [
        "------------------------------------------------------"
      ]
    },
    {
      "cell_type": "markdown",
      "metadata": {
        "id": "Fi1CQJNc32sT"
      },
      "source": [
        "**Q3:** Show the mean time between when a job starts and the expiration date of its permit, by borough"
      ]
    },
    {
      "cell_type": "code",
      "metadata": {
        "id": "Ei5_hynOp1f3"
      },
      "source": [
        "#hint: https://pandas.pydata.org/docs/reference/api/pandas.TimedeltaIndex.mean.html?highlight=mean%20time%20delta#pandas.TimedeltaIndex.mean\n"
      ],
      "execution_count": null,
      "outputs": []
    },
    {
      "cell_type": "markdown",
      "metadata": {
        "id": "dPNruxeK42nS"
      },
      "source": [
        "**Qextra:** find some more interesting insights!"
      ]
    },
    {
      "cell_type": "code",
      "metadata": {
        "id": "djEgeewXLo2N"
      },
      "source": [
        ""
      ],
      "execution_count": null,
      "outputs": []
    }
  ]
}