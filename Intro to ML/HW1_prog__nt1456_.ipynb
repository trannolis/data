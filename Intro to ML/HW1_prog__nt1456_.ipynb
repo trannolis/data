{
  "nbformat": 4,
  "nbformat_minor": 0,
  "metadata": {
    "anaconda-cloud": {},
    "kernelspec": {
      "display_name": "Python 3.8.2 64-bit",
      "metadata": {
        "interpreter": {
          "hash": "20bf69066c0dd38d51965b69d5e1b6e387082e3198ba56e97997ac55f4e50ad0"
        }
      },
      "name": "python3"
    },
    "language_info": {
      "codemirror_mode": {
        "name": "ipython",
        "version": 3
      },
      "file_extension": ".py",
      "mimetype": "text/x-python",
      "name": "python",
      "nbconvert_exporter": "python",
      "pygments_lexer": "ipython3",
      "version": "3.8.2-final"
    },
    "colab": {
      "name": "HW1_prog__nt1456_.ipynb",
      "provenance": [],
      "collapsed_sections": [
        "5cpfzUpSdEr8",
        "hy4phq_ldEsD",
        "GaojcODVdEsE"
      ],
      "include_colab_link": true
    }
  },
  "cells": [
    {
      "cell_type": "markdown",
      "metadata": {
        "id": "view-in-github",
        "colab_type": "text"
      },
      "source": [
        "<a href=\"https://colab.research.google.com/github/trannolis/data/blob/main/HW1_prog__nt1456_.ipynb\" target=\"_parent\"><img src=\"https://colab.research.google.com/assets/colab-badge.svg\" alt=\"Open In Colab\"/></a>"
      ]
    },
    {
      "cell_type": "markdown",
      "metadata": {
        "id": "vemjXPWJdErz"
      },
      "source": [
        "# Programming Assignment 1:  Simple Linear Regression\n",
        "\n",
        "In this assignment, you will load data, plot data, perform simple mathematical manipulations, and fit a simple linear regression model. The assignment uses the Boston housing data set, a widely-used machine learning data set for illustrating basic concepts.  \n",
        "\n",
        "\n",
        "Please add your own print statements to check your code to ensure your code is correct in every step. (Note: we will not be grading the print statements you add to your code.)"
      ]
    },
    {
      "cell_type": "markdown",
      "metadata": {
        "id": "gRV4kdIudEr0"
      },
      "source": [
        "## Before you start\n",
        "\n",
        "For this semester, the teaching staff of this course will be using Autograder to grade programming assignment. Here are three things we would like you to know before starting. `PLEASE READ CAREFULLY.` Otherwise, you might not receive grades for some questions.\n",
        "\n",
        "* If you see any blocks containing statements like `grader.check(\"Qxx\")`, please `DO NOT MODIFY` them. You can add new cells to the notebook, but just make sure there is `NO OTHER CELLS` between the answer cells containing tag `# TODO Qxx` and grading cells like 'grader.check(\"Qxx\")`. \n",
        "\n",
        "* If the instructions say that you are required to use certain names for output variables, please `FOLLOW THE instructions`. You can still create new variables, but just the make sure to `ASSIGN THE OUTPUT VARIABLES TO CORRECT VALUES`. \n",
        "\n",
        "* Some of the print statements are in the comments(print in Q17 and Q18 for example). Please feel free to use them, but you must `PUT THESE PRINT STATEMENTS IN COMMENTS` before you submit the programming assignment.\n",
        "\n",
        "* Please `APPEND YOUR NYU NETID` to the name your submission (for example, name your submission as \"HW1_prog_abc12345.ipynb\" when you submit on Gradescope, and replace <abc1234> with your NYU NetID). \n",
        "\n",
        "The autograder does not account for all test cases and edge cases, meaning that it is possible to receive a different grade than what the Autograder assigns you. The teaching staff will grade all submissions manually. Thank you very much for your understanding, and good luck with programming assignment 1!"
      ]
    },
    {
      "cell_type": "markdown",
      "metadata": {
        "collapsed": true,
        "id": "Qa9eVkU6dEr1"
      },
      "source": [
        "## Loading the data\n",
        "\n",
        "The Boston housing data set was collected in the 1970s to study the relationship between house price and various factors such as the house size, crime rate, socio-economic status, etc.  Since the variables are easy to understand, the data set is ideal for learning basic concepts in machine learning.  The raw data and a complete description of the dataset can be found on the UCI website:\n",
        "\n",
        "https://archive.ics.uci.edu/ml/machine-learning-databases/housing/\n",
        "\n",
        "In the lab, you will complete all the code marked `TODO`. \n",
        "\n",
        "First, complete the following code that uses the `pd.read_csv` command to read the data from the file located at\n",
        "\n",
        "https://archive.ics.uci.edu/ml/machine-learning-databases/housing/housing.data\n",
        "\n",
        "I have supplied a list `names` of the column headers.  You will have to set the options in the `read_csv` command to correctly delimit the data in the file and name the columns correctly."
      ]
    },
    {
      "cell_type": "code",
      "metadata": {
        "id": "rxI5kWHwdEr1"
      },
      "source": [
        "# run this code cell using shift+enter before moving further\n",
        "\n",
        "import numpy as np\n",
        "import pandas as pd\n",
        "import matplotlib\n",
        "from matplotlib import pyplot as plt\n",
        "%matplotlib inline"
      ],
      "execution_count": 1,
      "outputs": []
    },
    {
      "cell_type": "code",
      "metadata": {
        "id": "JY-cIf8_dEr2"
      },
      "source": [
        "names =[\n",
        "    'CRIM', 'ZN', 'INDUS', 'CHAS', 'NOX', 'RM', \n",
        "    'AGE',  'DIS', 'RAD', 'TAX', 'PTRATIO', 'B', 'LSTAT', 'PRICE'\n",
        "]\n",
        "\n",
        "# TODO Q01\n",
        "# Fix the code for df = pd.read_csv(...). You can see something is wrong.\n",
        "df = pd.read_csv('https://archive.ics.uci.edu/ml/machine-learning-databases/housing/housing.data', delim_whitespace=\"__\", header = None)\n",
        "df.columns = names"
      ],
      "execution_count": 2,
      "outputs": []
    },
    {
      "cell_type": "code",
      "metadata": {
        "deletable": false,
        "editable": false,
        "colab": {
          "base_uri": "https://localhost:8080/",
          "height": 164
        },
        "id": "reserved-badge",
        "outputId": "ef6ab1a3-d6eb-443a-fad9-cadb80be34de"
      },
      "source": [
        "grader.check(\"Q01\")"
      ],
      "execution_count": 3,
      "outputs": [
        {
          "output_type": "error",
          "ename": "NameError",
          "evalue": "ignored",
          "traceback": [
            "\u001b[0;31m---------------------------------------------------------------------------\u001b[0m",
            "\u001b[0;31mNameError\u001b[0m                                 Traceback (most recent call last)",
            "\u001b[0;32m<ipython-input-3-abc8174248d0>\u001b[0m in \u001b[0;36m<module>\u001b[0;34m()\u001b[0m\n\u001b[0;32m----> 1\u001b[0;31m \u001b[0mgrader\u001b[0m\u001b[0;34m.\u001b[0m\u001b[0mcheck\u001b[0m\u001b[0;34m(\u001b[0m\u001b[0;34m\"Q01\"\u001b[0m\u001b[0;34m)\u001b[0m\u001b[0;34m\u001b[0m\u001b[0;34m\u001b[0m\u001b[0m\n\u001b[0m",
            "\u001b[0;31mNameError\u001b[0m: name 'grader' is not defined"
          ]
        }
      ]
    },
    {
      "cell_type": "markdown",
      "metadata": {
        "id": "Z4kHB8xtdEr2"
      },
      "source": [
        "Display the first six rows of the data frame after adding the appropriate column headers"
      ]
    },
    {
      "cell_type": "code",
      "metadata": {
        "colab": {
          "base_uri": "https://localhost:8080/",
          "height": 235
        },
        "id": "6gg5RLwXdEr2",
        "outputId": "6221ffc9-e014-4022-f5bb-993793f7376e"
      },
      "source": [
        "df.head(6)"
      ],
      "execution_count": 4,
      "outputs": [
        {
          "output_type": "execute_result",
          "data": {
            "text/html": [
              "<div>\n",
              "<style scoped>\n",
              "    .dataframe tbody tr th:only-of-type {\n",
              "        vertical-align: middle;\n",
              "    }\n",
              "\n",
              "    .dataframe tbody tr th {\n",
              "        vertical-align: top;\n",
              "    }\n",
              "\n",
              "    .dataframe thead th {\n",
              "        text-align: right;\n",
              "    }\n",
              "</style>\n",
              "<table border=\"1\" class=\"dataframe\">\n",
              "  <thead>\n",
              "    <tr style=\"text-align: right;\">\n",
              "      <th></th>\n",
              "      <th>CRIM</th>\n",
              "      <th>ZN</th>\n",
              "      <th>INDUS</th>\n",
              "      <th>CHAS</th>\n",
              "      <th>NOX</th>\n",
              "      <th>RM</th>\n",
              "      <th>AGE</th>\n",
              "      <th>DIS</th>\n",
              "      <th>RAD</th>\n",
              "      <th>TAX</th>\n",
              "      <th>PTRATIO</th>\n",
              "      <th>B</th>\n",
              "      <th>LSTAT</th>\n",
              "      <th>PRICE</th>\n",
              "    </tr>\n",
              "  </thead>\n",
              "  <tbody>\n",
              "    <tr>\n",
              "      <th>0</th>\n",
              "      <td>0.00632</td>\n",
              "      <td>18.0</td>\n",
              "      <td>2.31</td>\n",
              "      <td>0</td>\n",
              "      <td>0.538</td>\n",
              "      <td>6.575</td>\n",
              "      <td>65.2</td>\n",
              "      <td>4.0900</td>\n",
              "      <td>1</td>\n",
              "      <td>296.0</td>\n",
              "      <td>15.3</td>\n",
              "      <td>396.90</td>\n",
              "      <td>4.98</td>\n",
              "      <td>24.0</td>\n",
              "    </tr>\n",
              "    <tr>\n",
              "      <th>1</th>\n",
              "      <td>0.02731</td>\n",
              "      <td>0.0</td>\n",
              "      <td>7.07</td>\n",
              "      <td>0</td>\n",
              "      <td>0.469</td>\n",
              "      <td>6.421</td>\n",
              "      <td>78.9</td>\n",
              "      <td>4.9671</td>\n",
              "      <td>2</td>\n",
              "      <td>242.0</td>\n",
              "      <td>17.8</td>\n",
              "      <td>396.90</td>\n",
              "      <td>9.14</td>\n",
              "      <td>21.6</td>\n",
              "    </tr>\n",
              "    <tr>\n",
              "      <th>2</th>\n",
              "      <td>0.02729</td>\n",
              "      <td>0.0</td>\n",
              "      <td>7.07</td>\n",
              "      <td>0</td>\n",
              "      <td>0.469</td>\n",
              "      <td>7.185</td>\n",
              "      <td>61.1</td>\n",
              "      <td>4.9671</td>\n",
              "      <td>2</td>\n",
              "      <td>242.0</td>\n",
              "      <td>17.8</td>\n",
              "      <td>392.83</td>\n",
              "      <td>4.03</td>\n",
              "      <td>34.7</td>\n",
              "    </tr>\n",
              "    <tr>\n",
              "      <th>3</th>\n",
              "      <td>0.03237</td>\n",
              "      <td>0.0</td>\n",
              "      <td>2.18</td>\n",
              "      <td>0</td>\n",
              "      <td>0.458</td>\n",
              "      <td>6.998</td>\n",
              "      <td>45.8</td>\n",
              "      <td>6.0622</td>\n",
              "      <td>3</td>\n",
              "      <td>222.0</td>\n",
              "      <td>18.7</td>\n",
              "      <td>394.63</td>\n",
              "      <td>2.94</td>\n",
              "      <td>33.4</td>\n",
              "    </tr>\n",
              "    <tr>\n",
              "      <th>4</th>\n",
              "      <td>0.06905</td>\n",
              "      <td>0.0</td>\n",
              "      <td>2.18</td>\n",
              "      <td>0</td>\n",
              "      <td>0.458</td>\n",
              "      <td>7.147</td>\n",
              "      <td>54.2</td>\n",
              "      <td>6.0622</td>\n",
              "      <td>3</td>\n",
              "      <td>222.0</td>\n",
              "      <td>18.7</td>\n",
              "      <td>396.90</td>\n",
              "      <td>5.33</td>\n",
              "      <td>36.2</td>\n",
              "    </tr>\n",
              "    <tr>\n",
              "      <th>5</th>\n",
              "      <td>0.02985</td>\n",
              "      <td>0.0</td>\n",
              "      <td>2.18</td>\n",
              "      <td>0</td>\n",
              "      <td>0.458</td>\n",
              "      <td>6.430</td>\n",
              "      <td>58.7</td>\n",
              "      <td>6.0622</td>\n",
              "      <td>3</td>\n",
              "      <td>222.0</td>\n",
              "      <td>18.7</td>\n",
              "      <td>394.12</td>\n",
              "      <td>5.21</td>\n",
              "      <td>28.7</td>\n",
              "    </tr>\n",
              "  </tbody>\n",
              "</table>\n",
              "</div>"
            ],
            "text/plain": [
              "      CRIM    ZN  INDUS  CHAS    NOX  ...    TAX  PTRATIO       B  LSTAT  PRICE\n",
              "0  0.00632  18.0   2.31     0  0.538  ...  296.0     15.3  396.90   4.98   24.0\n",
              "1  0.02731   0.0   7.07     0  0.469  ...  242.0     17.8  396.90   9.14   21.6\n",
              "2  0.02729   0.0   7.07     0  0.469  ...  242.0     17.8  392.83   4.03   34.7\n",
              "3  0.03237   0.0   2.18     0  0.458  ...  222.0     18.7  394.63   2.94   33.4\n",
              "4  0.06905   0.0   2.18     0  0.458  ...  222.0     18.7  396.90   5.33   36.2\n",
              "5  0.02985   0.0   2.18     0  0.458  ...  222.0     18.7  394.12   5.21   28.7\n",
              "\n",
              "[6 rows x 14 columns]"
            ]
          },
          "metadata": {
            "tags": []
          },
          "execution_count": 4
        }
      ]
    },
    {
      "cell_type": "markdown",
      "metadata": {
        "id": "x8bKJnotdEr2"
      },
      "source": [
        "## Basic Manipulations on the Data\n",
        "\n",
        "What is the shape of the data?  How many attributes are there?  How many samples?\n",
        "Print a statement of the form:\n",
        "\n",
        "    num samples=xxx, num attributes=yy"
      ]
    },
    {
      "cell_type": "markdown",
      "metadata": {
        "id": "XIQKIxEKdEr3"
      },
      "source": [
        "#### If done correctly: num_samples = 506, num_attributes = 14"
      ]
    },
    {
      "cell_type": "code",
      "metadata": {
        "collapsed": true,
        "colab": {
          "base_uri": "https://localhost:8080/"
        },
        "id": "BOMphE5ddEr3",
        "outputId": "d3a35638-fa04-46e6-96c9-eadf94d51bac"
      },
      "source": [
        "# TODO Q02\n",
        "num_samples = df.shape[0]\n",
        "num_attributes = df.shape[1]\n",
        "print(\"num samples=\"+ str(num_samples) + \", num attributes=\" + str(num_attributes))"
      ],
      "execution_count": 5,
      "outputs": [
        {
          "output_type": "stream",
          "text": [
            "num samples=506, num attributes=14\n"
          ],
          "name": "stdout"
        }
      ]
    },
    {
      "cell_type": "code",
      "metadata": {
        "deletable": false,
        "editable": false,
        "id": "confirmed-income"
      },
      "source": [
        "grader.check(\"Q02\")"
      ],
      "execution_count": null,
      "outputs": []
    },
    {
      "cell_type": "markdown",
      "metadata": {
        "id": "p0lIksjldEr3"
      },
      "source": [
        "Create a response vector `y` with the values in the column `PRICE`.  The vector `y` should be a 1D `numpy.array` structure."
      ]
    },
    {
      "cell_type": "code",
      "metadata": {
        "collapsed": true,
        "id": "aKq67uWadEr3"
      },
      "source": [
        "# TODO Q03\n",
        "y = df.PRICE"
      ],
      "execution_count": 6,
      "outputs": []
    },
    {
      "cell_type": "code",
      "metadata": {
        "deletable": false,
        "editable": false,
        "id": "explicit-glucose"
      },
      "source": [
        "grader.check(\"Q03\")"
      ],
      "execution_count": null,
      "outputs": []
    },
    {
      "cell_type": "markdown",
      "metadata": {
        "id": "ERZVQ13zdEr4"
      },
      "source": [
        "Use the response vector `y` to find the mean house price in thousands and the fraction of homes that are above $40k. (You may realize this is very cheap.  Prices have gone up a lot since the 1970s!).   Create print statements of the form:\n",
        "\n",
        "    The mean house price is xx.yy thousands of dollars.\n",
        "    Only x.y percent are above $40k."
      ]
    },
    {
      "cell_type": "code",
      "metadata": {
        "id": "yoC5I1DmdEr4"
      },
      "source": [
        ""
      ],
      "execution_count": null,
      "outputs": []
    },
    {
      "cell_type": "markdown",
      "metadata": {
        "id": "L_dMDJZadEr4"
      },
      "source": [
        "#### If done correctly: The mean house price is 22.53 thousands of dollars. Only 6.1 percent are above $40k."
      ]
    },
    {
      "cell_type": "code",
      "metadata": {
        "collapsed": true,
        "colab": {
          "base_uri": "https://localhost:8080/"
        },
        "id": "yPpuzLuMdEr4",
        "outputId": "e818dfa2-144f-4022-9b38-324b0f878552"
      },
      "source": [
        "# TODO Q04\n",
        "mean_house_price = np.round(y.mean(),decimals=2)\n",
        "percent_over_40k = np.round(np.mean(y>40)*100,decimals=1)\n",
        "print(\"The mean house price is \" + str(mean_house_price) + \" thousands of dollars.\")\n",
        "print(\"Only \" + str(percent_over_40k) + \" percent are above $40k.\")"
      ],
      "execution_count": 7,
      "outputs": [
        {
          "output_type": "stream",
          "text": [
            "The mean house price is 22.53 thousands of dollars.\n",
            "Only 6.1 percent are above $40k.\n"
          ],
          "name": "stdout"
        }
      ]
    },
    {
      "cell_type": "code",
      "metadata": {
        "deletable": false,
        "editable": false,
        "colab": {
          "base_uri": "https://localhost:8080/",
          "height": 164
        },
        "id": "guided-figure",
        "outputId": "ff3afeb0-f13b-4700-cebf-9dab6a916daf"
      },
      "source": [
        "grader.check(\"Q04\")"
      ],
      "execution_count": 8,
      "outputs": [
        {
          "output_type": "error",
          "ename": "NameError",
          "evalue": "ignored",
          "traceback": [
            "\u001b[0;31m---------------------------------------------------------------------------\u001b[0m",
            "\u001b[0;31mNameError\u001b[0m                                 Traceback (most recent call last)",
            "\u001b[0;32m<ipython-input-8-7d0698199cbb>\u001b[0m in \u001b[0;36m<module>\u001b[0;34m()\u001b[0m\n\u001b[0;32m----> 1\u001b[0;31m \u001b[0mgrader\u001b[0m\u001b[0;34m.\u001b[0m\u001b[0mcheck\u001b[0m\u001b[0;34m(\u001b[0m\u001b[0;34m\"Q04\"\u001b[0m\u001b[0;34m)\u001b[0m\u001b[0;34m\u001b[0m\u001b[0;34m\u001b[0m\u001b[0m\n\u001b[0m",
            "\u001b[0;31mNameError\u001b[0m: name 'grader' is not defined"
          ]
        }
      ]
    },
    {
      "cell_type": "markdown",
      "metadata": {
        "id": "XVv1rUGAdEr5"
      },
      "source": [
        "## Visualizing the Data\n",
        "\n",
        "Python's `matplotlib` has very good routines for plotting and visualizing data that closely follows the format of MATLAB programs.  You can load the `matplotlib` package with the following commands."
      ]
    },
    {
      "cell_type": "markdown",
      "metadata": {
        "id": "mjRKlw6cdEr5"
      },
      "source": [
        "Similar to the `y` vector, create a predictor vector `X` containing the values in the `RM` column, which represents the average number of rooms in each region."
      ]
    },
    {
      "cell_type": "code",
      "metadata": {
        "collapsed": true,
        "id": "J56ONCSodEr5"
      },
      "source": [
        "# TODO Q05\n",
        "X = df.RM"
      ],
      "execution_count": 9,
      "outputs": []
    },
    {
      "cell_type": "code",
      "metadata": {
        "deletable": false,
        "editable": false,
        "id": "black-adventure"
      },
      "source": [
        "grader.check(\"Q05\")"
      ],
      "execution_count": null,
      "outputs": []
    },
    {
      "cell_type": "markdown",
      "metadata": {
        "id": "K3rCY-ZcdEr5"
      },
      "source": [
        "Create a scatter plot of the price vs. the `RM` attribute.  Make sure your plot has grid lines and label the axes with reasonable labels so that someone else can understand the plot."
      ]
    },
    {
      "cell_type": "markdown",
      "metadata": {
        "deletable": false,
        "editable": false,
        "id": "aio1wO7bdEr5"
      },
      "source": [
        "<!-- BEGIN QUESTION -->\n",
        "\n",
        "<!--\n",
        "BEGIN QUESTION\n",
        "name: Q06\n",
        "manual: true\n",
        "points: 2\n",
        "-->"
      ]
    },
    {
      "cell_type": "code",
      "metadata": {
        "collapsed": true,
        "colab": {
          "base_uri": "https://localhost:8080/",
          "height": 312
        },
        "id": "Gj2KIcC0dEr5",
        "outputId": "54b38b2f-3b6a-48e1-87d5-70f8f6936a9d"
      },
      "source": [
        "# TODO Q06\n",
        "plt.scatter(X,y)\n",
        "plt.grid()\n",
        "plt.xlabel(\"Price (Thousands of Dollars)\")\n",
        "plt.ylabel(\"Average Number of Rooms\")\n",
        "plt.title(\"Price vs Average Number of Rooms\")"
      ],
      "execution_count": 10,
      "outputs": [
        {
          "output_type": "execute_result",
          "data": {
            "text/plain": [
              "Text(0.5, 1.0, 'Price vs Average Number of Rooms')"
            ]
          },
          "metadata": {
            "tags": []
          },
          "execution_count": 10
        },
        {
          "output_type": "display_data",
          "data": {
            "image/png": "[encoded data removed]",
            "text/plain": [
              "<Figure size 432x288 with 1 Axes>"
            ]
          },
          "metadata": {
            "tags": [],
            "needs_background": "light"
          }
        }
      ]
    },
    {
      "cell_type": "markdown",
      "metadata": {
        "id": "RJUxWLejdEr6"
      },
      "source": [
        "<!-- END QUESTION -->\n",
        "\n",
        "\n",
        "\n",
        "## Fitting a Simple Linear Model\n",
        "\n",
        "We will write a simple function to perform a linear fit. Use the formulae given in the class, to compute the parameters $w_0, w_1$ in the linear model $$y \\approx w_0 + w_1 X $$ as well as the coefficient of determination $R^2$."
      ]
    },
    {
      "cell_type": "code",
      "metadata": {
        "collapsed": true,
        "id": "-RsIxOH_dEr6"
      },
      "source": [
        "def fit_linear(X,y):\n",
        "    \"\"\"\n",
        "    Given vectors of data points (X,y), performs a fit for the linear model:\n",
        "       yhat = w0 + w1*X, \n",
        "    The function returns w0, w1 and rsq, where rsq is the coefficient of determination.\n",
        "    \"\"\"\n",
        "    # TODO Q07\n",
        "    # complete the following code\n",
        "    x_mean = X.mean()\n",
        "    y_mean = y.mean()\n",
        "    sxy = sum((X-x_mean)*(y-y_mean))\n",
        "    sxx = sum((X-x_mean)**2)\n",
        "    w1 = sxy/sxx\n",
        "    w0 = y_mean - w1*x_mean\n",
        "    regression_line = [(w1*x)+w0 for x in X]\n",
        "    error_squared = sum((y - regression_line)**2)\n",
        "    y_difference_squared = sum((y-y_mean)**2)\n",
        "    rsq = 1 - (error_squared / y_difference_squared)\n",
        "    return w0, w1, rsq\n"
      ],
      "execution_count": 11,
      "outputs": []
    },
    {
      "cell_type": "code",
      "metadata": {
        "deletable": false,
        "editable": false,
        "id": "liquid-albert"
      },
      "source": [
        "grader.check(\"Q07\")"
      ],
      "execution_count": null,
      "outputs": []
    },
    {
      "cell_type": "markdown",
      "metadata": {
        "id": "rXVo1V4ydEr6"
      },
      "source": [
        "Using the function `fit_linear` above, print the values `w0`, `w1` and `rsq` for the linear model of price vs. number of rooms."
      ]
    },
    {
      "cell_type": "code",
      "metadata": {
        "collapsed": true,
        "colab": {
          "base_uri": "https://localhost:8080/"
        },
        "id": "GL2Q660_dEr6",
        "outputId": "33a50b67-fdad-4acb-dc98-f7e082efabc8"
      },
      "source": [
        "# TODO Q08\n",
        "...\n",
        "# Print w0, w1, and rsq\n",
        "print(fit_linear(X,y))\n",
        "..."
      ],
      "execution_count": 12,
      "outputs": [
        {
          "output_type": "stream",
          "text": [
            "(-34.67062077643857, 9.102108981180303, 0.48352545599133456)\n"
          ],
          "name": "stdout"
        }
      ]
    },
    {
      "cell_type": "code",
      "metadata": {
        "deletable": false,
        "editable": false,
        "id": "ethical-vertex"
      },
      "source": [
        "grader.check(\"Q08\")"
      ],
      "execution_count": null,
      "outputs": []
    },
    {
      "cell_type": "markdown",
      "metadata": {
        "id": "lhl8MYUudEr6"
      },
      "source": [
        "Replot the scatter plot above, but now with the regression line.  You can create the regression line by creating points `xp` from say 4 to 9, computing the linear predicted values `yp` on those points and plotting `yp` vs. `xp` on top of the above plot."
      ]
    },
    {
      "cell_type": "markdown",
      "metadata": {
        "deletable": false,
        "editable": false,
        "id": "fTqRXMgXdEr7"
      },
      "source": [
        "<!-- BEGIN QUESTION -->\n",
        "\n",
        "<!--\n",
        "BEGIN QUESTION\n",
        "name: Q09\n",
        "manual: true\n",
        "points: 2\n",
        "-->"
      ]
    },
    {
      "cell_type": "code",
      "metadata": {
        "collapsed": true,
        "colab": {
          "base_uri": "https://localhost:8080/",
          "height": 312
        },
        "id": "pl_c9vBldEr7",
        "outputId": "c29c2878-d6d4-4b5b-caed-0a5dfe0a6dc5"
      },
      "source": [
        "# TODO Q09\n",
        "plt.scatter(X,y)\n",
        "plt.grid()\n",
        "plt.xlabel(\"Price (Thousands of Dollars)\")\n",
        "plt.ylabel(\"Average Number of Rooms\")\n",
        "plt.title(\"Price vs Average Number of Rooms\")\n",
        "w0,w1,R2 = fit_linear(X,y)\n",
        "xp = [i for i in range(4,10)]\n",
        "yp = [(w1*x)+w0 for x in range(4,10)]\n",
        "plt.plot(xp,yp,'-r')\n"
      ],
      "execution_count": 13,
      "outputs": [
        {
          "output_type": "execute_result",
          "data": {
            "text/plain": [
              "[<matplotlib.lines.Line2D at 0x7f712e4bae48>]"
            ]
          },
          "metadata": {
            "tags": []
          },
          "execution_count": 13
        },
        {
          "output_type": "display_data",
          "data": {
            "image/png": "[encoded data removed]",
            "text/plain": [
              "<Figure size 432x288 with 1 Axes>"
            ]
          },
          "metadata": {
            "tags": [],
            "needs_background": "light"
          }
        }
      ]
    },
    {
      "cell_type": "markdown",
      "metadata": {
        "id": "GAYNHw9odEr7"
      },
      "source": [
        "<!-- END QUESTION -->\n",
        "\n",
        "\n",
        "\n",
        "# Compute coefficients of determination\n",
        "\n",
        "We next compute the $R^2$ values for all the predictors and output the values in a table. Your table should look like the following, where each the first column is the attribute name and the second column is the $R^2$ value.\n",
        "\n",
        "    CRIM        0.151\n",
        "    ZN          0.130\n",
        "    INDUS       0.234\n",
        "    ...         ...\n",
        "\n",
        "To index over the set of colunms in the dataframe `df`, you can either loop over the items in the `names` lists (skipping over the final name `PRICE`) or loop over integer indices and use the method, `df.iloc`."
      ]
    },
    {
      "cell_type": "code",
      "metadata": {
        "collapsed": true,
        "colab": {
          "base_uri": "https://localhost:8080/"
        },
        "id": "UZfwThHkdEr7",
        "outputId": "7b4dd809-11c4-4bf8-95ac-d9b238592ac6"
      },
      "source": [
        "# TODO Q10\n",
        "#Please create your table as a numpy array, named it as coeff_determ, and set dtype as object\n",
        "\n",
        "coeff_determ = np.empty(0,dtype=object)\n",
        "for i in range(len(names)-1):\n",
        "  w0,w1,R2 = fit_linear(X, df[names[i]])\n",
        "  res = np.append(names[i], R2)\n",
        "  coeff_determ = np.append(coeff_determ, res)\n",
        "\n",
        "print(coeff_determ)"
      ],
      "execution_count": 14,
      "outputs": [
        {
          "output_type": "stream",
          "text": [
            "['CRIM' '0.04806911671608283' 'ZN' '0.09733812661002206' 'INDUS'\n",
            " '0.15340997355446562' 'CHAS' '0.00832678607194337' 'NOX'\n",
            " '0.09131770087582369' 'RM' '1.0' 'AGE' '0.05772723709138139' 'DIS'\n",
            " '0.04212600792212906' 'RAD' '0.04403562397254168' 'TAX'\n",
            " '0.08529193653992306' 'PTRATIO' '0.1263813126337462' 'B'\n",
            " '0.016401575294466397' 'LSTAT' '0.37676059461161115']\n"
          ],
          "name": "stdout"
        }
      ]
    },
    {
      "cell_type": "code",
      "metadata": {
        "deletable": false,
        "editable": false,
        "colab": {
          "base_uri": "https://localhost:8080/",
          "height": 164
        },
        "id": "judicial-vegetation",
        "outputId": "c2450a0f-0baa-4577-88d0-9a4e3c774282"
      },
      "source": [
        "grader.check(\"Q10\")"
      ],
      "execution_count": 15,
      "outputs": [
        {
          "output_type": "error",
          "ename": "NameError",
          "evalue": "ignored",
          "traceback": [
            "\u001b[0;31m---------------------------------------------------------------------------\u001b[0m",
            "\u001b[0;31mNameError\u001b[0m                                 Traceback (most recent call last)",
            "\u001b[0;32m<ipython-input-15-80a6d79bb9de>\u001b[0m in \u001b[0;36m<module>\u001b[0;34m()\u001b[0m\n\u001b[0;32m----> 1\u001b[0;31m \u001b[0mgrader\u001b[0m\u001b[0;34m.\u001b[0m\u001b[0mcheck\u001b[0m\u001b[0;34m(\u001b[0m\u001b[0;34m\"Q10\"\u001b[0m\u001b[0;34m)\u001b[0m\u001b[0;34m\u001b[0m\u001b[0;34m\u001b[0m\u001b[0m\n\u001b[0m",
            "\u001b[0;31mNameError\u001b[0m: name 'grader' is not defined"
          ]
        }
      ]
    },
    {
      "cell_type": "markdown",
      "metadata": {
        "id": "fHBFKbztdEr7"
      },
      "source": [
        "---------------------------------------------------------------------------------------------------------------------\n",
        "\n",
        "You have finished the first part of the asssignment, feel free to take a break and come back to do the second part"
      ]
    },
    {
      "cell_type": "markdown",
      "metadata": {
        "id": "5cpfzUpSdEr8"
      },
      "source": [
        "## Implementing Linear Regression Using Gradient Descent \n",
        "\n",
        "In this lab, you will be implementing the Linear Regression Model. We will be using the gradient descent algorithm (GDA) and the stochastic gradient descent algorithm (SGDA) to minimize the cost function as we covered in the class.\n"
      ]
    },
    {
      "cell_type": "markdown",
      "metadata": {
        "id": "aUJ73YxSdEr8"
      },
      "source": [
        "# Loading the data set."
      ]
    },
    {
      "cell_type": "code",
      "metadata": {
        "collapsed": true,
        "id": "eDUis6twdEr8"
      },
      "source": [
        "# After completing the code in this code cell, run this code cell before moving further.\n",
        "names =[\n",
        "    'CRIM', 'ZN', 'INDUS', 'CHAS', 'NOX', 'RM', \n",
        "    'AGE',  'DIS', 'RAD', 'TAX', 'PTRATIO', 'B', 'LSTAT', 'PRICE'\n",
        "]\n",
        "\n",
        "# TODO Q11\n",
        "df_gda = pd.read_csv('https://archive.ics.uci.edu/ml/machine-learning-databases/housing/housing.data', delim_whitespace= True, names=names, na_values='?', header = None)"
      ],
      "execution_count": 16,
      "outputs": []
    },
    {
      "cell_type": "code",
      "metadata": {
        "deletable": false,
        "editable": false,
        "colab": {
          "base_uri": "https://localhost:8080/",
          "height": 164
        },
        "id": "intended-inspection",
        "outputId": "2b3ef30c-50ad-43ba-f75f-ebb92894ad2d"
      },
      "source": [
        "grader.check(\"Q11\")"
      ],
      "execution_count": 17,
      "outputs": [
        {
          "output_type": "error",
          "ename": "NameError",
          "evalue": "ignored",
          "traceback": [
            "\u001b[0;31m---------------------------------------------------------------------------\u001b[0m",
            "\u001b[0;31mNameError\u001b[0m                                 Traceback (most recent call last)",
            "\u001b[0;32m<ipython-input-17-7069478f44b2>\u001b[0m in \u001b[0;36m<module>\u001b[0;34m()\u001b[0m\n\u001b[0;32m----> 1\u001b[0;31m \u001b[0mgrader\u001b[0m\u001b[0;34m.\u001b[0m\u001b[0mcheck\u001b[0m\u001b[0;34m(\u001b[0m\u001b[0;34m\"Q11\"\u001b[0m\u001b[0;34m)\u001b[0m\u001b[0;34m\u001b[0m\u001b[0;34m\u001b[0m\u001b[0m\n\u001b[0m",
            "\u001b[0;31mNameError\u001b[0m: name 'grader' is not defined"
          ]
        }
      ]
    },
    {
      "cell_type": "markdown",
      "metadata": {
        "id": "gbpa4R9xdEr9"
      },
      "source": [
        "Fetch the values from the `PRICE` and `RM` columns. into a smaller dataframe named `df1` from `df_gda`. This step is the same as was done in programming_assignment_1a.  Then drop rows with NaN values from `df1`, and save the result in `df2`."
      ]
    },
    {
      "cell_type": "markdown",
      "metadata": {
        "id": "ik7iKlIedEr9"
      },
      "source": [
        "Check the shape of df2. It should be (506,2)"
      ]
    },
    {
      "cell_type": "code",
      "metadata": {
        "collapsed": true,
        "id": "xaJhVJm-dEr9",
        "colab": {
          "base_uri": "https://localhost:8080/"
        },
        "outputId": "38c64529-c033-4c76-a06a-745fe64f709a"
      },
      "source": [
        "# TODO Q12\n",
        "df1 = pd.DataFrame.copy(df_gda)\n",
        "selected_columns = df1[['PRICE','RM']]\n",
        "df1.dropna()\n",
        "df2 = selected_columns.copy()\n",
        "np.shape(df2)"
      ],
      "execution_count": 70,
      "outputs": [
        {
          "output_type": "execute_result",
          "data": {
            "text/plain": [
              "(506, 2)"
            ]
          },
          "metadata": {
            "tags": []
          },
          "execution_count": 70
        }
      ]
    },
    {
      "cell_type": "code",
      "metadata": {
        "deletable": false,
        "editable": false,
        "id": "pretty-serial"
      },
      "source": [
        "grader.check(\"Q12\")"
      ],
      "execution_count": null,
      "outputs": []
    },
    {
      "cell_type": "markdown",
      "metadata": {
        "id": "IcbjVz1idEr9"
      },
      "source": [
        "Create a vector `y_gda` having the values of 'PRICE' column and vector `X_gda` having the values of 'RM' column. This step is also same as done in programming_assignment_1a."
      ]
    },
    {
      "cell_type": "code",
      "metadata": {
        "collapsed": true,
        "id": "rJ759hZpdEr9"
      },
      "source": [
        "# TODO Q13\n",
        "X_gda = df2.loc[:,'RM'].values\n",
        "y_gda = df2.loc[:,'PRICE'].values"
      ],
      "execution_count": 98,
      "outputs": []
    },
    {
      "cell_type": "code",
      "metadata": {
        "deletable": false,
        "editable": false,
        "id": "satisfactory-measurement"
      },
      "source": [
        "grader.check(\"Q13\")"
      ],
      "execution_count": null,
      "outputs": []
    },
    {
      "cell_type": "markdown",
      "metadata": {
        "id": "Fum2oIuCdEr9"
      },
      "source": [
        "Reshape `X_gda` and `y_gda` to be rank 2 (here we refer to the number of dimentions of a array as it's rank). After checking the shape of `X_gda` and `y_gda` in the above code cell, we see that `X_gda` and `y_gda` are rank 1 matricies. Before proceeding,  convert them to be rank 2 matricies. For example, you could use the command `X_2d = X_gda.reshape(X_gda.shape[0],1)` to reshape `X_gda`."
      ]
    },
    {
      "cell_type": "code",
      "metadata": {
        "collapsed": true,
        "id": "5bAarD4tdEr-"
      },
      "source": [
        "# TODO Q14\n",
        "X_2d = X_gda.reshape(X_gda.shape[0],1)\n",
        "y_2d = y_gda.reshape(y_gda.shape[0],1)\n"
      ],
      "execution_count": 102,
      "outputs": []
    },
    {
      "cell_type": "code",
      "metadata": {
        "deletable": false,
        "editable": false,
        "id": "great-chapel"
      },
      "source": [
        "grader.check(\"Q14\")"
      ],
      "execution_count": null,
      "outputs": []
    },
    {
      "cell_type": "markdown",
      "metadata": {
        "id": "eRNHttn9dEr-"
      },
      "source": [
        "# Gradient Descent\n",
        "Write the code to perform gradient descent in the function below.  In this assigment, we will run the algorithm a fixed number of iterations.  Later in the course, we will add a simple extension by adding a stopping criteria."
      ]
    },
    {
      "cell_type": "markdown",
      "metadata": {
        "id": "3Apv9_gsdEr-"
      },
      "source": [
        "Calculating the value of `N`, i.e. number of training examples. \n",
        "Hint: Value of `N` is equal to the number of rows in either `X_2d` or `y_2d` matrix which can be accessed using the numpy shape command."
      ]
    },
    {
      "cell_type": "code",
      "metadata": {
        "collapsed": true,
        "id": "9-FjnFevdEr-"
      },
      "source": [
        "# TODO Q15\n",
        "N = np.size(X_2d)"
      ],
      "execution_count": 107,
      "outputs": []
    },
    {
      "cell_type": "code",
      "metadata": {
        "deletable": false,
        "editable": false,
        "id": "original-group"
      },
      "source": [
        "grader.check(\"Q15\")"
      ],
      "execution_count": null,
      "outputs": []
    },
    {
      "cell_type": "markdown",
      "metadata": {
        "id": "9kIEq4C_dEr-"
      },
      "source": [
        "Compute the cost: Write the code to compute the cost inside the function. Do not change the function name or function parameters."
      ]
    },
    {
      "cell_type": "code",
      "metadata": {
        "collapsed": true,
        "id": "HC1rCrWidEr_"
      },
      "source": [
        "# TODO Q16\n",
        "def compute_cost(X_2d, y_2d, w0_gda, w1_gda, N):\n",
        "    #Write your code in place of None. Cost can be calculated using a single line of code\n",
        "    cost =  (1/N) * np.sum((y_2d - (w0_gda + (w1_gda*X_2d)))**2)\n",
        "    cost = (1/2)*cost\n",
        "    return cost"
      ],
      "execution_count": 165,
      "outputs": []
    },
    {
      "cell_type": "code",
      "metadata": {
        "deletable": false,
        "editable": false,
        "id": "substantial-belgium",
        "colab": {
          "base_uri": "https://localhost:8080/",
          "height": 164
        },
        "outputId": "304c5593-2063-41d7-b84a-c6fc493911b0"
      },
      "source": [
        "grader.check(\"Q16\")"
      ],
      "execution_count": 137,
      "outputs": [
        {
          "output_type": "error",
          "ename": "NameError",
          "evalue": "ignored",
          "traceback": [
            "\u001b[0;31m---------------------------------------------------------------------------\u001b[0m",
            "\u001b[0;31mNameError\u001b[0m                                 Traceback (most recent call last)",
            "\u001b[0;32m<ipython-input-137-d540b9ede642>\u001b[0m in \u001b[0;36m<module>\u001b[0;34m()\u001b[0m\n\u001b[0;32m----> 1\u001b[0;31m \u001b[0mgrader\u001b[0m\u001b[0;34m.\u001b[0m\u001b[0mcheck\u001b[0m\u001b[0;34m(\u001b[0m\u001b[0;34m\"Q16\"\u001b[0m\u001b[0;34m)\u001b[0m\u001b[0;34m\u001b[0m\u001b[0;34m\u001b[0m\u001b[0m\n\u001b[0m",
            "\u001b[0;31mNameError\u001b[0m: name 'grader' is not defined"
          ]
        }
      ]
    },
    {
      "cell_type": "markdown",
      "metadata": {
        "id": "_nfTrQm_dEr_"
      },
      "source": [
        "Before moving ahead, ensure that the code you have written to compute the cost is correct. Just run the below cell."
      ]
    },
    {
      "cell_type": "code",
      "metadata": {
        "collapsed": true,
        "id": "ar70t1W2dEr_",
        "colab": {
          "base_uri": "https://localhost:8080/"
        },
        "outputId": "74017a95-9ed5-4f79-f58f-77a3c3feacb0"
      },
      "source": [
        "cost_verify = compute_cost(X_2d, y_2d, 0, 0, N)\n",
        "print(cost_verify)"
      ],
      "execution_count": 166,
      "outputs": [
        {
          "output_type": "stream",
          "text": [
            "296.0734584980237\n"
          ],
          "name": "stdout"
        }
      ]
    },
    {
      "cell_type": "markdown",
      "metadata": {
        "id": "gGlxC6bxdEr_"
      },
      "source": [
        "Your output should be equal to 296.073458498.  Ensure your answer is correct before continuing"
      ]
    },
    {
      "cell_type": "code",
      "metadata": {
        "collapsed": true,
        "id": "udPiux18dEr_"
      },
      "source": [
        "# TODO Q17\n",
        "def gradient_descent(X_2d, y_2d, learning_rate, w0_gda, w1_gda, N, num_iters):\n",
        "    # In place of None, write the updated value of w0 in temp0 and of w1 in temp1\n",
        "    for i in range(num_iters):\n",
        "        temp0 = w0_gda - (learning_rate/N)*np.sum(w0_gda+w1_gda*X_2d-y_2d)\n",
        "        temp1 = w1_gda - (learning_rate/N)*np.sum((w0_gda+w1_gda*X_2d-y_2d)*X_2d)\n",
        "        w0_gda = temp0\n",
        "        w1_gda = temp1\n",
        "        if(i%100==0):\n",
        "            # In place of None, call the cost you just coded above\n",
        "            # You can uncomment print statements to see the details of execution, \n",
        "            # but please make sure you put prints in comments before submission\n",
        "            cost = compute_cost(X_2d, y_2d, w0_gda, w1_gda, N)\n",
        "            # print(\"Cost\")\n",
        "            # print(cost)\n",
        "            # print(\"w's\")\n",
        "            # print(w0_gda)\n",
        "            # print(w1_gda)\n",
        "            \n",
        "    return w0_gda, w1_gda       "
      ],
      "execution_count": 170,
      "outputs": []
    },
    {
      "cell_type": "code",
      "metadata": {
        "deletable": false,
        "editable": false,
        "id": "complicated-entrance"
      },
      "source": [
        "grader.check(\"Q17\")"
      ],
      "execution_count": null,
      "outputs": []
    },
    {
      "cell_type": "markdown",
      "metadata": {
        "id": "nNOMr34OdEr_"
      },
      "source": [
        "Before moving ahead, ensure that your code to update beta0 and beta1 is correct. Run the code cell below."
      ]
    },
    {
      "cell_type": "code",
      "metadata": {
        "collapsed": true,
        "id": "nr6z3SC4dEsA",
        "colab": {
          "base_uri": "https://localhost:8080/"
        },
        "outputId": "a0a0a846-2b1b-42d5-9846-7fa189bc4440"
      },
      "source": [
        "g = gradient_descent(X_2d, y_2d, 0.04, 0, 0, N, 10000)\n",
        "print(g[0])"
      ],
      "execution_count": 171,
      "outputs": [
        {
          "output_type": "stream",
          "text": [
            "-34.3837376153493\n"
          ],
          "name": "stdout"
        }
      ]
    },
    {
      "cell_type": "markdown",
      "metadata": {
        "id": "HgjA-leYdEsA"
      },
      "source": [
        "The last output should be: -34.3837376153. Ensure that you have the correct result before continuing."
      ]
    },
    {
      "cell_type": "markdown",
      "metadata": {
        "id": "zSbtKe1ydEsA"
      },
      "source": [
        "# Integerating the Batch Gradient Descent Function \n",
        "\n",
        "Using the above code, create a single function `linear_reg_model_gda`: This function uses the gradient descent algorithm to minimize the cost."
      ]
    },
    {
      "cell_type": "code",
      "metadata": {
        "collapsed": true,
        "id": "TJFO8ZMmdEsA"
      },
      "source": [
        "# TODO Q18\n",
        "def linear_reg_model_gda(X_2d, y_2d, N, learning_rate, num_iters) -> np.float64:\n",
        "    # initialize the values of parameters w0 and w1 both to 0\n",
        "    w0_gda = 0\n",
        "    w1_gda = 0\n",
        "    \n",
        "    # calculate the initial cost by calling the function you just coded above\n",
        "    initial_cost = compute_cost(X_2d, y_2d, w0_gda, w1_gda, N)\n",
        "    # You can uncomment print statements to see the details of execution, \n",
        "    # but please make sure you put prints in comments before submission\n",
        "    #print(\"Initial Cost\")\n",
        "    #print(initial_cost)\n",
        "    \n",
        "    #calculate the optimized value of w0 and w1 by calling the gradient_descent function coded above\n",
        "    \n",
        "    optimized = gradient_descent(X_2d, y_2d, learning_rate, w0_gda, w1_gda, N, num_iters)\n",
        "    w0_gda = optimized[0]\n",
        "    w1_gda = optimized[1]\n",
        "\n",
        "    #Calculate the cost with the optimized value of w0 and w1 by calling the cost function.\n",
        "    final_cost = compute_cost(X_2d, y_2d, w0_gda, w1_gda, N)\n",
        "    # You can uncomment print statements to see the details of execution, \n",
        "    # but please make sure you put prints in comments before submission\n",
        "    #print(\"Final Cost\")\n",
        "    #print(final_cost)\n",
        "    return w0_gda, w1_gda"
      ],
      "execution_count": 184,
      "outputs": []
    },
    {
      "cell_type": "code",
      "metadata": {
        "deletable": false,
        "editable": false,
        "id": "recorded-strike"
      },
      "source": [
        "grader.check(\"Q18\")"
      ],
      "execution_count": null,
      "outputs": []
    },
    {
      "cell_type": "markdown",
      "metadata": {
        "id": "7EHyEeFYdEsA"
      },
      "source": [
        "Now, when you have completed the `linear_reg_model_gda` function, you can use this function to find the optimized values of `w0_gda` and `w1_gda`. Using it, set the values of `learning_rate` and `num_iters` to something reasonable. You may have to call this function several times with different values of `num_iters` and `learning_rate` to find the optimal values of `w0_gda` and `w1_gda`. For some values of `learning_rate`, you may recieve incorrect values of `w0_gda` and `w1_gda`, wherein they reach a very large value(infinity) due to overshooting as was discussed in class. Finally, the values of `w0_gda`, `w1_gda` and `cost(RSS)` should be same(or very close to) the ones in Part 1 of this assignment."
      ]
    },
    {
      "cell_type": "code",
      "metadata": {
        "collapsed": true,
        "tags": [],
        "id": "Kcwaf_wHdEsB",
        "colab": {
          "base_uri": "https://localhost:8080/"
        },
        "outputId": "5225e109-d69f-4b19-9d9f-9524d5e0d2d3"
      },
      "source": [
        "# TODO Q19\n",
        "# Write your code below, use lr for learning_rate and n_itr for num_iters\n",
        "lr = 0.04\n",
        "n_itr = 10000\n",
        "# In place of None, call the linear_reg_model_gda.\n",
        "res = linear_reg_model_gda(X_2d, y_2d, N, lr, n_itr)\n",
        "w0_gda = res[0]\n",
        "w1_gda = res[1]"
      ],
      "execution_count": 210,
      "outputs": [
        {
          "output_type": "stream",
          "text": [
            "-34.3837376153493 9.057009493849197\n"
          ],
          "name": "stdout"
        }
      ]
    },
    {
      "cell_type": "code",
      "metadata": {
        "deletable": false,
        "editable": false,
        "id": "beautiful-combine"
      },
      "source": [
        "grader.check(\"Q19\")"
      ],
      "execution_count": null,
      "outputs": []
    },
    {
      "cell_type": "markdown",
      "metadata": {
        "id": "PTjMnfwYdEsB"
      },
      "source": [
        "# Predicting the Price of a House"
      ]
    },
    {
      "cell_type": "markdown",
      "metadata": {
        "id": "GZwgUYwtdEsB"
      },
      "source": [
        "Now you should have found the optimal values for `w0_gda` and `w1_gda`.  Once you have the optimal values for the parameters, you can predict the value of `predicted_y` (`PRICE`) using `x` (`RM`).  Compute the function below to prdict `y_predicted`, using `x`, `w0_gda` and `w1_gda`"
      ]
    },
    {
      "cell_type": "code",
      "metadata": {
        "collapsed": true,
        "id": "4pI6dodfdEsB"
      },
      "source": [
        "# TODO Q20\n",
        "def predict(x, w0_gda, w1_gda):\n",
        "    predicted_y = w0_gda + w1_gda*x\n",
        "    return predicted_y"
      ],
      "execution_count": 207,
      "outputs": []
    },
    {
      "cell_type": "code",
      "metadata": {
        "deletable": false,
        "editable": false,
        "colab": {
          "base_uri": "https://localhost:8080/",
          "height": 164
        },
        "id": "featured-truck",
        "outputId": "2fba393a-21c4-4faa-da31-49b76acda002"
      },
      "source": [
        "grader.check(\"Q20\")"
      ],
      "execution_count": 200,
      "outputs": [
        {
          "output_type": "error",
          "ename": "NameError",
          "evalue": "ignored",
          "traceback": [
            "\u001b[0;31m---------------------------------------------------------------------------\u001b[0m",
            "\u001b[0;31mNameError\u001b[0m                                 Traceback (most recent call last)",
            "\u001b[0;32m<ipython-input-200-4b0c6e315300>\u001b[0m in \u001b[0;36m<module>\u001b[0;34m()\u001b[0m\n\u001b[0;32m----> 1\u001b[0;31m \u001b[0mgrader\u001b[0m\u001b[0;34m.\u001b[0m\u001b[0mcheck\u001b[0m\u001b[0;34m(\u001b[0m\u001b[0;34m\"Q20\"\u001b[0m\u001b[0;34m)\u001b[0m\u001b[0;34m\u001b[0m\u001b[0;34m\u001b[0m\u001b[0m\n\u001b[0m",
            "\u001b[0;31mNameError\u001b[0m: name 'grader' is not defined"
          ]
        }
      ]
    },
    {
      "cell_type": "markdown",
      "metadata": {
        "id": "5OilvRVtdEsB"
      },
      "source": [
        "Now, predict the price of a house with rm=6 using ```predict()```. \n",
        "The value should be approximately 19.54424 "
      ]
    },
    {
      "cell_type": "code",
      "metadata": {
        "collapsed": true,
        "id": "gKdg316odEsB",
        "colab": {
          "base_uri": "https://localhost:8080/"
        },
        "outputId": "dc438be1-9716-4fe5-d66a-6eb27c98c726"
      },
      "source": [
        "# TODO Q21\n",
        "# Call the predict function with rm=6\n",
        "y_predict = predict(6,w0_gda,w1_gda)\n",
        "print(y_predict)"
      ],
      "execution_count": 212,
      "outputs": [
        {
          "output_type": "stream",
          "text": [
            "19.958319347745885\n"
          ],
          "name": "stdout"
        }
      ]
    },
    {
      "cell_type": "code",
      "metadata": {
        "deletable": false,
        "editable": false,
        "id": "secret-grace"
      },
      "source": [
        "grader.check(\"Q21\")"
      ],
      "execution_count": null,
      "outputs": []
    },
    {
      "cell_type": "markdown",
      "metadata": {
        "id": "8TANwq9ldEsC"
      },
      "source": [
        "# Normal Equation Method\n",
        "Now, we will be writing the code to find the values of parameters `w0` and `w1` for our linear regression model. This can also be used to cross-check the optimal values of `w0` and `w1` we just found above using the above two models. These values should be approximately the same."
      ]
    },
    {
      "cell_type": "markdown",
      "metadata": {
        "id": "1aug1b8ddEsC"
      },
      "source": [
        "Step 1: Appending a column of ones to `X_2d` in the left. Save this into `X_nem`. You can first create a column vector of ones say `a` (ensure this to have dimension (`N`,`1`) i.e. a rank 2 array). Now, you can use `np.hstack` to append it to the left of `X_2d`."
      ]
    },
    {
      "cell_type": "code",
      "metadata": {
        "collapsed": true,
        "id": "IykHuq43dEsC"
      },
      "source": [
        "# TODO Q22\n",
        "# Write the code below\n",
        "\n",
        "a = np.ones(N)\n",
        "a = a.reshape(a.shape[0],1)\n",
        "X_nem = np.hstack((a,X_2d))"
      ],
      "execution_count": 224,
      "outputs": []
    },
    {
      "cell_type": "code",
      "metadata": {
        "deletable": false,
        "editable": false,
        "id": "rising-cuisine"
      },
      "source": [
        "grader.check(\"Q22\")"
      ],
      "execution_count": null,
      "outputs": []
    },
    {
      "cell_type": "markdown",
      "metadata": {
        "id": "WNNKOLKOdEsC"
      },
      "source": [
        "Step 2: Instead of writing the code for normal equation in one line, you can break this into 3 parts: First calculate `q` = inverse of (dot of (`X_nem.T`,`X_nem`)) (these are pseudo commands, use original numpy commands to calculate `q`). Then `w` = dot of (`X_nem.T` , `y_2d`) and then `w_vec` = dot of (`q`,`w`). Here, `w_vec` is vector of dimension (2,1) having two values. Example `w0_nem = w_vec[0][0]`"
      ]
    },
    {
      "cell_type": "code",
      "metadata": {
        "collapsed": true,
        "id": "dNHE8ZlpdEsC"
      },
      "source": [
        "# TODO Q23\n",
        "# Write the code below\n",
        "q = np.linalg.inv(np.dot(X_nem.T,X_nem))\n",
        "w = np.dot(X_nem.T,y_2d)\n",
        "w_vec = np.dot(q,w)\n",
        "w0_nem = w_vec[0][0]\n",
        "w1_nem = w_vec[1][0]"
      ],
      "execution_count": 233,
      "outputs": []
    },
    {
      "cell_type": "code",
      "metadata": {
        "deletable": false,
        "editable": false,
        "id": "laughing-frank"
      },
      "source": [
        "grader.check(\"Q23\")"
      ],
      "execution_count": null,
      "outputs": []
    },
    {
      "cell_type": "code",
      "metadata": {
        "collapsed": true,
        "id": "KguyIf27dEsD",
        "colab": {
          "base_uri": "https://localhost:8080/"
        },
        "outputId": "43f9af35-dc8e-4629-a132-02c0f9ce82b7"
      },
      "source": [
        "print(\"w0_nem is \" + str(w0_nem))\n",
        "print(\"w1_nem is \" + str(w1_nem))"
      ],
      "execution_count": 234,
      "outputs": [
        {
          "output_type": "stream",
          "text": [
            "w0_nem is -34.67062077643469\n",
            "w1_nem is 9.102108981179676\n"
          ],
          "name": "stdout"
        }
      ]
    },
    {
      "cell_type": "markdown",
      "metadata": {
        "collapsed": true,
        "id": "F-LOzpRLdEsD"
      },
      "source": [
        "The Values of `w0_nem` and `w1_nem` you just got above should be approximately the same as the ones you got using `linear_reg_model_gda` or `linear_reg_model_sgda`."
      ]
    },
    {
      "cell_type": "markdown",
      "metadata": {
        "id": "hy4phq_ldEsD"
      },
      "source": [
        "\n",
        "# Optional (The following will not be graded):  \n",
        "# Stochastic Gradient Descent\n",
        "\n",
        "You can read more about stochastic gradient descent: https://en.wikipedia.org/wiki/Stochastic_gradient_descent\n",
        "\n",
        "To prevent cycles, shuffle the data for each pass.\n",
        "\n",
        "Write the code to perform a stochastic gradient descent. Remember, every update in a sgda uses examples one by one."
      ]
    },
    {
      "cell_type": "code",
      "metadata": {
        "collapsed": true,
        "id": "fQ7q_PcRdEsD"
      },
      "source": [
        "def stochastic_gradient_descent(x, y, learning_rate, w0, w1, N, num_iters):\n",
        "\n",
        "    for j in range(num_iters):\n",
        "    \n",
        "        for i in range(0,N):\n",
        "        # Write updated value in beta0 in temp0 and of beta1 in temp1\n",
        "            temp0 = None \n",
        "            temp1 = None\n",
        "            w0 = temp0\n",
        "            w1 = temp1   \n",
        "\n",
        "        if(j%2000==0):\n",
        "            cost= None\n",
        "            print(\"Cost\")\n",
        "            print(cost)\n",
        "            print(\"Betas\")\n",
        "            print(w0)\n",
        "            print(w1)           \n",
        "            \n",
        "    return w0,w1"
      ],
      "execution_count": null,
      "outputs": []
    },
    {
      "cell_type": "markdown",
      "metadata": {
        "id": "cWXShOXudEsD"
      },
      "source": [
        "Before moving ahead, ensure that your code to update beta0 and beta1 is correct. Run the code cell below. This may take some time to run completely."
      ]
    },
    {
      "cell_type": "markdown",
      "metadata": {
        "collapsed": true,
        "id": "jvbp511TdEsD"
      },
      "source": [
        "g=stochastic_gradient_descent(x, y, 0.0048, 0, 0, N, 10000)\n",
        "print(g[0])"
      ]
    },
    {
      "cell_type": "markdown",
      "metadata": {
        "id": "BJNqZEAJdEsD"
      },
      "source": [
        "The result should be: -17.98968896 . Ensure that your answer is correct before continuing."
      ]
    },
    {
      "cell_type": "markdown",
      "metadata": {
        "id": "GaojcODVdEsE"
      },
      "source": [
        "# Integrating the Stochastic Gradient Descent Algorithm\n",
        "\n",
        "Use this function to complete linear_reg_model_sgda(). This function uses stochastic gradient descent to minimize the cost."
      ]
    },
    {
      "cell_type": "code",
      "metadata": {
        "collapsed": true,
        "id": "0DHI2i1tdEsE"
      },
      "source": [
        "def linear_reg_model_sgda(x, y, N, learning_rate, num_iters):\n",
        "    \n",
        "     #initialize the values of parameters w0 and w1 both to 0\n",
        "    w0=None\n",
        "    w1=None\n",
        "    \n",
        "    #calculate the initial cost by calling the function cost you just coded above\n",
        "    print(\"Initial Cost\")\n",
        "    initial_cost=None\n",
        "    print(initial_cost)\n",
        "    \n",
        "    #calculate the optimized value of w0 and w1 by calling the stochastic_gradient_descent function coded above\n",
        "    \n",
        "    w0, w1= None\n",
        "    \n",
        "    #Calculate the cost with the optimized value of w0 and w1 by calling the cost function.\n",
        "    \n",
        "    final_cost=None\n",
        "    print(\"Final_cost\")\n",
        "    print(final_cost)\n",
        "    return w0, w1"
      ],
      "execution_count": null,
      "outputs": []
    },
    {
      "cell_type": "markdown",
      "metadata": {
        "id": "JGaNDBx0dEsE"
      },
      "source": [
        "Now, when you have completed linear_reg_model_sgda function, you can call this function to find the optimized values of w0 and w1. Before calling the function, set the values of learning_rate and num_iters appropriately. You may have to call this function several times with different values of num_iters and learning_rate to find the optimal values of w0 and w1. For a sufficiently high learning_rate, it may return extremely high values for w0 and w1 (infinity). Finally, the values of w0, w1 and cost(RSS) should be same(or nearly the same) as you got in the programming_assignment1a."
      ]
    },
    {
      "cell_type": "code",
      "metadata": {
        "collapsed": true,
        "id": "2NukrisBdEsE"
      },
      "source": [
        "# Write your code below\n",
        "learning_rate = None\n",
        "num_iters = None\n",
        "# In place of None call the function linear_reg_model_sgda.\n",
        "w0, w1 = None, None"
      ],
      "execution_count": null,
      "outputs": []
    }
  ]
}