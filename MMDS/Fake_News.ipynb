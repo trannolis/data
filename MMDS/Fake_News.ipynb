{
  "nbformat": 4,
  "nbformat_minor": 0,
  "metadata": {
    "colab": {
      "name": "Fake News.ipynb",
      "provenance": [],
      "collapsed_sections": []
    },
    "kernelspec": {
      "name": "python3",
      "display_name": "Python 3"
    },
    "language_info": {
      "name": "python"
    }
  },
  "cells": [
    {
      "cell_type": "markdown",
      "metadata": {
        "id": "JabvEB_Q80cb"
      },
      "source": [
        "# **Fake News Identification: Logistic Regression and SVM**\n",
        "\n",
        "* This notebook was made by Nick Tran and Nishant Date\n",
        "* Mining Massive Datasets\n",
        "* Intro to Machine Learning\n"
      ]
    },
    {
      "cell_type": "code",
      "metadata": {
        "id": "j-OzqCfjAC_O"
      },
      "source": [
        "import pandas as pd\n",
        "import sklearn\n",
        "import numpy as np\n",
        "#code for Logistic Regression\n",
        "from sklearn.linear_model import LogisticRegression # importing Sklearn's logistic regression's module\n",
        "from sklearn.preprocessing import LabelEncoder\n",
        "from sklearn import preprocessing # preprossing is what we do with the data before we run the learning algorithm\n",
        "import matplotlib.pyplot as plt\n",
        "from sklearn.preprocessing import MinMaxScaler\n",
        "%matplotlib inline\n",
        "from sklearn.preprocessing import PolynomialFeatures\n"
      ],
      "execution_count": 1,
      "outputs": []
    },
    {
      "cell_type": "markdown",
      "metadata": {
        "id": "pjRIWC6L5mNd"
      },
      "source": [
        "##Importing Data from Github Raw. Creating Three Dataframes: train, test, and"
      ]
    },
    {
      "cell_type": "code",
      "metadata": {
        "id": "joZx9d0S353j",
        "colab": {
          "base_uri": "https://localhost:8080/",
          "height": 223
        },
        "outputId": "aa4e4f90-03df-497e-96af-c8e0200cb9c9"
      },
      "source": [
        "train_url = 'https://raw.githubusercontent.com/NishantDate/ML_final_project/main/train.tsv'\n",
        "test_url = 'https://raw.githubusercontent.com/NishantDate/ML_final_project/main/test.tsv'\n",
        "valid_url = 'https://raw.githubusercontent.com/NishantDate/ML_final_project/main/valid.tsv'\n",
        "names = ['ID', 'label', 'statement', 'subject(s)', 'speaker', 'speaker title', 'state', 'party', 'barely true', 'false', 'half-true', 'mostly-true', 'pants on fire', 'context']\n",
        "\n",
        "train = pd.read_csv(train_url, sep='\\t', names = names )\n",
        "test = pd.read_csv(test_url, sep='\\t', names = names)\n",
        "valid = pd.read_csv(valid_url, sep='\\t',names = names)\n",
        "\n",
        "print(train.shape)\n",
        "print(test.shape)\n",
        "\n",
        "\n",
        "#encoding labels: See table 1 for results\n",
        "true_dict = {'pants-fire':0, 'false':0,'barely-true':1, 'half-true':1, 'mostly-true':1, 'true':1}\n",
        "\n",
        "train['label'] = train['label'].apply(lambda x: true_dict[x] if x in true_dict.keys() else np.nan)\n",
        "valid['label'] = valid['label'].apply(lambda x: true_dict[x] if x in true_dict.keys() else np.nan)\n",
        "test['label'] = test['label'].apply(lambda x: true_dict[x] if x in true_dict.keys() else np.nan)\n",
        "\n",
        "train.head()\n"
      ],
      "execution_count": 2,
      "outputs": [
        {
          "output_type": "stream",
          "text": [
            "(10240, 14)\n",
            "(1267, 14)\n"
          ],
          "name": "stdout"
        },
        {
          "output_type": "execute_result",
          "data": {
            "text/html": [
              "<div>\n",
              "<style scoped>\n",
              "    .dataframe tbody tr th:only-of-type {\n",
              "        vertical-align: middle;\n",
              "    }\n",
              "\n",
              "    .dataframe tbody tr th {\n",
              "        vertical-align: top;\n",
              "    }\n",
              "\n",
              "    .dataframe thead th {\n",
              "        text-align: right;\n",
              "    }\n",
              "</style>\n",
              "<table border=\"1\" class=\"dataframe\">\n",
              "  <thead>\n",
              "    <tr style=\"text-align: right;\">\n",
              "      <th></th>\n",
              "      <th>ID</th>\n",
              "      <th>label</th>\n",
              "      <th>statement</th>\n",
              "      <th>subject(s)</th>\n",
              "      <th>speaker</th>\n",
              "      <th>speaker title</th>\n",
              "      <th>state</th>\n",
              "      <th>party</th>\n",
              "      <th>barely true</th>\n",
              "      <th>false</th>\n",
              "      <th>half-true</th>\n",
              "      <th>mostly-true</th>\n",
              "      <th>pants on fire</th>\n",
              "      <th>context</th>\n",
              "    </tr>\n",
              "  </thead>\n",
              "  <tbody>\n",
              "    <tr>\n",
              "      <th>0</th>\n",
              "      <td>2635.json</td>\n",
              "      <td>0</td>\n",
              "      <td>Says the Annies List political group supports ...</td>\n",
              "      <td>abortion</td>\n",
              "      <td>dwayne-bohac</td>\n",
              "      <td>State representative</td>\n",
              "      <td>Texas</td>\n",
              "      <td>republican</td>\n",
              "      <td>0.0</td>\n",
              "      <td>1.0</td>\n",
              "      <td>0.0</td>\n",
              "      <td>0.0</td>\n",
              "      <td>0.0</td>\n",
              "      <td>a mailer</td>\n",
              "    </tr>\n",
              "    <tr>\n",
              "      <th>1</th>\n",
              "      <td>10540.json</td>\n",
              "      <td>1</td>\n",
              "      <td>When did the decline of coal start? It started...</td>\n",
              "      <td>energy,history,job-accomplishments</td>\n",
              "      <td>scott-surovell</td>\n",
              "      <td>State delegate</td>\n",
              "      <td>Virginia</td>\n",
              "      <td>democrat</td>\n",
              "      <td>0.0</td>\n",
              "      <td>0.0</td>\n",
              "      <td>1.0</td>\n",
              "      <td>1.0</td>\n",
              "      <td>0.0</td>\n",
              "      <td>a floor speech.</td>\n",
              "    </tr>\n",
              "    <tr>\n",
              "      <th>2</th>\n",
              "      <td>324.json</td>\n",
              "      <td>1</td>\n",
              "      <td>Hillary Clinton agrees with John McCain \"by vo...</td>\n",
              "      <td>foreign-policy</td>\n",
              "      <td>barack-obama</td>\n",
              "      <td>President</td>\n",
              "      <td>Illinois</td>\n",
              "      <td>democrat</td>\n",
              "      <td>70.0</td>\n",
              "      <td>71.0</td>\n",
              "      <td>160.0</td>\n",
              "      <td>163.0</td>\n",
              "      <td>9.0</td>\n",
              "      <td>Denver</td>\n",
              "    </tr>\n",
              "    <tr>\n",
              "      <th>3</th>\n",
              "      <td>1123.json</td>\n",
              "      <td>0</td>\n",
              "      <td>Health care reform legislation is likely to ma...</td>\n",
              "      <td>health-care</td>\n",
              "      <td>blog-posting</td>\n",
              "      <td>NaN</td>\n",
              "      <td>NaN</td>\n",
              "      <td>none</td>\n",
              "      <td>7.0</td>\n",
              "      <td>19.0</td>\n",
              "      <td>3.0</td>\n",
              "      <td>5.0</td>\n",
              "      <td>44.0</td>\n",
              "      <td>a news release</td>\n",
              "    </tr>\n",
              "    <tr>\n",
              "      <th>4</th>\n",
              "      <td>9028.json</td>\n",
              "      <td>1</td>\n",
              "      <td>The economic turnaround started at the end of ...</td>\n",
              "      <td>economy,jobs</td>\n",
              "      <td>charlie-crist</td>\n",
              "      <td>NaN</td>\n",
              "      <td>Florida</td>\n",
              "      <td>democrat</td>\n",
              "      <td>15.0</td>\n",
              "      <td>9.0</td>\n",
              "      <td>20.0</td>\n",
              "      <td>19.0</td>\n",
              "      <td>2.0</td>\n",
              "      <td>an interview on CNN</td>\n",
              "    </tr>\n",
              "  </tbody>\n",
              "</table>\n",
              "</div>"
            ],
            "text/plain": [
              "           ID  label  ... pants on fire              context\n",
              "0   2635.json      0  ...           0.0             a mailer\n",
              "1  10540.json      1  ...           0.0      a floor speech.\n",
              "2    324.json      1  ...           9.0               Denver\n",
              "3   1123.json      0  ...          44.0       a news release\n",
              "4   9028.json      1  ...           2.0  an interview on CNN\n",
              "\n",
              "[5 rows x 14 columns]"
            ]
          },
          "metadata": {
            "tags": []
          },
          "execution_count": 2
        }
      ]
    },
    {
      "cell_type": "code",
      "metadata": {
        "colab": {
          "base_uri": "https://localhost:8080/",
          "height": 191
        },
        "id": "YeVK7jFZxqfp",
        "outputId": "3148018c-9941-4efc-b56f-e8fdb3129096"
      },
      "source": [
        "#encoding labels using LabelEncoder: see Table 3 for results\n",
        "\n",
        "le = preprocessing.LabelEncoder()\n",
        "train['label'] = le.fit_transform(train['label'])\n",
        "test['label'] = le.fit_transform(test['label'])\n",
        "valid['label'] = le.fit_transform(valid['label'])\n",
        "train.head()"
      ],
      "execution_count": 3,
      "outputs": [
        {
          "output_type": "execute_result",
          "data": {
            "text/html": [
              "<div>\n",
              "<style scoped>\n",
              "    .dataframe tbody tr th:only-of-type {\n",
              "        vertical-align: middle;\n",
              "    }\n",
              "\n",
              "    .dataframe tbody tr th {\n",
              "        vertical-align: top;\n",
              "    }\n",
              "\n",
              "    .dataframe thead th {\n",
              "        text-align: right;\n",
              "    }\n",
              "</style>\n",
              "<table border=\"1\" class=\"dataframe\">\n",
              "  <thead>\n",
              "    <tr style=\"text-align: right;\">\n",
              "      <th></th>\n",
              "      <th>ID</th>\n",
              "      <th>label</th>\n",
              "      <th>statement</th>\n",
              "      <th>subject(s)</th>\n",
              "      <th>speaker</th>\n",
              "      <th>speaker title</th>\n",
              "      <th>state</th>\n",
              "      <th>party</th>\n",
              "      <th>barely true</th>\n",
              "      <th>false</th>\n",
              "      <th>half-true</th>\n",
              "      <th>mostly-true</th>\n",
              "      <th>pants on fire</th>\n",
              "      <th>context</th>\n",
              "    </tr>\n",
              "  </thead>\n",
              "  <tbody>\n",
              "    <tr>\n",
              "      <th>0</th>\n",
              "      <td>2635.json</td>\n",
              "      <td>0</td>\n",
              "      <td>Says the Annies List political group supports ...</td>\n",
              "      <td>abortion</td>\n",
              "      <td>dwayne-bohac</td>\n",
              "      <td>State representative</td>\n",
              "      <td>Texas</td>\n",
              "      <td>republican</td>\n",
              "      <td>0.0</td>\n",
              "      <td>1.0</td>\n",
              "      <td>0.0</td>\n",
              "      <td>0.0</td>\n",
              "      <td>0.0</td>\n",
              "      <td>a mailer</td>\n",
              "    </tr>\n",
              "    <tr>\n",
              "      <th>1</th>\n",
              "      <td>10540.json</td>\n",
              "      <td>1</td>\n",
              "      <td>When did the decline of coal start? It started...</td>\n",
              "      <td>energy,history,job-accomplishments</td>\n",
              "      <td>scott-surovell</td>\n",
              "      <td>State delegate</td>\n",
              "      <td>Virginia</td>\n",
              "      <td>democrat</td>\n",
              "      <td>0.0</td>\n",
              "      <td>0.0</td>\n",
              "      <td>1.0</td>\n",
              "      <td>1.0</td>\n",
              "      <td>0.0</td>\n",
              "      <td>a floor speech.</td>\n",
              "    </tr>\n",
              "    <tr>\n",
              "      <th>2</th>\n",
              "      <td>324.json</td>\n",
              "      <td>1</td>\n",
              "      <td>Hillary Clinton agrees with John McCain \"by vo...</td>\n",
              "      <td>foreign-policy</td>\n",
              "      <td>barack-obama</td>\n",
              "      <td>President</td>\n",
              "      <td>Illinois</td>\n",
              "      <td>democrat</td>\n",
              "      <td>70.0</td>\n",
              "      <td>71.0</td>\n",
              "      <td>160.0</td>\n",
              "      <td>163.0</td>\n",
              "      <td>9.0</td>\n",
              "      <td>Denver</td>\n",
              "    </tr>\n",
              "    <tr>\n",
              "      <th>3</th>\n",
              "      <td>1123.json</td>\n",
              "      <td>0</td>\n",
              "      <td>Health care reform legislation is likely to ma...</td>\n",
              "      <td>health-care</td>\n",
              "      <td>blog-posting</td>\n",
              "      <td>NaN</td>\n",
              "      <td>NaN</td>\n",
              "      <td>none</td>\n",
              "      <td>7.0</td>\n",
              "      <td>19.0</td>\n",
              "      <td>3.0</td>\n",
              "      <td>5.0</td>\n",
              "      <td>44.0</td>\n",
              "      <td>a news release</td>\n",
              "    </tr>\n",
              "    <tr>\n",
              "      <th>4</th>\n",
              "      <td>9028.json</td>\n",
              "      <td>1</td>\n",
              "      <td>The economic turnaround started at the end of ...</td>\n",
              "      <td>economy,jobs</td>\n",
              "      <td>charlie-crist</td>\n",
              "      <td>NaN</td>\n",
              "      <td>Florida</td>\n",
              "      <td>democrat</td>\n",
              "      <td>15.0</td>\n",
              "      <td>9.0</td>\n",
              "      <td>20.0</td>\n",
              "      <td>19.0</td>\n",
              "      <td>2.0</td>\n",
              "      <td>an interview on CNN</td>\n",
              "    </tr>\n",
              "  </tbody>\n",
              "</table>\n",
              "</div>"
            ],
            "text/plain": [
              "           ID  label  ... pants on fire              context\n",
              "0   2635.json      0  ...           0.0             a mailer\n",
              "1  10540.json      1  ...           0.0      a floor speech.\n",
              "2    324.json      1  ...           9.0               Denver\n",
              "3   1123.json      0  ...          44.0       a news release\n",
              "4   9028.json      1  ...           2.0  an interview on CNN\n",
              "\n",
              "[5 rows x 14 columns]"
            ]
          },
          "metadata": {
            "tags": []
          },
          "execution_count": 3
        }
      ]
    },
    {
      "cell_type": "markdown",
      "metadata": {
        "id": "tQxqqAOl5x6X"
      },
      "source": [
        "Using Logistic Regression\n"
      ]
    },
    {
      "cell_type": "code",
      "metadata": {
        "colab": {
          "base_uri": "https://localhost:8080/",
          "height": 256
        },
        "id": "qoVREdokMBnG",
        "outputId": "8c9b8fd8-43c0-4fc1-e0da-bce41813d01f"
      },
      "source": [
        "scaler = MinMaxScaler()\n",
        "\n",
        "def generate_truth(barely_true, false, half_true, mostly_true, pants_on_fire):\n",
        "  #generates the probability of the speaker telling the truth\n",
        "  arr = np.array([barely_true, false, half_true, mostly_true, pants_on_fire])\n",
        "  truths = barely_true + half_true + mostly_true\n",
        "  total = sum(arr)\n",
        "  score = truths / total #probability that the speaker will tell the truth\n",
        "  return score\n",
        "\n",
        "train['truth_score'] = train.apply(lambda x: generate_truth(x['barely true'],x['false'], x['half-true'], x['mostly-true'], x['pants on fire']), axis = 1)\n",
        "#train[['truth_score']] = scaler.fit_transform(train[['truth_score']])\n",
        "test['truth_score'] = test.apply(lambda x: generate_truth(x['barely true'],x['false'], x['half-true'], x['mostly-true'], x['pants on fire']), axis = 1)\n",
        "#test[['truth_score']] = scaler.fit_transform(test[['truth_score']])\n",
        "valid['truth_score'] = valid.apply(lambda x: generate_truth(x['barely true'],x['false'], x['half-true'], x['mostly-true'], x['pants on fire']), axis = 1)\n",
        "#valid[['truth_score']] = scaler.fit_transform(valid[['truth_score']])\n",
        "train.head()"
      ],
      "execution_count": 4,
      "outputs": [
        {
          "output_type": "stream",
          "text": [
            "/usr/local/lib/python3.7/dist-packages/ipykernel_launcher.py:8: RuntimeWarning: invalid value encountered in double_scalars\n",
            "  \n",
            "/usr/local/lib/python3.7/dist-packages/ipykernel_launcher.py:8: RuntimeWarning: invalid value encountered in long_scalars\n",
            "  \n"
          ],
          "name": "stderr"
        },
        {
          "output_type": "execute_result",
          "data": {
            "text/html": [
              "<div>\n",
              "<style scoped>\n",
              "    .dataframe tbody tr th:only-of-type {\n",
              "        vertical-align: middle;\n",
              "    }\n",
              "\n",
              "    .dataframe tbody tr th {\n",
              "        vertical-align: top;\n",
              "    }\n",
              "\n",
              "    .dataframe thead th {\n",
              "        text-align: right;\n",
              "    }\n",
              "</style>\n",
              "<table border=\"1\" class=\"dataframe\">\n",
              "  <thead>\n",
              "    <tr style=\"text-align: right;\">\n",
              "      <th></th>\n",
              "      <th>ID</th>\n",
              "      <th>label</th>\n",
              "      <th>statement</th>\n",
              "      <th>subject(s)</th>\n",
              "      <th>speaker</th>\n",
              "      <th>speaker title</th>\n",
              "      <th>state</th>\n",
              "      <th>party</th>\n",
              "      <th>barely true</th>\n",
              "      <th>false</th>\n",
              "      <th>half-true</th>\n",
              "      <th>mostly-true</th>\n",
              "      <th>pants on fire</th>\n",
              "      <th>context</th>\n",
              "      <th>truth_score</th>\n",
              "    </tr>\n",
              "  </thead>\n",
              "  <tbody>\n",
              "    <tr>\n",
              "      <th>0</th>\n",
              "      <td>2635.json</td>\n",
              "      <td>0</td>\n",
              "      <td>Says the Annies List political group supports ...</td>\n",
              "      <td>abortion</td>\n",
              "      <td>dwayne-bohac</td>\n",
              "      <td>State representative</td>\n",
              "      <td>Texas</td>\n",
              "      <td>republican</td>\n",
              "      <td>0.0</td>\n",
              "      <td>1.0</td>\n",
              "      <td>0.0</td>\n",
              "      <td>0.0</td>\n",
              "      <td>0.0</td>\n",
              "      <td>a mailer</td>\n",
              "      <td>0.000000</td>\n",
              "    </tr>\n",
              "    <tr>\n",
              "      <th>1</th>\n",
              "      <td>10540.json</td>\n",
              "      <td>1</td>\n",
              "      <td>When did the decline of coal start? It started...</td>\n",
              "      <td>energy,history,job-accomplishments</td>\n",
              "      <td>scott-surovell</td>\n",
              "      <td>State delegate</td>\n",
              "      <td>Virginia</td>\n",
              "      <td>democrat</td>\n",
              "      <td>0.0</td>\n",
              "      <td>0.0</td>\n",
              "      <td>1.0</td>\n",
              "      <td>1.0</td>\n",
              "      <td>0.0</td>\n",
              "      <td>a floor speech.</td>\n",
              "      <td>1.000000</td>\n",
              "    </tr>\n",
              "    <tr>\n",
              "      <th>2</th>\n",
              "      <td>324.json</td>\n",
              "      <td>1</td>\n",
              "      <td>Hillary Clinton agrees with John McCain \"by vo...</td>\n",
              "      <td>foreign-policy</td>\n",
              "      <td>barack-obama</td>\n",
              "      <td>President</td>\n",
              "      <td>Illinois</td>\n",
              "      <td>democrat</td>\n",
              "      <td>70.0</td>\n",
              "      <td>71.0</td>\n",
              "      <td>160.0</td>\n",
              "      <td>163.0</td>\n",
              "      <td>9.0</td>\n",
              "      <td>Denver</td>\n",
              "      <td>0.830867</td>\n",
              "    </tr>\n",
              "    <tr>\n",
              "      <th>3</th>\n",
              "      <td>1123.json</td>\n",
              "      <td>0</td>\n",
              "      <td>Health care reform legislation is likely to ma...</td>\n",
              "      <td>health-care</td>\n",
              "      <td>blog-posting</td>\n",
              "      <td>NaN</td>\n",
              "      <td>NaN</td>\n",
              "      <td>none</td>\n",
              "      <td>7.0</td>\n",
              "      <td>19.0</td>\n",
              "      <td>3.0</td>\n",
              "      <td>5.0</td>\n",
              "      <td>44.0</td>\n",
              "      <td>a news release</td>\n",
              "      <td>0.192308</td>\n",
              "    </tr>\n",
              "    <tr>\n",
              "      <th>4</th>\n",
              "      <td>9028.json</td>\n",
              "      <td>1</td>\n",
              "      <td>The economic turnaround started at the end of ...</td>\n",
              "      <td>economy,jobs</td>\n",
              "      <td>charlie-crist</td>\n",
              "      <td>NaN</td>\n",
              "      <td>Florida</td>\n",
              "      <td>democrat</td>\n",
              "      <td>15.0</td>\n",
              "      <td>9.0</td>\n",
              "      <td>20.0</td>\n",
              "      <td>19.0</td>\n",
              "      <td>2.0</td>\n",
              "      <td>an interview on CNN</td>\n",
              "      <td>0.830769</td>\n",
              "    </tr>\n",
              "  </tbody>\n",
              "</table>\n",
              "</div>"
            ],
            "text/plain": [
              "           ID  label  ...              context truth_score\n",
              "0   2635.json      0  ...             a mailer    0.000000\n",
              "1  10540.json      1  ...      a floor speech.    1.000000\n",
              "2    324.json      1  ...               Denver    0.830867\n",
              "3   1123.json      0  ...       a news release    0.192308\n",
              "4   9028.json      1  ...  an interview on CNN    0.830769\n",
              "\n",
              "[5 rows x 15 columns]"
            ]
          },
          "metadata": {
            "tags": []
          },
          "execution_count": 4
        }
      ]
    },
    {
      "cell_type": "code",
      "metadata": {
        "colab": {
          "base_uri": "https://localhost:8080/"
        },
        "id": "3zLW0pCnMEQM",
        "outputId": "64365b86-a143-4d48-c836-dab0366a8067"
      },
      "source": [
        "#Encoding parties -- republican: 0 , democrat: 1, Other:2\n",
        "true_dict_party = {'republican':0, 'democrat': 1, 'other': 2 }\n",
        "train['party'] = train['party'].apply(lambda x: true_dict_party[x] if x in true_dict_party.keys() else true_dict_party['other'])\n",
        "valid['party'] = valid['party'].apply(lambda x: true_dict_party[x] if x in true_dict_party.keys() else true_dict_party['other'])\n",
        "test['party'] = test['party'].apply(lambda x: true_dict_party[x] if x in true_dict_party.keys() else true_dict_party['other'])\n",
        "train['state'].value_counts()"
      ],
      "execution_count": 5,
      "outputs": [
        {
          "output_type": "execute_result",
          "data": {
            "text/plain": [
              "Texas                                                1009\n",
              "Florida                                               997\n",
              "Wisconsin                                             713\n",
              "New York                                              657\n",
              "Illinois                                              556\n",
              "                                                     ... \n",
              "Virginia director, Coalition to Stop Gun Violence       1\n",
              "Atlanta                                                 1\n",
              "Virgiia                                                 1\n",
              "United Kingdom                                          1\n",
              "Montana                                                 1\n",
              "Name: state, Length: 84, dtype: int64"
            ]
          },
          "metadata": {
            "tags": []
          },
          "execution_count": 5
        }
      ]
    },
    {
      "cell_type": "code",
      "metadata": {
        "id": "3OMo85qaYUG5"
      },
      "source": [
        "#encoding states\n",
        "number = LabelEncoder()\n",
        "train['state'] = number.fit_transform(train['state'].astype('str'))\n",
        "test['state'] = number.fit_transform(test['state'].astype('str'))\n",
        "valid['state'] = number.fit_transform(valid['state'].astype('str'))       "
      ],
      "execution_count": 6,
      "outputs": []
    },
    {
      "cell_type": "code",
      "metadata": {
        "colab": {
          "base_uri": "https://localhost:8080/",
          "height": 191
        },
        "id": "kKsZkrTPMLzp",
        "outputId": "f2304f97-664f-4bd8-a19d-9637a9584f4a"
      },
      "source": [
        "train.fillna(value = True)\n",
        "test.fillna(value = True)\n",
        "valid.fillna(value = True)\n",
        "train.head()"
      ],
      "execution_count": 7,
      "outputs": [
        {
          "output_type": "execute_result",
          "data": {
            "text/html": [
              "<div>\n",
              "<style scoped>\n",
              "    .dataframe tbody tr th:only-of-type {\n",
              "        vertical-align: middle;\n",
              "    }\n",
              "\n",
              "    .dataframe tbody tr th {\n",
              "        vertical-align: top;\n",
              "    }\n",
              "\n",
              "    .dataframe thead th {\n",
              "        text-align: right;\n",
              "    }\n",
              "</style>\n",
              "<table border=\"1\" class=\"dataframe\">\n",
              "  <thead>\n",
              "    <tr style=\"text-align: right;\">\n",
              "      <th></th>\n",
              "      <th>ID</th>\n",
              "      <th>label</th>\n",
              "      <th>statement</th>\n",
              "      <th>subject(s)</th>\n",
              "      <th>speaker</th>\n",
              "      <th>speaker title</th>\n",
              "      <th>state</th>\n",
              "      <th>party</th>\n",
              "      <th>barely true</th>\n",
              "      <th>false</th>\n",
              "      <th>half-true</th>\n",
              "      <th>mostly-true</th>\n",
              "      <th>pants on fire</th>\n",
              "      <th>context</th>\n",
              "      <th>truth_score</th>\n",
              "    </tr>\n",
              "  </thead>\n",
              "  <tbody>\n",
              "    <tr>\n",
              "      <th>0</th>\n",
              "      <td>2635.json</td>\n",
              "      <td>0</td>\n",
              "      <td>Says the Annies List political group supports ...</td>\n",
              "      <td>abortion</td>\n",
              "      <td>dwayne-bohac</td>\n",
              "      <td>State representative</td>\n",
              "      <td>62</td>\n",
              "      <td>0</td>\n",
              "      <td>0.0</td>\n",
              "      <td>1.0</td>\n",
              "      <td>0.0</td>\n",
              "      <td>0.0</td>\n",
              "      <td>0.0</td>\n",
              "      <td>a mailer</td>\n",
              "      <td>0.000000</td>\n",
              "    </tr>\n",
              "    <tr>\n",
              "      <th>1</th>\n",
              "      <td>10540.json</td>\n",
              "      <td>1</td>\n",
              "      <td>When did the decline of coal start? It started...</td>\n",
              "      <td>energy,history,job-accomplishments</td>\n",
              "      <td>scott-surovell</td>\n",
              "      <td>State delegate</td>\n",
              "      <td>69</td>\n",
              "      <td>1</td>\n",
              "      <td>0.0</td>\n",
              "      <td>0.0</td>\n",
              "      <td>1.0</td>\n",
              "      <td>1.0</td>\n",
              "      <td>0.0</td>\n",
              "      <td>a floor speech.</td>\n",
              "      <td>1.000000</td>\n",
              "    </tr>\n",
              "    <tr>\n",
              "      <th>2</th>\n",
              "      <td>324.json</td>\n",
              "      <td>1</td>\n",
              "      <td>Hillary Clinton agrees with John McCain \"by vo...</td>\n",
              "      <td>foreign-policy</td>\n",
              "      <td>barack-obama</td>\n",
              "      <td>President</td>\n",
              "      <td>19</td>\n",
              "      <td>1</td>\n",
              "      <td>70.0</td>\n",
              "      <td>71.0</td>\n",
              "      <td>160.0</td>\n",
              "      <td>163.0</td>\n",
              "      <td>9.0</td>\n",
              "      <td>Denver</td>\n",
              "      <td>0.830867</td>\n",
              "    </tr>\n",
              "    <tr>\n",
              "      <th>3</th>\n",
              "      <td>1123.json</td>\n",
              "      <td>0</td>\n",
              "      <td>Health care reform legislation is likely to ma...</td>\n",
              "      <td>health-care</td>\n",
              "      <td>blog-posting</td>\n",
              "      <td>NaN</td>\n",
              "      <td>82</td>\n",
              "      <td>2</td>\n",
              "      <td>7.0</td>\n",
              "      <td>19.0</td>\n",
              "      <td>3.0</td>\n",
              "      <td>5.0</td>\n",
              "      <td>44.0</td>\n",
              "      <td>a news release</td>\n",
              "      <td>0.192308</td>\n",
              "    </tr>\n",
              "    <tr>\n",
              "      <th>4</th>\n",
              "      <td>9028.json</td>\n",
              "      <td>1</td>\n",
              "      <td>The economic turnaround started at the end of ...</td>\n",
              "      <td>economy,jobs</td>\n",
              "      <td>charlie-crist</td>\n",
              "      <td>NaN</td>\n",
              "      <td>13</td>\n",
              "      <td>1</td>\n",
              "      <td>15.0</td>\n",
              "      <td>9.0</td>\n",
              "      <td>20.0</td>\n",
              "      <td>19.0</td>\n",
              "      <td>2.0</td>\n",
              "      <td>an interview on CNN</td>\n",
              "      <td>0.830769</td>\n",
              "    </tr>\n",
              "  </tbody>\n",
              "</table>\n",
              "</div>"
            ],
            "text/plain": [
              "           ID  label  ...              context truth_score\n",
              "0   2635.json      0  ...             a mailer    0.000000\n",
              "1  10540.json      1  ...      a floor speech.    1.000000\n",
              "2    324.json      1  ...               Denver    0.830867\n",
              "3   1123.json      0  ...       a news release    0.192308\n",
              "4   9028.json      1  ...  an interview on CNN    0.830769\n",
              "\n",
              "[5 rows x 15 columns]"
            ]
          },
          "metadata": {
            "tags": []
          },
          "execution_count": 7
        }
      ]
    },
    {
      "cell_type": "code",
      "metadata": {
        "id": "8GFSxxIaVx5S"
      },
      "source": [
        "#X_train = train[['barely true','false','half-true','mostly-true', 'pants on fire']]\n",
        "#X_train = train[['party', 'state', 'barely true','false','half-true','mostly-true', 'pants on fire', 'truth_score']]\n",
        "X_train = train[['party', 'state', 'truth_score']]\n",
        "#X_train = train[['truth_score']]\n",
        "\n",
        "Y_train = train['label']\n",
        "\n",
        "#X_test = test[['barely true','false','half-true','mostly-true', 'pants on fire']]\n",
        "#X_test = test[['party', 'state', 'barely true','false','half-true','mostly-true', 'pants on fire', 'truth_score']]\n",
        "#X_test = test[['party', 'barely true','false','half-true','mostly-true', 'pants on fire']]\n",
        "X_test = test[['party', 'state', 'truth_score']]\n",
        "#X_test = test[['truth_score']]\n",
        "Y_test = test['label']"
      ],
      "execution_count": 8,
      "outputs": []
    },
    {
      "cell_type": "code",
      "metadata": {
        "id": "sajhtFPmMOJX"
      },
      "source": [
        "# Initialize an empty list to store values of test set accuracy.\n",
        "acc_test = []\n",
        "acc_train_logreg = []\n",
        "acc_test_logreg = []"
      ],
      "execution_count": 9,
      "outputs": []
    },
    {
      "cell_type": "code",
      "metadata": {
        "id": "Y0BZpMYnMSpX"
      },
      "source": [
        "# Initialize an empty list to store different values of parameter 'c'.\n",
        "c_logreg = []"
      ],
      "execution_count": 10,
      "outputs": []
    },
    {
      "cell_type": "code",
      "metadata": {
        "id": "M2YliTJzMVZ6"
      },
      "source": [
        "# Complete the function logreg that accepts 'c' as a parameter, which is used to create logreg model \n",
        "# with different values of C.\n",
        "from sklearn import linear_model\n",
        "def logreg_model(c , X_train, Y_train, X_test, Y_test):\n",
        "    # Create an object of logistic regression model using linear_model.\n",
        "    # Pass the value of penalty as 'L1'. By default, it is 'L2'.\n",
        "    # Pass the value of C = c. Note that C is the inverse of lambda. So, small value of C i.e. b/w 0 and 1 \n",
        "    # means stronger regularization and large value means less regularization.\n",
        "    # Also, in sklearn, L1 is only supported with solver = 'saga'. Solver is the type of optimization algorithm like GDA or\n",
        "    # SGDA, which is to be used. So, 'saga' is another algorithm like that. Pass the value of solver as 'saga'\n",
        "\n",
        "    # TODO - Create the Logistic Regression model object as described above and save it to logreg - 5 points\n",
        "    logreg = linear_model.LogisticRegression(C=c,penalty='l1', warm_start=True, solver='saga')\n",
        "    \n",
        "    # TODO - Fit the model on the training set - 5 points\n",
        "    logreg.fit(X_train, Y_train)\n",
        "    \n",
        "    # TODO - Find the prediction on training set - 5 points\n",
        "    Yhat_train = logreg.predict(X_train)\n",
        "    \n",
        "    # Adding training accuracy to acc_train_logreg\n",
        "    acc_train = np.mean(Yhat_train == Y_train)\n",
        "    acc_train_logreg.append(acc_train)\n",
        "    print(\"Accuracy on training data = %f\" % acc_train)\n",
        "    \n",
        "    # TODO - Find the prediction on test set - 5 points\n",
        "    Yhat_test = logreg.predict(X_test)\n",
        "    \n",
        "    # Adding testing accuracy to acc_test_logreg\n",
        "    acc_test = np.mean(Yhat_test == Y_test)\n",
        "    acc_test_logreg.append(acc_test)\n",
        "    print(\"Accuracy on test data = %f\" % acc_test)\n",
        "    \n",
        "    # Appending value of c for graphing purposes\n",
        "    c_logreg.append(c)"
      ],
      "execution_count": 11,
      "outputs": []
    },
    {
      "cell_type": "code",
      "metadata": {
        "colab": {
          "base_uri": "https://localhost:8080/"
        },
        "id": "IyJPjVtkMXTe",
        "outputId": "904a90e8-f706-4413-b8e0-ffe7e7ff7e13"
      },
      "source": [
        "cVals = [0.0001, 0.001, 0.01, 0.1, 1, 10, 100]\n",
        "X_train,Y_train, X_test, Y_test =  X_train.fillna(value= True), Y_train.fillna(value= True), X_test.fillna(value= True), Y_test.fillna(value= True)\n",
        "for c in cVals:\n",
        "    logreg_model(c, X_train.fillna(value= True), Y_train.fillna(value= True), X_test.fillna(value= True), Y_test.fillna(value= True))"
      ],
      "execution_count": 12,
      "outputs": [
        {
          "output_type": "stream",
          "text": [
            "Accuracy on training data = 0.723242\n",
            "Accuracy on test data = 0.730860\n",
            "Accuracy on training data = 0.723242\n",
            "Accuracy on test data = 0.730860\n"
          ],
          "name": "stdout"
        },
        {
          "output_type": "stream",
          "text": [
            "/usr/local/lib/python3.7/dist-packages/sklearn/linear_model/_sag.py:330: ConvergenceWarning: The max_iter was reached which means the coef_ did not converge\n",
            "  \"the coef_ did not converge\", ConvergenceWarning)\n",
            "/usr/local/lib/python3.7/dist-packages/sklearn/linear_model/_sag.py:330: ConvergenceWarning: The max_iter was reached which means the coef_ did not converge\n",
            "  \"the coef_ did not converge\", ConvergenceWarning)\n"
          ],
          "name": "stderr"
        },
        {
          "output_type": "stream",
          "text": [
            "Accuracy on training data = 0.799512\n",
            "Accuracy on test data = 0.807419\n",
            "Accuracy on training data = 0.799609\n",
            "Accuracy on test data = 0.806630\n"
          ],
          "name": "stdout"
        },
        {
          "output_type": "stream",
          "text": [
            "/usr/local/lib/python3.7/dist-packages/sklearn/linear_model/_sag.py:330: ConvergenceWarning: The max_iter was reached which means the coef_ did not converge\n",
            "  \"the coef_ did not converge\", ConvergenceWarning)\n",
            "/usr/local/lib/python3.7/dist-packages/sklearn/linear_model/_sag.py:330: ConvergenceWarning: The max_iter was reached which means the coef_ did not converge\n",
            "  \"the coef_ did not converge\", ConvergenceWarning)\n"
          ],
          "name": "stderr"
        },
        {
          "output_type": "stream",
          "text": [
            "Accuracy on training data = 0.799609\n",
            "Accuracy on test data = 0.808208\n",
            "Accuracy on training data = 0.799609\n",
            "Accuracy on test data = 0.808208\n",
            "Accuracy on training data = 0.799609\n",
            "Accuracy on test data = 0.808208\n"
          ],
          "name": "stdout"
        },
        {
          "output_type": "stream",
          "text": [
            "/usr/local/lib/python3.7/dist-packages/sklearn/linear_model/_sag.py:330: ConvergenceWarning: The max_iter was reached which means the coef_ did not converge\n",
            "  \"the coef_ did not converge\", ConvergenceWarning)\n"
          ],
          "name": "stderr"
        }
      ]
    },
    {
      "cell_type": "code",
      "metadata": {
        "colab": {
          "base_uri": "https://localhost:8080/",
          "height": 671
        },
        "id": "yIfGeFQPMaBf",
        "outputId": "788a9e62-b72c-492d-da40-00d592cd8298"
      },
      "source": [
        "acc_train_logreg = []\n",
        "acc_test_logreg = []\n",
        "c_logreg = []\n",
        "cVals = [0.0001, 0.001, 0.01, 0.1, 1, 10, 100]\n",
        "for c in cVals:\n",
        "    logreg_model(c, X_train, Y_train, X_test, Y_test)\n",
        "plt.plot(c_logreg, acc_train_logreg, 'ro-') \n",
        "plt.plot(c_logreg, acc_test_logreg,'bo-') \n",
        "plt.title(\"Accuracy vs. C (L1 Regularization)\")\n",
        "plt.legend(['Training Accuracy', 'Test Accuracy'], loc='upper right')\n",
        "plt.grid()"
      ],
      "execution_count": 13,
      "outputs": [
        {
          "output_type": "stream",
          "text": [
            "Accuracy on training data = 0.723242\n",
            "Accuracy on test data = 0.730860\n",
            "Accuracy on training data = 0.723242\n",
            "Accuracy on test data = 0.730860\n"
          ],
          "name": "stdout"
        },
        {
          "output_type": "stream",
          "text": [
            "/usr/local/lib/python3.7/dist-packages/sklearn/linear_model/_sag.py:330: ConvergenceWarning: The max_iter was reached which means the coef_ did not converge\n",
            "  \"the coef_ did not converge\", ConvergenceWarning)\n",
            "/usr/local/lib/python3.7/dist-packages/sklearn/linear_model/_sag.py:330: ConvergenceWarning: The max_iter was reached which means the coef_ did not converge\n",
            "  \"the coef_ did not converge\", ConvergenceWarning)\n"
          ],
          "name": "stderr"
        },
        {
          "output_type": "stream",
          "text": [
            "Accuracy on training data = 0.799512\n",
            "Accuracy on test data = 0.807419\n",
            "Accuracy on training data = 0.799609\n",
            "Accuracy on test data = 0.806630\n"
          ],
          "name": "stdout"
        },
        {
          "output_type": "stream",
          "text": [
            "/usr/local/lib/python3.7/dist-packages/sklearn/linear_model/_sag.py:330: ConvergenceWarning: The max_iter was reached which means the coef_ did not converge\n",
            "  \"the coef_ did not converge\", ConvergenceWarning)\n",
            "/usr/local/lib/python3.7/dist-packages/sklearn/linear_model/_sag.py:330: ConvergenceWarning: The max_iter was reached which means the coef_ did not converge\n",
            "  \"the coef_ did not converge\", ConvergenceWarning)\n"
          ],
          "name": "stderr"
        },
        {
          "output_type": "stream",
          "text": [
            "Accuracy on training data = 0.799609\n",
            "Accuracy on test data = 0.808208\n",
            "Accuracy on training data = 0.799609\n",
            "Accuracy on test data = 0.808208\n"
          ],
          "name": "stdout"
        },
        {
          "output_type": "stream",
          "text": [
            "/usr/local/lib/python3.7/dist-packages/sklearn/linear_model/_sag.py:330: ConvergenceWarning: The max_iter was reached which means the coef_ did not converge\n",
            "  \"the coef_ did not converge\", ConvergenceWarning)\n"
          ],
          "name": "stderr"
        },
        {
          "output_type": "stream",
          "text": [
            "Accuracy on training data = 0.799609\n",
            "Accuracy on test data = 0.808208\n"
          ],
          "name": "stdout"
        },
        {
          "output_type": "display_data",
          "data": {
            "image/png": "[encoded data removed]",
            "text/plain": [
              "<Figure size 432x288 with 1 Axes>"
            ]
          },
          "metadata": {
            "tags": [],
            "needs_background": "light"
          }
        }
      ]
    },
    {
      "cell_type": "code",
      "metadata": {
        "id": "r94Pxw4tMeg0"
      },
      "source": [
        "# Initialize an empty list to store values of training set accuracy.\n",
        "acc_train_logreg2 = []"
      ],
      "execution_count": 14,
      "outputs": []
    },
    {
      "cell_type": "code",
      "metadata": {
        "id": "MCSouVx1MhFf"
      },
      "source": [
        "# Initialize an empty list to store values of test set accuracy.\n",
        "acc_test_logreg2 = []"
      ],
      "execution_count": 15,
      "outputs": []
    },
    {
      "cell_type": "code",
      "metadata": {
        "id": "vyLPT7SkMiea"
      },
      "source": [
        "# Initialize an empty list to store different values of parameter 'c'.\n",
        "c_logreg2 = []"
      ],
      "execution_count": 16,
      "outputs": []
    },
    {
      "cell_type": "code",
      "metadata": {
        "id": "vQB6UPvGMkE-"
      },
      "source": [
        "def logreg2_model(c , X_train, Y_train, X_test, Y_test):\n",
        "    # Create an object of logistic regression model using linear_model.\n",
        "    # Pass the value of C=c.\n",
        "    # You need not pass other parameters as penalty is 'L2' by default.\n",
        "    \n",
        "    # TODO - Create the Logistic Regression model object as described above and save it to logreg2 - 5 points\n",
        "    logreg2 = linear_model.LogisticRegression(C=c, warm_start=True)\n",
        "\n",
        "    \n",
        "    # TODO - Fit the model on the training set - 5 points\n",
        "\n",
        "    logreg2.fit(X_train, Y_train)\n",
        "\n",
        "    # TODO - Find the prediction on training set - 5 points\n",
        "    Yhat_train = logreg2.predict(X_train)\n",
        "    \n",
        "    # Adding training accuracy to acc_train_logreg2\n",
        "    \n",
        "    acc_train = np.mean(Yhat_train == Y_train)\n",
        "    acc_train_logreg2.append(acc_train)\n",
        "    print(\"Accuracy on training data = %f\" % acc_train)\n",
        "    \n",
        "    # TODO - Find the prediction on test set - 5 points\n",
        "    Yhat_test = logreg2.predict(X_test)\n",
        "    \n",
        "    # Adding testing accuracy to acc_test_logreg2\n",
        "    acc_test = np.mean(Yhat_test == Y_test)\n",
        "    acc_test_logreg2.append(acc_test)\n",
        "    print(\"Accuracy on test data = %f\" % acc_test)\n",
        "    \n",
        "    # Appending value of c for graphing purposes\n",
        "    c_logreg2.append(c)"
      ],
      "execution_count": 17,
      "outputs": []
    },
    {
      "cell_type": "code",
      "metadata": {
        "colab": {
          "base_uri": "https://localhost:8080/"
        },
        "id": "2oTr0nvhMlly",
        "outputId": "3047cc5d-d279-4369-9a62-0f0ff4d224d6"
      },
      "source": [
        "# Call the above function i.e. logreg_model with different values of parameter 'c'.\n",
        "# Start with smaller values of 'c' say 0.0001, 0.001, 0.01, 0.1, 1, 10, 100\n",
        "for c in cVals:\n",
        "    logreg2_model(c, X_train, Y_train, X_test, Y_test)"
      ],
      "execution_count": 18,
      "outputs": [
        {
          "output_type": "stream",
          "text": [
            "Accuracy on training data = 0.723242\n",
            "Accuracy on test data = 0.730860\n",
            "Accuracy on training data = 0.723242\n",
            "Accuracy on test data = 0.730860\n",
            "Accuracy on training data = 0.796094\n",
            "Accuracy on test data = 0.797948\n",
            "Accuracy on training data = 0.802734\n",
            "Accuracy on test data = 0.798737\n",
            "Accuracy on training data = 0.802441\n",
            "Accuracy on test data = 0.806630\n",
            "Accuracy on training data = 0.802441\n",
            "Accuracy on test data = 0.806630\n",
            "Accuracy on training data = 0.802441\n",
            "Accuracy on test data = 0.806630\n"
          ],
          "name": "stdout"
        }
      ]
    },
    {
      "cell_type": "code",
      "metadata": {
        "colab": {
          "base_uri": "https://localhost:8080/",
          "height": 525
        },
        "id": "S465m9cHMoyC",
        "outputId": "2169a802-d286-4d22-ab6d-7a4fdf4800c9"
      },
      "source": [
        "# TODO - Write code to plot 2 plots - 10 points\n",
        "# Plot training accuracy(Y-axis) v/s 'c' on X - Axis.\n",
        "# Plot test accuracy(Y-Axis) v/s 'c' on X - Axis.\n",
        "\n",
        "# IMP - Make sure you reinitialize c_logreg2, acc_train_logreg2 and acc_test_logreg2 before rerunning logreg2_model()\n",
        "acc_train_logreg2 = []\n",
        "acc_test_logreg2 = []\n",
        "c_logreg2 = []\n",
        "for c in cVals:\n",
        "    logreg2_model(c, X_train, Y_train, X_test, Y_test)\n",
        "plt.plot(c_logreg2, acc_train_logreg2, 'ro-') \n",
        "plt.plot(c_logreg2, acc_test_logreg2,'bo-') \n",
        "plt.grid()\n",
        "# Use the following function to have a legend\n",
        "plt.title(\"Accuracy vs. C: L2 Regularization\")\n",
        "plt.legend(['Training Accuracy', 'Test Accuracy'], loc='upper right')"
      ],
      "execution_count": 19,
      "outputs": [
        {
          "output_type": "stream",
          "text": [
            "Accuracy on training data = 0.723242\n",
            "Accuracy on test data = 0.730860\n",
            "Accuracy on training data = 0.723242\n",
            "Accuracy on test data = 0.730860\n",
            "Accuracy on training data = 0.796094\n",
            "Accuracy on test data = 0.797948\n",
            "Accuracy on training data = 0.802734\n",
            "Accuracy on test data = 0.798737\n",
            "Accuracy on training data = 0.802441\n",
            "Accuracy on test data = 0.806630\n",
            "Accuracy on training data = 0.802441\n",
            "Accuracy on test data = 0.806630\n",
            "Accuracy on training data = 0.802441\n",
            "Accuracy on test data = 0.806630\n"
          ],
          "name": "stdout"
        },
        {
          "output_type": "execute_result",
          "data": {
            "text/plain": [
              "<matplotlib.legend.Legend at 0x7f35bb820fd0>"
            ]
          },
          "metadata": {
            "tags": []
          },
          "execution_count": 19
        },
        {
          "output_type": "display_data",
          "data": {
            "image/png": "[encoded data removed]",
            "text/plain": [
              "<Figure size 432x288 with 1 Axes>"
            ]
          },
          "metadata": {
            "tags": [],
            "needs_background": "light"
          }
        }
      ]
    },
    {
      "cell_type": "code",
      "metadata": {
        "colab": {
          "base_uri": "https://localhost:8080/",
          "height": 752
        },
        "id": "0SZ87s7EWLj4",
        "outputId": "06b0eba7-87ad-4bda-a831-f3fa47ed7638"
      },
      "source": [
        "#Polynomial Fit Transformation: L1\n",
        "\n",
        "poly = PolynomialFeatures(degree =3)\n",
        "X_transformed_train = poly.fit_transform(X_train)\n",
        "X_transformed_test = poly.fit_transform(X_test)\n",
        "acc_train_logreg = []\n",
        "acc_test_logreg = []\n",
        "c_logreg = []\n",
        "\n",
        "for c in cVals:\n",
        "    logreg_model(c, X_transformed_train, Y_train, X_transformed_test, Y_test)\n",
        "\n",
        "\n",
        "plt.plot(c_logreg, acc_train_logreg, 'ro-') \n",
        "plt.plot(c_logreg, acc_test_logreg,'bo-') \n",
        "plt.grid()\n",
        "plt.title(\"Accuracy vs. C: L1 Regularization with Polynomial Feature Transformation\")\n",
        "plt.legend(['Training Accuracy', 'Test Accuracy'], loc='upper right')"
      ],
      "execution_count": 20,
      "outputs": [
        {
          "output_type": "stream",
          "text": [
            "/usr/local/lib/python3.7/dist-packages/sklearn/linear_model/_sag.py:330: ConvergenceWarning: The max_iter was reached which means the coef_ did not converge\n",
            "  \"the coef_ did not converge\", ConvergenceWarning)\n"
          ],
          "name": "stderr"
        },
        {
          "output_type": "stream",
          "text": [
            "Accuracy on training data = 0.786816\n",
            "Accuracy on test data = 0.764799\n"
          ],
          "name": "stdout"
        },
        {
          "output_type": "stream",
          "text": [
            "/usr/local/lib/python3.7/dist-packages/sklearn/linear_model/_sag.py:330: ConvergenceWarning: The max_iter was reached which means the coef_ did not converge\n",
            "  \"the coef_ did not converge\", ConvergenceWarning)\n"
          ],
          "name": "stderr"
        },
        {
          "output_type": "stream",
          "text": [
            "Accuracy on training data = 0.786816\n",
            "Accuracy on test data = 0.764799\n"
          ],
          "name": "stdout"
        },
        {
          "output_type": "stream",
          "text": [
            "/usr/local/lib/python3.7/dist-packages/sklearn/linear_model/_sag.py:330: ConvergenceWarning: The max_iter was reached which means the coef_ did not converge\n",
            "  \"the coef_ did not converge\", ConvergenceWarning)\n"
          ],
          "name": "stderr"
        },
        {
          "output_type": "stream",
          "text": [
            "Accuracy on training data = 0.786816\n",
            "Accuracy on test data = 0.764799\n"
          ],
          "name": "stdout"
        },
        {
          "output_type": "stream",
          "text": [
            "/usr/local/lib/python3.7/dist-packages/sklearn/linear_model/_sag.py:330: ConvergenceWarning: The max_iter was reached which means the coef_ did not converge\n",
            "  \"the coef_ did not converge\", ConvergenceWarning)\n"
          ],
          "name": "stderr"
        },
        {
          "output_type": "stream",
          "text": [
            "Accuracy on training data = 0.786621\n",
            "Accuracy on test data = 0.764799\n"
          ],
          "name": "stdout"
        },
        {
          "output_type": "stream",
          "text": [
            "/usr/local/lib/python3.7/dist-packages/sklearn/linear_model/_sag.py:330: ConvergenceWarning: The max_iter was reached which means the coef_ did not converge\n",
            "  \"the coef_ did not converge\", ConvergenceWarning)\n"
          ],
          "name": "stderr"
        },
        {
          "output_type": "stream",
          "text": [
            "Accuracy on training data = 0.786621\n",
            "Accuracy on test data = 0.764799\n"
          ],
          "name": "stdout"
        },
        {
          "output_type": "stream",
          "text": [
            "/usr/local/lib/python3.7/dist-packages/sklearn/linear_model/_sag.py:330: ConvergenceWarning: The max_iter was reached which means the coef_ did not converge\n",
            "  \"the coef_ did not converge\", ConvergenceWarning)\n"
          ],
          "name": "stderr"
        },
        {
          "output_type": "stream",
          "text": [
            "Accuracy on training data = 0.786621\n",
            "Accuracy on test data = 0.764799\n",
            "Accuracy on training data = 0.786816\n",
            "Accuracy on test data = 0.764799\n"
          ],
          "name": "stdout"
        },
        {
          "output_type": "stream",
          "text": [
            "/usr/local/lib/python3.7/dist-packages/sklearn/linear_model/_sag.py:330: ConvergenceWarning: The max_iter was reached which means the coef_ did not converge\n",
            "  \"the coef_ did not converge\", ConvergenceWarning)\n"
          ],
          "name": "stderr"
        },
        {
          "output_type": "execute_result",
          "data": {
            "text/plain": [
              "<matplotlib.legend.Legend at 0x7f35bb713610>"
            ]
          },
          "metadata": {
            "tags": []
          },
          "execution_count": 20
        },
        {
          "output_type": "display_data",
          "data": {
            "image/png": "[encoded data removed]",
            "text/plain": [
              "<Figure size 432x288 with 1 Axes>"
            ]
          },
          "metadata": {
            "tags": [],
            "needs_background": "light"
          }
        }
      ]
    },
    {
      "cell_type": "code",
      "metadata": {
        "id": "hPv6I86f6Agr",
        "colab": {
          "base_uri": "https://localhost:8080/",
          "height": 1000
        },
        "outputId": "32f44f57-0d84-492e-f424-d8d2132d094f"
      },
      "source": [
        "#Polynomial Fit Transformation: L2\n",
        "\n",
        "poly = PolynomialFeatures(degree =3)\n",
        "X_transformed_train = poly.fit_transform(X_train)\n",
        "X_transformed_test = poly.fit_transform(X_test)\n",
        "acc_train_logreg2 = []\n",
        "acc_test_logreg2 = []\n",
        "c_logreg2 = []\n",
        "\n",
        "for c in cVals:\n",
        "    logreg2_model(c, X_transformed_train, Y_train, X_transformed_test, Y_test)\n",
        "\n",
        "plt.plot(c_logreg2, acc_train_logreg2, 'ro-') \n",
        "plt.plot(c_logreg2, acc_test_logreg2,'bo-') \n",
        "plt.grid()\n",
        "# Use the following function to have a legend\n",
        "plt.title(\"Accuracy vs. C: L2 Regularization with Polynomial Feature Transformation\")\n",
        "plt.legend(['Training Accuracy', 'Test Accuracy'], loc='upper right')"
      ],
      "execution_count": 21,
      "outputs": [
        {
          "output_type": "stream",
          "text": [
            "/usr/local/lib/python3.7/dist-packages/sklearn/linear_model/_logistic.py:940: ConvergenceWarning: lbfgs failed to converge (status=1):\n",
            "STOP: TOTAL NO. of ITERATIONS REACHED LIMIT.\n",
            "\n",
            "Increase the number of iterations (max_iter) or scale the data as shown in:\n",
            "    https://scikit-learn.org/stable/modules/preprocessing.html\n",
            "Please also refer to the documentation for alternative solver options:\n",
            "    https://scikit-learn.org/stable/modules/linear_model.html#logistic-regression\n",
            "  extra_warning_msg=_LOGISTIC_SOLVER_CONVERGENCE_MSG)\n"
          ],
          "name": "stderr"
        },
        {
          "output_type": "stream",
          "text": [
            "Accuracy on training data = 0.788477\n",
            "Accuracy on test data = 0.789266\n"
          ],
          "name": "stdout"
        },
        {
          "output_type": "stream",
          "text": [
            "/usr/local/lib/python3.7/dist-packages/sklearn/linear_model/_logistic.py:940: ConvergenceWarning: lbfgs failed to converge (status=1):\n",
            "STOP: TOTAL NO. of ITERATIONS REACHED LIMIT.\n",
            "\n",
            "Increase the number of iterations (max_iter) or scale the data as shown in:\n",
            "    https://scikit-learn.org/stable/modules/preprocessing.html\n",
            "Please also refer to the documentation for alternative solver options:\n",
            "    https://scikit-learn.org/stable/modules/linear_model.html#logistic-regression\n",
            "  extra_warning_msg=_LOGISTIC_SOLVER_CONVERGENCE_MSG)\n"
          ],
          "name": "stderr"
        },
        {
          "output_type": "stream",
          "text": [
            "Accuracy on training data = 0.787891\n",
            "Accuracy on test data = 0.789266\n"
          ],
          "name": "stdout"
        },
        {
          "output_type": "stream",
          "text": [
            "/usr/local/lib/python3.7/dist-packages/sklearn/linear_model/_logistic.py:940: ConvergenceWarning: lbfgs failed to converge (status=1):\n",
            "STOP: TOTAL NO. of ITERATIONS REACHED LIMIT.\n",
            "\n",
            "Increase the number of iterations (max_iter) or scale the data as shown in:\n",
            "    https://scikit-learn.org/stable/modules/preprocessing.html\n",
            "Please also refer to the documentation for alternative solver options:\n",
            "    https://scikit-learn.org/stable/modules/linear_model.html#logistic-regression\n",
            "  extra_warning_msg=_LOGISTIC_SOLVER_CONVERGENCE_MSG)\n"
          ],
          "name": "stderr"
        },
        {
          "output_type": "stream",
          "text": [
            "Accuracy on training data = 0.788477\n",
            "Accuracy on test data = 0.785320\n",
            "Accuracy on training data = 0.787891\n",
            "Accuracy on test data = 0.789266\n"
          ],
          "name": "stdout"
        },
        {
          "output_type": "stream",
          "text": [
            "/usr/local/lib/python3.7/dist-packages/sklearn/linear_model/_logistic.py:940: ConvergenceWarning: lbfgs failed to converge (status=1):\n",
            "STOP: TOTAL NO. of ITERATIONS REACHED LIMIT.\n",
            "\n",
            "Increase the number of iterations (max_iter) or scale the data as shown in:\n",
            "    https://scikit-learn.org/stable/modules/preprocessing.html\n",
            "Please also refer to the documentation for alternative solver options:\n",
            "    https://scikit-learn.org/stable/modules/linear_model.html#logistic-regression\n",
            "  extra_warning_msg=_LOGISTIC_SOLVER_CONVERGENCE_MSG)\n"
          ],
          "name": "stderr"
        },
        {
          "output_type": "stream",
          "text": [
            "Accuracy on training data = 0.787891\n",
            "Accuracy on test data = 0.789266\n"
          ],
          "name": "stdout"
        },
        {
          "output_type": "stream",
          "text": [
            "/usr/local/lib/python3.7/dist-packages/sklearn/linear_model/_logistic.py:940: ConvergenceWarning: lbfgs failed to converge (status=1):\n",
            "STOP: TOTAL NO. of ITERATIONS REACHED LIMIT.\n",
            "\n",
            "Increase the number of iterations (max_iter) or scale the data as shown in:\n",
            "    https://scikit-learn.org/stable/modules/preprocessing.html\n",
            "Please also refer to the documentation for alternative solver options:\n",
            "    https://scikit-learn.org/stable/modules/linear_model.html#logistic-regression\n",
            "  extra_warning_msg=_LOGISTIC_SOLVER_CONVERGENCE_MSG)\n"
          ],
          "name": "stderr"
        },
        {
          "output_type": "stream",
          "text": [
            "Accuracy on training data = 0.787891\n",
            "Accuracy on test data = 0.789266\n",
            "Accuracy on training data = 0.787891\n",
            "Accuracy on test data = 0.785320\n"
          ],
          "name": "stdout"
        },
        {
          "output_type": "stream",
          "text": [
            "/usr/local/lib/python3.7/dist-packages/sklearn/linear_model/_logistic.py:940: ConvergenceWarning: lbfgs failed to converge (status=1):\n",
            "STOP: TOTAL NO. of ITERATIONS REACHED LIMIT.\n",
            "\n",
            "Increase the number of iterations (max_iter) or scale the data as shown in:\n",
            "    https://scikit-learn.org/stable/modules/preprocessing.html\n",
            "Please also refer to the documentation for alternative solver options:\n",
            "    https://scikit-learn.org/stable/modules/linear_model.html#logistic-regression\n",
            "  extra_warning_msg=_LOGISTIC_SOLVER_CONVERGENCE_MSG)\n"
          ],
          "name": "stderr"
        },
        {
          "output_type": "execute_result",
          "data": {
            "text/plain": [
              "<matplotlib.legend.Legend at 0x7f35b1f8de50>"
            ]
          },
          "metadata": {
            "tags": []
          },
          "execution_count": 21
        },
        {
          "output_type": "display_data",
          "data": {
            "image/png": "[encoded data removed]",
            "text/plain": [
              "<Figure size 432x288 with 1 Axes>"
            ]
          },
          "metadata": {
            "tags": [],
            "needs_background": "light"
          }
        }
      ]
    },
    {
      "cell_type": "markdown",
      "metadata": {
        "id": "vU5kd5nF6QHG"
      },
      "source": [
        "### Support Vector Machine (SVM)"
      ]
    },
    {
      "cell_type": "markdown",
      "metadata": {
        "id": "dkuiPpr0rqqP"
      },
      "source": [
        "### SVM: Linear Kernel"
      ]
    },
    {
      "cell_type": "code",
      "metadata": {
        "id": "zEdNFt7cq4Dc"
      },
      "source": [
        "from sklearn import svm"
      ],
      "execution_count": 22,
      "outputs": []
    },
    {
      "cell_type": "code",
      "metadata": {
        "id": "Py3R-HbL6SSQ",
        "colab": {
          "base_uri": "https://localhost:8080/",
          "height": 100
        },
        "outputId": "e108ce50-9b4e-4c2f-f8de-7de3afcd17c6"
      },
      "source": [
        "\"\"\"\n",
        "acc_train_svm_linear = []\n",
        "acc_test_svm_linear = []\n",
        "c_svm_linear = []\n",
        "\n",
        "def svm_linear(c):\n",
        "    # Create an object of svm.SVC(probability = False, kernel = 'linear', C = c) \n",
        "    svc_linear = svm.SVC(probability = False, kernel = 'linear', C = c)\n",
        "    # Fit the classifier on the training set \n",
        "    svc_linear.fit(X_train, Y_train)\n",
        "    # Find the prediction and accuracy on the training set\n",
        "    Yhat_svc_linear_train = svc_linear.predict(X_train)\n",
        "    # Adding testing accuracy to acc_train_svm\n",
        "    acc_train_linear = np.mean(Yhat_svc_linear_train == Y_train) \n",
        "    acc_train_svm_linear.append(acc_train_linear)\n",
        "    print('Train Accuracy = {0:f}'.format(acc_train_linear))\n",
        "     # Find the prediction and accuracy on the test set\n",
        "    Yhat_svc_linear_test = svc_linear.predict(X_test)\n",
        "    acc_test = np.mean(Yhat_svc_linear_test == Y_test)\n",
        "    # Adding testing accuracy to acc_test_svm\n",
        "    acc_test_svm_linear.append(acc_test)\n",
        "    print('Test Accuracy = {0:f}'.format(acc_test))\n",
        "    # Appending value of c for graphing purposes\n",
        "    c_svm_linear.append(c)\n",
        "\n",
        "# Call the above function i.e. svm_linear with different values of parameter 'c'.\n",
        "# Start with smaller values of 'c' say 0.0001, 0.001, 0.01, 0.1, 1, 10, 100\n",
        "for c in cVals:\n",
        "    svm_linear(c)\n",
        "\"\"\""
      ],
      "execution_count": 23,
      "outputs": [
        {
          "output_type": "execute_result",
          "data": {
            "application/vnd.google.colaboratory.intrinsic+json": {
              "type": "string"
            },
            "text/plain": [
              "\"\\nacc_train_svm_linear = []\\nacc_test_svm_linear = []\\nc_svm_linear = []\\n\\ndef svm_linear(c):\\n    # Create an object of svm.SVC(probability = False, kernel = 'linear', C = c) \\n    svc_linear = svm.SVC(probability = False, kernel = 'linear', C = c)\\n    # Fit the classifier on the training set \\n    svc_linear.fit(X_train, Y_train)\\n    # Find the prediction and accuracy on the training set\\n    Yhat_svc_linear_train = svc_linear.predict(X_train)\\n    # Adding testing accuracy to acc_train_svm\\n    acc_train_linear = np.mean(Yhat_svc_linear_train == Y_train) \\n    acc_train_svm_linear.append(acc_train_linear)\\n    print('Train Accuracy = {0:f}'.format(acc_train_linear))\\n     # Find the prediction and accuracy on the test set\\n    Yhat_svc_linear_test = svc_linear.predict(X_test)\\n    acc_test = np.mean(Yhat_svc_linear_test == Y_test)\\n    # Adding testing accuracy to acc_test_svm\\n    acc_test_svm_linear.append(acc_test)\\n    print('Test Accuracy = {0:f}'.format(acc_test))\\n    # Appending value of c for graphing purposes\\n    c_svm_linear.append(c)\\n\\n# Call the above function i.e. svm_linear with different values of parameter 'c'.\\n# Start with smaller values of 'c' say 0.0001, 0.001, 0.01, 0.1, 1, 10, 100\\nfor c in cVals:\\n    svm_linear(c)\\n\""
            ]
          },
          "metadata": {
            "tags": []
          },
          "execution_count": 23
        }
      ]
    },
    {
      "cell_type": "code",
      "metadata": {
        "colab": {
          "base_uri": "https://localhost:8080/",
          "height": 51
        },
        "id": "I8e2aOjHrfmE",
        "outputId": "951d10bb-2533-4823-9d81-518f944b71b4"
      },
      "source": [
        "\"\"\"\n",
        "%matplotlib inline \n",
        "plt.plot(c_svm_linear, acc_train_svm_linear, 'ro-') \n",
        "plt.plot(c_svm_linear, acc_test_svm_linear,'bo-') \n",
        "plt.grid()\n",
        "# Use the following function to have a legend\n",
        "plt.legend(['Training Accuracy', 'Test Accuracy'], loc='upper right')\n",
        "\"\"\""
      ],
      "execution_count": 25,
      "outputs": [
        {
          "output_type": "execute_result",
          "data": {
            "application/vnd.google.colaboratory.intrinsic+json": {
              "type": "string"
            },
            "text/plain": [
              "\"\\n%matplotlib inline \\nplt.plot(c_svm_linear, acc_train_svm_linear, 'ro-') \\nplt.plot(c_svm_linear, acc_test_svm_linear,'bo-') \\nplt.grid()\\n# Use the following function to have a legend\\nplt.legend(['Training Accuracy', 'Test Accuracy'], loc='upper right')\\n\""
            ]
          },
          "metadata": {
            "tags": []
          },
          "execution_count": 25
        }
      ]
    },
    {
      "cell_type": "markdown",
      "metadata": {
        "id": "Ai_IfIqgrnTO"
      },
      "source": [
        "### SVM: RBF Kernel"
      ]
    },
    {
      "cell_type": "code",
      "metadata": {
        "colab": {
          "base_uri": "https://localhost:8080/"
        },
        "id": "2EwAC3Qlrgss",
        "outputId": "7e098adf-9dcd-40ce-cfb4-60f1e21c0f67"
      },
      "source": [
        "#RBF Kernel\n",
        "acc_train_svm_rbf = []\n",
        "acc_test_svm_rbf = []\n",
        "c_svm_rbf = []\n",
        "\n",
        "def svm_rbf(c):\n",
        "    #Create an object of svm.SVC(probability = False, kernel = 'rbf', C = c)\n",
        "    svc_rbf = svm.SVC(probability = False, kernel = 'rbf', C = c)\n",
        "    #Fit the classifier on the training set \n",
        "    svc_rbf.fit(X_train, Y_train)\n",
        "    #Find the prediction and accuracy on the training set\n",
        "    Yhat_svc_linear_train = svc_rbf.predict(X_train)\n",
        "    acc_train = np.mean(Yhat_svc_linear_train == Y_train)\n",
        "    # Adding testing accuracy to acc_train_svm\n",
        "    acc_train_svm_rbf.append(acc_train)\n",
        "    print('Accuracy = {0:f}'.format(acc_train))\n",
        "    #Find the prediction and accuracy on the test set\n",
        "    Yhat_svc_rbf_test = None\n",
        "    acc_test = None\n",
        "    # Adding testing accuracy to acc_test_svm\n",
        "    Yhat_svc_linear_test = svc_rbf.predict(X_test)\n",
        "    acc_test = np.mean(Yhat_svc_linear_test == Y_test)\n",
        "    # Appending value of c for graphing purposes\n",
        "    acc_test_svm_rbf.append(acc_test)\n",
        "    print('Accuracy = {0:f}'.format(acc_test))\n",
        "    c_svm_rbf.append(c)\n",
        "\n",
        "# Call the above function i.e. svm_linear with different values of parameter 'c'.\n",
        "# Start with smaller values of 'c' say 0.0001, 0.001, 0.01, 0.1, 1, 10, 100\n",
        "for c in cVals:\n",
        "    svm_rbf(c)"
      ],
      "execution_count": 26,
      "outputs": [
        {
          "output_type": "stream",
          "text": [
            "Accuracy = 0.723242\n",
            "Accuracy = 0.730860\n",
            "Accuracy = 0.723242\n",
            "Accuracy = 0.730860\n",
            "Accuracy = 0.723242\n",
            "Accuracy = 0.730860\n",
            "Accuracy = 0.723242\n",
            "Accuracy = 0.730860\n",
            "Accuracy = 0.723242\n",
            "Accuracy = 0.730860\n",
            "Accuracy = 0.786523\n",
            "Accuracy = 0.788477\n",
            "Accuracy = 0.798828\n",
            "Accuracy = 0.805051\n"
          ],
          "name": "stdout"
        }
      ]
    },
    {
      "cell_type": "code",
      "metadata": {
        "colab": {
          "base_uri": "https://localhost:8080/",
          "height": 281
        },
        "id": "oud6uPkKr8ps",
        "outputId": "df83db68-7f6c-43dc-d28a-9463972c0dfa"
      },
      "source": [
        "# Plot training accuracy(Y-axis) v/s 'c' on X - Axis.\n",
        "# Plot test accuracy(Y-Axis) v/s 'c' on X - Axis.\n",
        "plt.plot(c_svm_rbf, acc_train_svm_rbf, 'ro-') \n",
        "plt.plot(c_svm_rbf, acc_test_svm_rbf,'bo-') \n",
        "plt.grid()\n",
        "# Use the following function to have a legend\n",
        "plt.legend(['Training Accuracy', 'Test Accuracy'], loc='lower right')"
      ],
      "execution_count": 27,
      "outputs": [
        {
          "output_type": "execute_result",
          "data": {
            "text/plain": [
              "<matplotlib.legend.Legend at 0x7f35b1e4ce10>"
            ]
          },
          "metadata": {
            "tags": []
          },
          "execution_count": 27
        },
        {
          "output_type": "display_data",
          "data": {
            "image/png": "[encoded data removed]",
            "text/plain": [
              "<Figure size 432x288 with 1 Axes>"
            ]
          },
          "metadata": {
            "tags": [],
            "needs_background": "light"
          }
        }
      ]
    },
    {
      "cell_type": "markdown",
      "metadata": {
        "id": "T0DiUdnMsDyS"
      },
      "source": [
        "### SVM: Polynomial Kernel\n"
      ]
    },
    {
      "cell_type": "code",
      "metadata": {
        "id": "aGLfcEpzsREK"
      },
      "source": [
        "acc_train_svm_poly = []\n",
        "acc_test_svm_poly = []\n",
        "c_svm_poly = []"
      ],
      "execution_count": 39,
      "outputs": []
    },
    {
      "cell_type": "code",
      "metadata": {
        "id": "rBK3m9cCsRQM"
      },
      "source": [
        "def svm_polynomial(c):\n",
        "    svc_polynomial = svm.SVC(probability = False, kernel = 'poly', C = c)\n",
        "    \n",
        "    A = X_train.iloc[0:300,:]  # First 300 rows of training set.\n",
        "    B = Y_train.iloc[0:300]  \n",
        "    C = X_test.iloc[0:100,:]   # First 100 rows of test set.\n",
        "    D = Y_test.iloc[0:100]\n",
        "    \n",
        "    # Fit the classifier on the training set\n",
        "    # Use A and B to train and C and D to test.\n",
        "    svc_polynomial.fit(A, B)\n",
        "    #Find the prediction and accuracy on the training set\n",
        "    Yhat_svc_polynomial_train = svc_polynomial.predict(A)\n",
        "    acc_train = np.mean(Yhat_svc_polynomial_train == B)\n",
        "    # Adding testing accuracy to acc_train_svm\n",
        "    acc_train_svm_poly.append(acc_train)\n",
        "    print('Train Accuracy = {0:f}'.format(acc_train))\n",
        "    #Find the prediction and accuracy on the test set\n",
        "    Yhat_svc_polynomial_test = svc_polynomial.predict(C)\n",
        "    acc_test = np.mean(Yhat_svc_polynomial_test == D)\n",
        "    # Adding testing accuracy to acc_test_svm\n",
        "    acc_test_svm_poly.append(acc_test)\n",
        "    print('Test Accuracy = {0:f}'.format(acc_test))\n",
        "    # Appending value of c for graphing purposes\n",
        "    c_svm_poly.append(c)"
      ],
      "execution_count": 45,
      "outputs": []
    },
    {
      "cell_type": "code",
      "metadata": {
        "colab": {
          "base_uri": "https://localhost:8080/"
        },
        "id": "lpI_upEWshfb",
        "outputId": "29579452-e571-43fe-9a35-247cf3f3b0be"
      },
      "source": [
        "# Call the above function i.e. svm_poly with different values of parameter 'c'.\n",
        "# Start with smaller values of 'c' say 0.0001, 0.001, 0.01, 0.1, 1, 10, 100\n",
        "# Redefining cVals because poly takes a long time to run with larger values of c since \n",
        "# the larger the value of c, the lesser the amount of regulatization\n",
        "cVals = np.geomspace(0.000001, 0.001, 5)\n",
        "for c in cVals:\n",
        "    svm_polynomial(c)"
      ],
      "execution_count": 46,
      "outputs": [
        {
          "output_type": "stream",
          "text": [
            "Train Accuracy = 0.740000\n",
            "Test Accuracy = 0.730000\n",
            "Train Accuracy = 0.740000\n",
            "Test Accuracy = 0.730000\n",
            "Train Accuracy = 0.740000\n",
            "Test Accuracy = 0.730000\n",
            "Train Accuracy = 0.740000\n",
            "Test Accuracy = 0.730000\n",
            "Train Accuracy = 0.740000\n",
            "Test Accuracy = 0.730000\n"
          ],
          "name": "stdout"
        }
      ]
    },
    {
      "cell_type": "code",
      "metadata": {
        "colab": {
          "base_uri": "https://localhost:8080/",
          "height": 281
        },
        "id": "8lO8gNHUw8ZI",
        "outputId": "7d9da8b8-88f6-45e2-a403-16702b97e960"
      },
      "source": [
        "# Plot training accuracy(Y-axis) v/s 'c' on X - Axis.\n",
        "# Plot test accuracy(Y-Axis) v/s 'c' on X - Axis.\n",
        "plt.plot(c_svm_poly, acc_train_svm_poly, 'ro-') \n",
        "plt.plot(c_svm_poly, acc_test_svm_poly,'bo-') \n",
        "plt.grid()\n",
        "# Use the following function to have a legend\n",
        "plt.legend(['Training Accuracy', 'Test Accuracy'], loc='upper right')"
      ],
      "execution_count": 47,
      "outputs": [
        {
          "output_type": "execute_result",
          "data": {
            "text/plain": [
              "<matplotlib.legend.Legend at 0x7f35b1a31bd0>"
            ]
          },
          "metadata": {
            "tags": []
          },
          "execution_count": 47
        },
        {
          "output_type": "display_data",
          "data": {
            "image/png": "[encoded data removed]",
            "text/plain": [
              "<Figure size 432x288 with 1 Axes>"
            ]
          },
          "metadata": {
            "tags": [],
            "needs_background": "light"
          }
        }
      ]
    }
  ]
}