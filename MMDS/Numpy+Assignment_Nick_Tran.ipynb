{
  "nbformat": 4,
  "nbformat_minor": 0,
  "metadata": {
    "kernelspec": {
      "display_name": "Python 3",
      "language": "python",
      "name": "python3"
    },
    "language_info": {
      "codemirror_mode": {
        "name": "ipython",
        "version": 3
      },
      "file_extension": ".py",
      "mimetype": "text/x-python",
      "name": "python",
      "nbconvert_exporter": "python",
      "pygments_lexer": "ipython3",
      "version": "3.7.2"
    },
    "colab": {
      "name": "Numpy+Assignment Nick Tran.ipynb",
      "provenance": [],
      "include_colab_link": true
    }
  },
  "cells": [
    {
      "cell_type": "markdown",
      "metadata": {
        "id": "view-in-github",
        "colab_type": "text"
      },
      "source": [
        "<a href=\"https://colab.research.google.com/github/trannolis/data/blob/main/Numpy%2BAssignment_Nick_Tran.ipynb\" target=\"_parent\"><img src=\"https://colab.research.google.com/assets/colab-badge.svg\" alt=\"Open In Colab\"/></a>"
      ]
    },
    {
      "cell_type": "markdown",
      "metadata": {
        "id": "zgeqJN7dtUwl"
      },
      "source": [
        "# Numpy Assignment\n",
        "\n",
        "Numpy is a library for numerical computing.\n",
        "\n",
        "This assignment covers the important numpy commands which will be used in all the programming assignments for this course. "
      ]
    },
    {
      "cell_type": "markdown",
      "metadata": {
        "id": "vRe-tW8KtUwn"
      },
      "source": [
        "Basics: NumPy’s main object is the homogeneous multidimensional array. It is a table of elements (usually numbers), all of the same type, indexed by a tuple of positive integers. In NumPy dimensions are called axes. The number of axes is rank.\n",
        "For example, the coordinates of a point in 3D space [1, 2, 1] is an array of rank 1, because it has one axis i.e. just a single row. That axis has a length of 3. "
      ]
    },
    {
      "cell_type": "markdown",
      "metadata": {
        "id": "pdEkAgtRtUwn"
      },
      "source": [
        "# Array Creation\n",
        "\n",
        "Numpy arrays behave similar to n-dimensional matrices in matlab.\n",
        "\n",
        "There are several ways to create an array: Two methods are shown below. Before moving ahead, lets first import numpy.  "
      ]
    },
    {
      "cell_type": "code",
      "metadata": {
        "collapsed": true,
        "id": "pk4sWELTtUwo"
      },
      "source": [
        "# Just run this code cell by pressing shift+enter\n",
        "import numpy as np"
      ],
      "execution_count": 3,
      "outputs": []
    },
    {
      "cell_type": "code",
      "metadata": {
        "collapsed": true,
        "colab": {
          "base_uri": "https://localhost:8080/"
        },
        "id": "On0lVbdBtUwo",
        "outputId": "6c1753bc-aab3-4bad-8a66-a872ffd4d4b2"
      },
      "source": [
        "# Method 1 for creating an array: passing a list of numbers.\n",
        "a=np.array([3,6,2])\n",
        "print(a)"
      ],
      "execution_count": 4,
      "outputs": [
        {
          "output_type": "stream",
          "text": [
            "[3 6 2]\n"
          ],
          "name": "stdout"
        }
      ]
    },
    {
      "cell_type": "code",
      "metadata": {
        "collapsed": true,
        "colab": {
          "base_uri": "https://localhost:8080/"
        },
        "id": "uZvtq2w_tUwo",
        "outputId": "23a31a50-7c53-4194-9033-0ee8331d9995"
      },
      "source": [
        "# Create an array b having elements 9,6,3,1. \n",
        "# In the code below, remove None and write the numpy command to create an array having these elements. \n",
        "b = None\n",
        "print(b)"
      ],
      "execution_count": 5,
      "outputs": [
        {
          "output_type": "stream",
          "text": [
            "None\n"
          ],
          "name": "stdout"
        }
      ]
    },
    {
      "cell_type": "markdown",
      "metadata": {
        "id": "fc8CLKNytUwp"
      },
      "source": [
        " If you simply pass numbers as attributes, this will give an error. example: np.array(9,6,3,1) will give an error. Try it yourself in the code cell below."
      ]
    },
    {
      "cell_type": "code",
      "metadata": {
        "collapsed": true,
        "id": "qu-J56wUtUwp",
        "colab": {
          "base_uri": "https://localhost:8080/",
          "height": 164
        },
        "outputId": "1472060c-053f-49ce-ff4a-af193071dde0"
      },
      "source": [
        "b = np.array(9,6,3,1)"
      ],
      "execution_count": 9,
      "outputs": [
        {
          "output_type": "error",
          "ename": "TypeError",
          "evalue": "ignored",
          "traceback": [
            "\u001b[0;31m---------------------------------------------------------------------------\u001b[0m",
            "\u001b[0;31mTypeError\u001b[0m                                 Traceback (most recent call last)",
            "\u001b[0;32m<ipython-input-9-c32b00562fad>\u001b[0m in \u001b[0;36m<module>\u001b[0;34m()\u001b[0m\n\u001b[0;32m----> 1\u001b[0;31m \u001b[0mb\u001b[0m \u001b[0;34m=\u001b[0m \u001b[0mnp\u001b[0m\u001b[0;34m.\u001b[0m\u001b[0marray\u001b[0m\u001b[0;34m(\u001b[0m\u001b[0;36m9\u001b[0m\u001b[0;34m,\u001b[0m\u001b[0;36m6\u001b[0m\u001b[0;34m,\u001b[0m\u001b[0;36m3\u001b[0m\u001b[0;34m,\u001b[0m\u001b[0;36m1\u001b[0m\u001b[0;34m)\u001b[0m\u001b[0;34m\u001b[0m\u001b[0;34m\u001b[0m\u001b[0m\n\u001b[0m",
            "\u001b[0;31mTypeError\u001b[0m: array() takes from 1 to 2 positional arguments but 4 were given"
          ]
        }
      ]
    },
    {
      "cell_type": "markdown",
      "metadata": {
        "id": "Kyam_Nx3tUwp"
      },
      "source": [
        "Array transforms sequences of sequences into two-dimensional arrays. Sequences of sequences of sequences into three-dimensional arrays, and so on. Run example below which is a 2-dimensional array."
      ]
    },
    {
      "cell_type": "code",
      "metadata": {
        "collapsed": true,
        "id": "4HZWL_ZXtUwp",
        "colab": {
          "base_uri": "https://localhost:8080/"
        },
        "outputId": "80eead97-87cb-40fb-d67e-11b6c982e978"
      },
      "source": [
        "c = np.array([[1,2,3],[4,5,6]])\n",
        "print(c)"
      ],
      "execution_count": 8,
      "outputs": [
        {
          "output_type": "stream",
          "text": [
            "[[1 2 3]\n",
            " [4 5 6]]\n"
          ],
          "name": "stdout"
        }
      ]
    },
    {
      "cell_type": "markdown",
      "metadata": {
        "id": "wvQEKBYatUwq"
      },
      "source": [
        "Example of 3-dimensional array:"
      ]
    },
    {
      "cell_type": "code",
      "metadata": {
        "collapsed": true,
        "id": "_vRZ4fZetUwq"
      },
      "source": [
        "# Just run this code cell: \n",
        "c = np.array([[[1,2,3],[4,5,6]],[[6,7,8],[9,10,11]]])\n",
        "print(c)"
      ],
      "execution_count": null,
      "outputs": []
    },
    {
      "cell_type": "code",
      "metadata": {
        "collapsed": true,
        "id": "PckO_3XitUwq"
      },
      "source": [
        "# Create a 2-dimensional array having elemnets [15,16,17] in the first row and [18,19,20 ] in the second row.\n",
        "c = None\n",
        "print(c)"
      ],
      "execution_count": null,
      "outputs": []
    },
    {
      "cell_type": "markdown",
      "metadata": {
        "id": "5z5DQ-lAtUwq"
      },
      "source": [
        "Method 2 for creating an array: using the \"arange\" function.  Numpy has a function called arange which is analogous to range function of python. arange function returns array instead of list. Example shown below."
      ]
    },
    {
      "cell_type": "code",
      "metadata": {
        "collapsed": true,
        "id": "qOQ4zmY2tUwr",
        "colab": {
          "base_uri": "https://localhost:8080/"
        },
        "outputId": "7ca8d9c6-8af3-40aa-abd7-e51b3cf4512f"
      },
      "source": [
        "# Run this code cell\n",
        "a = np.arange(10)\n",
        "print(a)"
      ],
      "execution_count": 12,
      "outputs": [
        {
          "output_type": "stream",
          "text": [
            "[0 1 2 3 4 5 6 7 8 9]\n"
          ],
          "name": "stdout"
        }
      ]
    },
    {
      "cell_type": "code",
      "metadata": {
        "collapsed": true,
        "id": "CsbLi4v2tUwr",
        "colab": {
          "base_uri": "https://localhost:8080/"
        },
        "outputId": "8c011283-5ddd-4cbb-b0a2-6253aac49e6d"
      },
      "source": [
        "# Run this code cell\n",
        "b = np.arange(1,10,2)\n",
        "# Creates an array of 1-dimension. The array values starts at 1, increments by 2 upto 10 (but not including 10). \n",
        "print(b)"
      ],
      "execution_count": 13,
      "outputs": [
        {
          "output_type": "stream",
          "text": [
            "[1 3 5 7 9]\n"
          ],
          "name": "stdout"
        }
      ]
    },
    {
      "cell_type": "code",
      "metadata": {
        "collapsed": true,
        "id": "Z4YwnLsWtUwr"
      },
      "source": [
        "# Create 1-d array using arange having elements from 1 to 15\n",
        "c = None\n",
        "print(c)"
      ],
      "execution_count": null,
      "outputs": []
    },
    {
      "cell_type": "markdown",
      "metadata": {
        "id": "Wlg8KxUStUwr"
      },
      "source": [
        "# Important attributes of the array object.\n",
        "Attribute description is given in the comments of the respective code cells.\n"
      ]
    },
    {
      "cell_type": "code",
      "metadata": {
        "collapsed": true,
        "id": "R2jzYPrjtUwr"
      },
      "source": [
        "# Run this cell\n",
        "a = np.array([[1,2,3],[4,5,6]])\n",
        "print(a)"
      ],
      "execution_count": null,
      "outputs": []
    },
    {
      "cell_type": "code",
      "metadata": {
        "collapsed": true,
        "id": "LlFqzWVetUwr"
      },
      "source": [
        "# ndarray.ndim gives the number of axes(dimensions) of the array. Run this cell\n",
        "a.ndim"
      ],
      "execution_count": null,
      "outputs": []
    },
    {
      "cell_type": "code",
      "metadata": {
        "collapsed": true,
        "id": "H_zTa0dJtUws"
      },
      "source": [
        "# ndarray.shape gives the tuple having the shape of the array. Run this cell. \n",
        "# Here, you can interpret the shape of a as having 2 rows and 3 columns.\n",
        "a.shape"
      ],
      "execution_count": null,
      "outputs": []
    },
    {
      "cell_type": "code",
      "metadata": {
        "collapsed": true,
        "id": "O6xAGS09tUws"
      },
      "source": [
        "# ndarray.size the total number of elements of the array. This is equal to the product of the elements of shape.\n",
        "a.size"
      ],
      "execution_count": null,
      "outputs": []
    },
    {
      "cell_type": "code",
      "metadata": {
        "collapsed": true,
        "id": "3nrfgGZVtUws"
      },
      "source": [
        "# ndarray.dtype an object describing the type of the elements in the array.\n",
        "a.dtype"
      ],
      "execution_count": null,
      "outputs": []
    },
    {
      "cell_type": "code",
      "metadata": {
        "collapsed": true,
        "id": "_9zDHmaTtUws"
      },
      "source": [
        "# Create a numpy array having elements [1,2,3,4,5] in first row and [6,7,8,9,10] in the second row. \n",
        "b = np.array([[1,2,3,4,5],[6,7,8,9,10]])\n",
        "print(b)\n",
        "# Find the attributes shown in the above 4 cells.  Write the code below."
      ],
      "execution_count": null,
      "outputs": []
    },
    {
      "cell_type": "code",
      "metadata": {
        "id": "ZICqEZUUaSPg"
      },
      "source": [
        "b.ndim"
      ],
      "execution_count": null,
      "outputs": []
    },
    {
      "cell_type": "code",
      "metadata": {
        "id": "mI3Y6gLraP4v"
      },
      "source": [
        "a.size"
      ],
      "execution_count": null,
      "outputs": []
    },
    {
      "cell_type": "code",
      "metadata": {
        "id": "QoD3qmxHaOwD"
      },
      "source": [
        "a.dtype"
      ],
      "execution_count": null,
      "outputs": []
    },
    {
      "cell_type": "code",
      "metadata": {
        "collapsed": true,
        "id": "h1Hx2v1rtUws"
      },
      "source": [
        "# Sometimes we want to get an individual dimension of an array.  \n",
        "# We can index which dimension we want from the shape attribute.\n",
        "print(\"To get the first dimension:\")\n",
        "print(a.shape[0])\n",
        "print(\"To get the second dimension:\")\n",
        "print(a.shape[1])"
      ],
      "execution_count": null,
      "outputs": []
    },
    {
      "cell_type": "markdown",
      "metadata": {
        "id": "hQ6hkRPStUwt"
      },
      "source": [
        "# Creating array of zeros and ones."
      ]
    },
    {
      "cell_type": "code",
      "metadata": {
        "collapsed": true,
        "id": "XXWB4K22tUwt"
      },
      "source": [
        "# Array of zeros. The code below creates an array of zeros of the specified dimension.\n",
        "# Code below creates an array of zeros of dimension (3,4)\n",
        "a=np.zeros((3,4))\n",
        "print(a)\n",
        "print(a.dtype)"
      ],
      "execution_count": null,
      "outputs": []
    },
    {
      "cell_type": "code",
      "metadata": {
        "collapsed": true,
        "id": "PGSTur53tUwt"
      },
      "source": [
        "# Array of ones. Here, dtype attribute specifies the data type of the elements of array. This is optional. \n",
        "# By default, it is float64 as you can see in the example of zeros above.\n",
        "# Array of ones with dimensions (2,3,4)\n",
        "b = np.ones( (2,3,4), dtype=np.int16 )\n",
        "print(b)\n",
        "print(b.dtype)"
      ],
      "execution_count": null,
      "outputs": []
    },
    {
      "cell_type": "code",
      "metadata": {
        "collapsed": true,
        "id": "xvOKmhcktUwt"
      },
      "source": [
        "# Create an array of zeros of dimension (5,6) \n",
        "a=np.zeros((5,6))\n",
        "print(a)"
      ],
      "execution_count": null,
      "outputs": []
    },
    {
      "cell_type": "code",
      "metadata": {
        "collapsed": true,
        "id": "tshQ02QotUwt"
      },
      "source": [
        "# Create an array of ones of dimension (2,3)\n",
        "b=np.ones((2,3))\n",
        "print(b)"
      ],
      "execution_count": null,
      "outputs": []
    },
    {
      "cell_type": "markdown",
      "metadata": {
        "id": "4lpgEHICtUwt"
      },
      "source": [
        "# Reshape Function.\n",
        "\n",
        "Reshape function is used to reshape an array. See the example below. "
      ]
    },
    {
      "cell_type": "code",
      "metadata": {
        "collapsed": true,
        "id": "3Y9VIAv2tUwu"
      },
      "source": [
        "a = np.arange(15)\n",
        "print(\"The original array a\")\n",
        "print(a)\n",
        "print(\"The array a reshaped with dimensions 3x5\")\n",
        "print(a.reshape(3,5))"
      ],
      "execution_count": null,
      "outputs": []
    },
    {
      "cell_type": "code",
      "metadata": {
        "collapsed": true,
        "id": "5gkWRW-1tUwu"
      },
      "source": [
        "# Reshape function doesn't change the shape of original array. \n",
        "print(\"Notice that a didn't change\")\n",
        "print(a)\n",
        "print(\"The dimensions of a:\")\n",
        "print(a.shape)"
      ],
      "execution_count": null,
      "outputs": []
    },
    {
      "cell_type": "code",
      "metadata": {
        "collapsed": true,
        "id": "NUgSLa2EtUwu"
      },
      "source": [
        "# To change the shape of original array, use this. \n",
        "a = a.reshape(3,5)\n",
        "print(\"Notice a has been changed\")\n",
        "print(a)\n",
        "print(\"The new dimensions of a:\")\n",
        "print(a.shape)"
      ],
      "execution_count": null,
      "outputs": []
    },
    {
      "cell_type": "code",
      "metadata": {
        "collapsed": true,
        "id": "dl9eo7YYtUwu"
      },
      "source": [
        "# Create an array of zeros of dimension (4,5)\n",
        "b= np.zeros((4,5))\n",
        "print(b)\n",
        "# Reshape b to dimensions (10,2).\n",
        "b = b.reshape(10,2)\n",
        "print(b)"
      ],
      "execution_count": null,
      "outputs": []
    },
    {
      "cell_type": "markdown",
      "metadata": {
        "id": "fLD4KR3rtUwu"
      },
      "source": [
        "# Note:\n",
        "Whenever you use a 1 dimensional array, it is a rank 1 array. In the later assignments, you will see that we don't prefer to use rank 1 array. So, we can convert them to rank 2 using reshape function. "
      ]
    },
    {
      "cell_type": "code",
      "metadata": {
        "collapsed": true,
        "id": "_iXgx8LztUwu",
        "colab": {
          "base_uri": "https://localhost:8080/"
        },
        "outputId": "17cd1dfb-9809-4798-d59d-558ff248414f"
      },
      "source": [
        "# Run this cell\n",
        "# Here we have a rank 1 matrix. See it's shape.\n",
        "a = np.array([1,2,3])\n",
        "print(a)\n",
        "print(a.shape)"
      ],
      "execution_count": 15,
      "outputs": [
        {
          "output_type": "stream",
          "text": [
            "[1 2 3]\n",
            "(3,)\n"
          ],
          "name": "stdout"
        }
      ]
    },
    {
      "cell_type": "code",
      "metadata": {
        "collapsed": true,
        "id": "LZFVC66OtUwv",
        "colab": {
          "base_uri": "https://localhost:8080/"
        },
        "outputId": "7922a78f-6445-4f62-d444-a6d261700c7c"
      },
      "source": [
        "# Run this cell\n",
        "a = a.reshape((3,1))\n",
        "# Notice that a changed from a sequence of numbers to a sequence of sequence of numbers\n",
        "print(\"The new shape of a\")\n",
        "print(a)\n",
        "print(\"The array a's new dimensions:\")\n",
        "print(a.shape)"
      ],
      "execution_count": 16,
      "outputs": [
        {
          "output_type": "stream",
          "text": [
            "The new shape of a\n",
            "[[1]\n",
            " [2]\n",
            " [3]]\n",
            "The array a's new dimensions:\n",
            "(3, 1)\n"
          ],
          "name": "stdout"
        }
      ]
    },
    {
      "cell_type": "markdown",
      "metadata": {
        "id": "JKrOs3VmtUwv"
      },
      "source": [
        "# Numpy.random.rand and Numpy.random.randn"
      ]
    },
    {
      "cell_type": "code",
      "metadata": {
        "collapsed": true,
        "id": "C2ncTlfEtUwv"
      },
      "source": [
        "# Numpy.random.rand creates a numpy array of given dimensions where all the elements \n",
        "# are random samples from a uniform distribution over [0, 1).\n",
        "# Run this code cell.\n",
        "a = np.random.rand(2,3)\n",
        "print(a)"
      ],
      "execution_count": null,
      "outputs": []
    },
    {
      "cell_type": "markdown",
      "metadata": {
        "id": "2u7hipgBtUwv"
      },
      "source": [
        " Numpy.random.randn creates a numpy array of given dimensions where all the elements are  samples from univariate “normal” (Gaussian) distribution of mean 0 and variance 1"
      ]
    },
    {
      "cell_type": "code",
      "metadata": {
        "collapsed": true,
        "id": "WwibpHixtUwv"
      },
      "source": [
        "# Run this cell\n",
        "a = np.random.randn(2,10)\n",
        "print(a)"
      ],
      "execution_count": null,
      "outputs": []
    },
    {
      "cell_type": "markdown",
      "metadata": {
        "id": "snemkGp-tUww"
      },
      "source": [
        "Numpy can create an array having values from the normal distribution with mean = $\\mu$, and variance = $\\sigma^2$.\n",
        "\n",
        "To create a random array of elements from $N(\\mu, \\sigma^2)$, use: sigma = $\\sigma$, and mu = $\\mu$ and the numpy command:\n",
        "\n",
        "sigma * np.random.randn(...) + mu"
      ]
    },
    {
      "cell_type": "code",
      "metadata": {
        "collapsed": true,
        "id": "8PIfpURFtUww"
      },
      "source": [
        "# Two-by-four array of samples from N(3, 6.25):\n",
        "a=2.5 * np.random.randn(2, 4) + 3\n",
        "a"
      ],
      "execution_count": null,
      "outputs": []
    },
    {
      "cell_type": "code",
      "metadata": {
        "collapsed": true,
        "id": "XbgXm5xctUww"
      },
      "source": [
        "# Create a numpy array dimension $3\\times 5$ containing random samples with mean (mu)= 5 \n",
        "# and standard deviation(sigma) = 2\n",
        "b = 2 * np.random.randn(3,5) + 5\n",
        "print(b)"
      ],
      "execution_count": null,
      "outputs": []
    },
    {
      "cell_type": "markdown",
      "metadata": {
        "id": "0vrWmUhxtUww"
      },
      "source": [
        "# Basic Operations: \n",
        "Arithmetic operators on arrays apply elementwise. A new array is created and filled with the result."
      ]
    },
    {
      "cell_type": "code",
      "metadata": {
        "collapsed": true,
        "id": "3TYYdkDMtUwx"
      },
      "source": [
        "# Run this code cell\n",
        "a = np.array( [20,30,40,50] )\n",
        "b = np.arange( 1,5 )\n",
        "print(\"The array a:\")\n",
        "print(a)\n",
        "print(\"The array b:\")\n",
        "print(b)"
      ],
      "execution_count": null,
      "outputs": []
    },
    {
      "cell_type": "code",
      "metadata": {
        "collapsed": true,
        "id": "kBn3arcktUwx"
      },
      "source": [
        "# To subtract corresponding elements of array b from array a , simply write a - b as shown below\n",
        "c = a - b\n",
        "print(c)"
      ],
      "execution_count": null,
      "outputs": []
    },
    {
      "cell_type": "code",
      "metadata": {
        "collapsed": true,
        "id": "3cW02ZULtUwx"
      },
      "source": [
        "# similarly we can do addition, multiplication, division of corresponding elements. Complete the code to add, multiply and divide corresponding elements of a and b.\n",
        "addition = a+b # Add\n",
        "product = a*b  # Multiply\n",
        "ratio = a/b    # Divide\n",
        "print(\"a + b:\")\n",
        "print(addition)\n",
        "print(\"a * b: \")\n",
        "print(product)\n",
        "print(\"a/b:\")\n",
        "print(ratio)"
      ],
      "execution_count": null,
      "outputs": []
    },
    {
      "cell_type": "code",
      "metadata": {
        "collapsed": true,
        "id": "NolngIqatUwx"
      },
      "source": [
        "# Square all the elements of the array b and save it in an array d\n",
        "d = b**2\n",
        "print(d)"
      ],
      "execution_count": null,
      "outputs": []
    },
    {
      "cell_type": "code",
      "metadata": {
        "collapsed": true,
        "id": "EYHXyjY5tUwx"
      },
      "source": [
        "# Take sine of all the elements of a matrix and save it in another matrix d\n",
        "d=10*np.sin(a)\n",
        "print(d)"
      ],
      "execution_count": null,
      "outputs": []
    },
    {
      "cell_type": "code",
      "metadata": {
        "collapsed": true,
        "id": "thYGuwF8tUwy"
      },
      "source": [
        "# Run this cell to see how this works\n",
        "e= a<35\n",
        "print(e)"
      ],
      "execution_count": null,
      "outputs": []
    },
    {
      "cell_type": "markdown",
      "metadata": {
        "id": "SOJ5AZhUtUwy"
      },
      "source": [
        "# Matrix and vector operations\n",
        "\n",
        "Unlike in many matrix languages (like matlab), the product operator * operates elementwise in NumPy arrays. The matrix product can be performed using the dot function or the dot method:"
      ]
    },
    {
      "cell_type": "code",
      "metadata": {
        "collapsed": true,
        "id": "TnFp35e5tUwy"
      },
      "source": [
        "# Run this cell\n",
        "A = np.array( [[1,1],[0,1]] )\n",
        "B = np.array( [[2,0], [3,4]] )\n",
        "print(A)\n",
        "print(B)"
      ],
      "execution_count": null,
      "outputs": []
    },
    {
      "cell_type": "code",
      "metadata": {
        "collapsed": true,
        "id": "CKd3DAA_tUwy"
      },
      "source": [
        "# Element wise product. Note: Dimensions should be same for A and B\n",
        "C = A * B\n",
        "print(C)"
      ],
      "execution_count": null,
      "outputs": []
    },
    {
      "cell_type": "code",
      "metadata": {
        "collapsed": true,
        "id": "1xTwrYfItUwy"
      },
      "source": [
        "# The dot method for matrix multiplication.\n",
        "# Dimensions should be in accordance to linear algbra rule of Matrix-Matrix or Matrix-Vector multiplication.\n",
        "D = A.dot(B) \n",
        "print(D)"
      ],
      "execution_count": null,
      "outputs": []
    },
    {
      "cell_type": "code",
      "metadata": {
        "collapsed": true,
        "id": "MyF5B1mstUwy"
      },
      "source": [
        "# Another way to multiply matrices is to use np.dot() function.\n",
        "D = np.dot(A,B)\n",
        "print(D)"
      ],
      "execution_count": null,
      "outputs": []
    },
    {
      "cell_type": "code",
      "metadata": {
        "collapsed": true,
        "id": "TsyCtBUYtUwz"
      },
      "source": [
        "# Create a random matrix of dimension (3,4) and another random matrix of dimension (4,2) and find their dot product. \n",
        "# Also, check the dimensions of the resultant matrix.\n",
        "mat1= np.random.randn(3,4)\n",
        "mat2= np.random.randn(4,2)\n",
        "dot_product= np.dot(mat1,mat2)\n",
        "print(\"mat1:\")\n",
        "print(mat1)\n",
        "print(\"mat2:\")\n",
        "print(mat2)\n",
        "print(\"mat1 times mat2:\")\n",
        "print(dot_product)\n",
        "print(\"Dimension: \", dot_product.ndim)"
      ],
      "execution_count": null,
      "outputs": []
    },
    {
      "cell_type": "markdown",
      "metadata": {
        "id": "k3lLkjYWtUwz"
      },
      "source": [
        "Many unary operations, such as computing the sum of all the elements in the array, are implemented as methods of the ndarray class."
      ]
    },
    {
      "cell_type": "code",
      "metadata": {
        "collapsed": true,
        "id": "ozQCjXlwtUwz"
      },
      "source": [
        "# Run this cell\n",
        "a = np.random.random((2,3))\n",
        "print(a)"
      ],
      "execution_count": null,
      "outputs": []
    },
    {
      "cell_type": "code",
      "metadata": {
        "collapsed": true,
        "id": "dJIKPxeWtUwz"
      },
      "source": [
        "# Calculating sum of all the elements of the array. \n",
        "# This method considers all the elements of array as a long list of numbers regardless of the shape.\n",
        "add = a.sum()\n",
        "print(add)"
      ],
      "execution_count": null,
      "outputs": []
    },
    {
      "cell_type": "code",
      "metadata": {
        "collapsed": true,
        "id": "eOtqdI01tUwz"
      },
      "source": [
        "# Find minimum and maximum from all the elements using a.min() and a.max() command.\n",
        "minimum = a.min()\n",
        "maximum = a.max()\n",
        "print(\"minimum = %9.8f\"%(minimum))\n",
        "print(\"maximum = %9.8f\"%(maximum))"
      ],
      "execution_count": null,
      "outputs": []
    },
    {
      "cell_type": "code",
      "metadata": {
        "collapsed": true,
        "id": "eKFEEsr3tUwz"
      },
      "source": [
        "# Create a random array a of dimension (4,6) and find sum , min, max as shown above.\n",
        "a = np.random.randn(4,6)\n",
        "add = a.sum()\n",
        "minimum= a.min()\n",
        "maximum= a.max()\n",
        "print(\"The array a:\")\n",
        "print(a)\n",
        "print(\"The sum of all elements of array a: %9.8f\"%(add))\n",
        "print(\"minimum = %9.8f\"%(minimum))\n",
        "print(\"maximum = %9.8f\"%(maximum))"
      ],
      "execution_count": null,
      "outputs": []
    },
    {
      "cell_type": "markdown",
      "metadata": {
        "id": "7Z-eHDFltUw0"
      },
      "source": [
        "# Operations on rows or columns\n",
        "\n",
        "By default, these operations apply to the array as though it were a list of numbers, regardless of its shape. However, by specifying the axis parameter you can apply an operation along the specified axis of an array:"
      ]
    },
    {
      "cell_type": "code",
      "metadata": {
        "collapsed": true,
        "id": "BvJX3WSTtUw0"
      },
      "source": [
        "# Run this cell\n",
        "B = np.arange(12).reshape(3,4)\n",
        "print(B)"
      ],
      "execution_count": null,
      "outputs": []
    },
    {
      "cell_type": "code",
      "metadata": {
        "collapsed": true,
        "id": "MQcuad99tUw0"
      },
      "source": [
        "# sum along a column\n",
        "column_sum = B.sum(axis=0)  \n",
        "print(column_sum)"
      ],
      "execution_count": null,
      "outputs": []
    },
    {
      "cell_type": "code",
      "metadata": {
        "collapsed": true,
        "id": "gr_snuL7tUw0"
      },
      "source": [
        "# sum along a row. In sum function above, in place of axis=0, pass axis=1\n",
        "row_sum = B.sum(axis=1)\n",
        "print(\"The row sums:\")\n",
        "print(row_sum)\n",
        "# Minimum along row\n",
        "min_row= B.min(axis=1)\n",
        "print(\"The minimum item in every row:\")\n",
        "print(min_row)\n",
        "# Minimum along column\n",
        "min_column= B.min(axis=0)\n",
        "print(\"The minimum item in every column:\")\n",
        "print(min_column)"
      ],
      "execution_count": null,
      "outputs": []
    },
    {
      "cell_type": "code",
      "metadata": {
        "collapsed": true,
        "id": "uPIPp667tUw0"
      },
      "source": [
        "# To apply universal mathematical functions on all the elements of a matrix, we do so as shown below:\n",
        "B = np.arange(3)\n",
        "print(\"The array B:\")\n",
        "print(B)\n",
        "# Compute exponent of every element of B\n",
        "C = np.exp(B) \n",
        "print(\"The array C:\")\n",
        "print(C)\n",
        "# Compute sqrt of every element in B.  (You may get an error if an element in B is negative.)\n",
        "D = np.sqrt(B)\n",
        "print(\"The array D:\")\n",
        "print(D)"
      ],
      "execution_count": null,
      "outputs": []
    },
    {
      "cell_type": "code",
      "metadata": {
        "collapsed": true,
        "id": "tno2lDSGtUw1"
      },
      "source": [
        "# Create a random matrix of dimensions (2,4) and apply the above three operations.\n",
        "A = np.random.randn(2,4)\n",
        "print(\"The array A:\")\n",
        "print(A)\n",
        "# Apply operations on matrix A\n",
        "B = np.sqrt(A)\n",
        "print(B)\n",
        "C = np.exp(A)\n",
        "print(C)\n",
        "# Perform np.log( ).  (Note: you will get error if you try to take the log of a negative number.)\n",
        "D = np.log(A)\n",
        "print(D)"
      ],
      "execution_count": null,
      "outputs": []
    },
    {
      "cell_type": "markdown",
      "metadata": {
        "id": "k_HwjBrdtUw1"
      },
      "source": [
        "# Transpose of a Matrix\n",
        "There are 2 ways to get transpose of a numpy array. Either using .T attribute or using np.transpose(matrix) method.\n",
        "Note: If you have a rank 1 matrix and you take it's transpose, it will be same as the original matrix."
      ]
    },
    {
      "cell_type": "code",
      "metadata": {
        "collapsed": true,
        "id": "aerCXZ5dtUw1"
      },
      "source": [
        "# Using .T attribute\n",
        "A = np.arange(4).reshape((2,2))\n",
        "B = A.T\n",
        "print(\"The original A:\")\n",
        "print(A)\n",
        "print(\"The transpose of A:\")\n",
        "print(B)"
      ],
      "execution_count": null,
      "outputs": []
    },
    {
      "cell_type": "code",
      "metadata": {
        "collapsed": true,
        "id": "UdKrljOItUw1"
      },
      "source": [
        "# Using transpose method\n",
        "C = np.transpose(A)\n",
        "print(C)"
      ],
      "execution_count": null,
      "outputs": []
    },
    {
      "cell_type": "code",
      "metadata": {
        "collapsed": true,
        "id": "WHXadHS2tUw1"
      },
      "source": [
        "# Create a random matrix X of dimension (4,3) and take it's transpose.\n",
        "X = np.random.randn(4,3)\n",
        "# Find transpose of X using any of the above method\n",
        "Y = np.transpose(X)\n",
        "print(\"X: \")\n",
        "print(X)\n",
        "print(\"X Transpose: \")\n",
        "print(Y)"
      ],
      "execution_count": null,
      "outputs": []
    },
    {
      "cell_type": "markdown",
      "metadata": {
        "id": "mqGGI0EbtUw1"
      },
      "source": [
        "# Indexing, slicing and iterating\n",
        "\n",
        "Indexing, slicing and iterating on 1-dimensional arrays. \n",
        "\n",
        "Indexing, slicing and iterating is almost same as simple python lists for 1-dimensional arrays. \n",
        "\n",
        "Note: Index starts from 0."
      ]
    },
    {
      "cell_type": "code",
      "metadata": {
        "collapsed": true,
        "id": "g84gZr_RtUw2"
      },
      "source": [
        "# Run this cell\n",
        "a = np.arange(15)**3\n",
        "print(a)"
      ],
      "execution_count": null,
      "outputs": []
    },
    {
      "cell_type": "code",
      "metadata": {
        "collapsed": true,
        "id": "jS3x4IMotUw2"
      },
      "source": [
        "# Indexing. Getting third element of a\n",
        "b = a[2]\n",
        "print(b)\n",
        "# Find fifth element of a\n",
        "c = a[4]\n",
        "print(c)"
      ],
      "execution_count": null,
      "outputs": []
    },
    {
      "cell_type": "code",
      "metadata": {
        "collapsed": true,
        "id": "-zIlpPSdtUw2"
      },
      "source": [
        "# Slicing. Getting elements from index 2 to 5.  (Note we do not get the item at index 6.)\n",
        "b = a[2:6]\n",
        "print(b)\n",
        "# Find elements from index 4 to 7.\n",
        "c = a[4:6]\n",
        "print(c)"
      ],
      "execution_count": null,
      "outputs": []
    },
    {
      "cell_type": "code",
      "metadata": {
        "collapsed": true,
        "id": "iNIbksG3tUw2"
      },
      "source": [
        "# Reversing 1-D array\n",
        "rev = a[::-1]\n",
        "print(rev)"
      ],
      "execution_count": null,
      "outputs": []
    },
    {
      "cell_type": "code",
      "metadata": {
        "collapsed": true,
        "id": "MCyxs6LItUw2"
      },
      "source": [
        "# Looping over some indices.\n",
        "# Start from index 2, stop before index 12 and jump or increment by 3.\n",
        "x = a[2:12:3]\n",
        "print(x)\n",
        "# Start from index 3, stop before index 12 and jump by 4.\n",
        "y = a[3:12:4]\n",
        "print(y)"
      ],
      "execution_count": null,
      "outputs": []
    },
    {
      "cell_type": "code",
      "metadata": {
        "collapsed": true,
        "id": "nlHBW0R5tUw2"
      },
      "source": [
        "# Using a for loop to iterate:\n",
        "for i in a:\n",
        "    print(i)"
      ],
      "execution_count": null,
      "outputs": []
    },
    {
      "cell_type": "markdown",
      "metadata": {
        "id": "kYdG9SpotUw2"
      },
      "source": [
        "# Multidimensional arrays \n",
        "They can have one index per axis. These indices are given in a tuple separated by commas:"
      ]
    },
    {
      "cell_type": "code",
      "metadata": {
        "collapsed": true,
        "id": "2ISPLMcQtUw2"
      },
      "source": [
        "# Run this code\n",
        "a = np.arange(12).reshape(4,3)\n",
        "print(a)"
      ],
      "execution_count": null,
      "outputs": []
    },
    {
      "cell_type": "code",
      "metadata": {
        "collapsed": true,
        "id": "ccdizbEPtUw3"
      },
      "source": [
        "# Element in third row and second column of the matrix.  \n",
        "# Note due to indexing starting from 0, we use index 2 for the third row and we use index 1 for the second column\n",
        "print(a[2,1])"
      ],
      "execution_count": null,
      "outputs": []
    },
    {
      "cell_type": "code",
      "metadata": {
        "collapsed": true,
        "id": "cHXCgp3PtUw3"
      },
      "source": [
        "# Find element in second row and third column. \n",
        "b = a[1][2]\n",
        "print(b)"
      ],
      "execution_count": null,
      "outputs": []
    },
    {
      "cell_type": "code",
      "metadata": {
        "collapsed": true,
        "id": "hYW60iv_tUw3"
      },
      "source": [
        "# Getting each row in the second column of array a\n",
        "c = a[: , 1]\n",
        "print(c)"
      ],
      "execution_count": null,
      "outputs": []
    },
    {
      "cell_type": "code",
      "metadata": {
        "collapsed": true,
        "id": "2lhVHURntUw3"
      },
      "source": [
        "# Get each column in the second row of a.\n",
        "d = a[1,:]\n",
        "print(d)"
      ],
      "execution_count": null,
      "outputs": []
    },
    {
      "cell_type": "code",
      "metadata": {
        "collapsed": true,
        "id": "ShbzijsGtUw3"
      },
      "source": [
        "# a[i:j, : ] returns rows i+1 through j of the matrix.  (Yeah this is confusing due to indexing starting at 0!)\n",
        "# In the code below we get rows 2 through 3 of the matrix.  (We index from 1 to (3-1).) \n",
        "e = a[1:3, : ]\n",
        "print(e)"
      ],
      "execution_count": null,
      "outputs": []
    },
    {
      "cell_type": "code",
      "metadata": {
        "collapsed": true,
        "id": "uibjAt2MtUw3"
      },
      "source": [
        "# Get the last row\n",
        "b = a[-1,:]\n",
        "print(b)"
      ],
      "execution_count": null,
      "outputs": []
    },
    {
      "cell_type": "code",
      "metadata": {
        "collapsed": true,
        "id": "x7NVS1rttUw3"
      },
      "source": [
        "# Find last column\n",
        "c = a[:,-1]\n",
        "print(c)"
      ],
      "execution_count": null,
      "outputs": []
    },
    {
      "cell_type": "markdown",
      "metadata": {
        "id": "JLUaOetwtUw3"
      },
      "source": [
        "You can use a for loop to traverse through an array!!"
      ]
    },
    {
      "cell_type": "code",
      "metadata": {
        "collapsed": true,
        "id": "dw5KuE2qtUw4"
      },
      "source": [
        "for i in range(a.shape[0]):\n",
        "    for j in range(a.shape[1]):\n",
        "        print(a[i][j])"
      ],
      "execution_count": null,
      "outputs": []
    },
    {
      "cell_type": "markdown",
      "metadata": {
        "collapsed": true,
        "id": "LXeGHWxctUw4"
      },
      "source": [
        "# Stacking together different arrays.\n",
        "\n",
        "Several arrays can be stacked together along different axes:"
      ]
    },
    {
      "cell_type": "code",
      "metadata": {
        "collapsed": true,
        "id": "4Xy0jC83tUw4",
        "colab": {
          "base_uri": "https://localhost:8080/"
        },
        "outputId": "8e4b1c4d-8fb8-4b0e-ac02-c34d15901e11"
      },
      "source": [
        "# Run this cell\n",
        "a = np.arange(4).reshape((2,2))\n",
        "print(a)"
      ],
      "execution_count": 17,
      "outputs": [
        {
          "output_type": "stream",
          "text": [
            "[[0 1]\n",
            " [2 3]]\n"
          ],
          "name": "stdout"
        }
      ]
    },
    {
      "cell_type": "code",
      "metadata": {
        "collapsed": true,
        "id": "EDue-dQftUw4",
        "colab": {
          "base_uri": "https://localhost:8080/"
        },
        "outputId": "2995a1c0-5115-4851-8a12-bf99fb20ece5"
      },
      "source": [
        "# Run this cell\n",
        "b = np.arange(4,8).reshape((2,2))\n",
        "print(b)"
      ],
      "execution_count": 18,
      "outputs": [
        {
          "output_type": "stream",
          "text": [
            "[[4 5]\n",
            " [6 7]]\n"
          ],
          "name": "stdout"
        }
      ]
    },
    {
      "cell_type": "markdown",
      "metadata": {
        "id": "Yh9_1OBmtUw4"
      },
      "source": [
        "To stack array b at the bottom of array a, we use vstack command. Note, for vstack, number of columns in both arrays should be same i.e. a.shape[1] == b.shape[1]."
      ]
    },
    {
      "cell_type": "code",
      "metadata": {
        "collapsed": true,
        "id": "0DsQ8dsRtUw4",
        "colab": {
          "base_uri": "https://localhost:8080/"
        },
        "outputId": "83c9a9e3-e918-41a4-fd16-2554dfd07814"
      },
      "source": [
        "# Stacking b at the bottom of a.\n",
        "c = np.vstack((a,b))\n",
        "print(c)\n",
        "print(c.shape)"
      ],
      "execution_count": 19,
      "outputs": [
        {
          "output_type": "stream",
          "text": [
            "[[0 1]\n",
            " [2 3]\n",
            " [4 5]\n",
            " [6 7]]\n",
            "(4, 2)\n"
          ],
          "name": "stdout"
        }
      ]
    },
    {
      "cell_type": "code",
      "metadata": {
        "collapsed": true,
        "id": "7sFtLalOtUw4",
        "colab": {
          "base_uri": "https://localhost:8080/"
        },
        "outputId": "a16c121d-8e2b-4c32-a7c7-d59ef01519e4"
      },
      "source": [
        "# Horizontal stack. Stack a to the left of b. \n",
        "# Note, for hstack, number of rows in both arrays should be same i.e. a.shape[0] == b.shape[0].\n",
        "d = np.hstack((a,b))\n",
        "print(d)"
      ],
      "execution_count": 20,
      "outputs": [
        {
          "output_type": "stream",
          "text": [
            "[[0 1 4 5]\n",
            " [2 3 6 7]]\n"
          ],
          "name": "stdout"
        }
      ]
    },
    {
      "cell_type": "code",
      "metadata": {
        "collapsed": true,
        "id": "UpycgcMhtUw4"
      },
      "source": [
        "# Create an array a of dimension (3,2) and another array b of dimension (3,5). \n",
        "# Append one of them to the left of another i.e. hstack.\n",
        "a= np.random.randn(3,2)\n",
        "b= np.random.randn(3,5)\n",
        "c=  np.hstack((a,b))\n",
        "print(\"The array a:\")\n",
        "print(a)\n",
        "print(\"The array b:\")\n",
        "print(b)\n",
        "print(\"The array c:\")\n",
        "print(c)"
      ],
      "execution_count": null,
      "outputs": []
    },
    {
      "cell_type": "markdown",
      "metadata": {
        "id": "QXCFTuqDtUw5"
      },
      "source": [
        "# Broadingcasting.\n",
        "\n",
        "This is an important feature of numpy arrays. Suppose we have an array a of dimension (4,5) and another array b of dimension (4,1). If we want to add both the arrays, is it possible according to linear algebra? The answer is NO because in Linear Algebra, to perform element-wise arithmetic operations, dimensions should be same. \n",
        "\n",
        "However, using broadcasting it is possible to add the arrays. Broadcasting copies the first column of b to other columns of b to make it of same size as of a i.e. make it of dimension (4,5) from (4,1). "
      ]
    },
    {
      "cell_type": "code",
      "metadata": {
        "collapsed": true,
        "id": "T83mS4UxtUw5"
      },
      "source": [
        "a = np.arange(20).reshape((4,5))\n",
        "print(a)"
      ],
      "execution_count": null,
      "outputs": []
    },
    {
      "cell_type": "code",
      "metadata": {
        "collapsed": true,
        "id": "5OwtPzr7tUw5"
      },
      "source": [
        "b = np.arange(4).reshape((4,1))\n",
        "print(b)"
      ],
      "execution_count": null,
      "outputs": []
    },
    {
      "cell_type": "code",
      "metadata": {
        "collapsed": true,
        "id": "H6SpO8UotUw5"
      },
      "source": [
        "c = a + b\n",
        "print(c)"
      ],
      "execution_count": null,
      "outputs": []
    },
    {
      "cell_type": "markdown",
      "metadata": {
        "id": "BLlhFNGPtUw5"
      },
      "source": [
        "For broadcasting to work, all the dimensions must be compatible. A dimension is compatible for both arrays either if  they are equal, or either of them is 1.  \n",
        "\n",
        "For example: array b has dimensions (2,3,4) and array c has dimensions (1,3,2).  The first dimension is compatible because c.shape[0]=1.  The second dimension is compatible because b.shape[1]==c.shape[1].  But the third dimension is not compatible becaue b.shape[2] $\\not =$ c.shape[2] and neither of them is 1.\n",
        "\n",
        "When operating on two arrays, NumPy compares their shapes element-wise. It starts with the trailing dimensions, and works its way forward. \n",
        "\n",
        "When either of the dimensions compared is one, the other is used. In other words, dimensions with size 1 are stretched or “copied” to match the other.\n",
        "In the following example, both the A and B arrays have axes with length one that are expanded to a larger size during the broadcast operation:\n",
        "\n",
        "A      (4d array):  8 x 1 x 6 x 1\n",
        "B      (3d array):      7 x 1 x 5\n",
        "Result (4d array):  8 x 7 x 6 x 5\n",
        "\n",
        "Another example:\n",
        "\n",
        "A      (3d array):  15 x 3 x 5\n",
        "B      (3d array):  15 x 1 x 5\n",
        "Result (3d array):  15 x 3 x 5\n",
        "\n",
        "Broadcasting rules can be confusing. But for now, you only need to know very basic broadcasting which is shown in the code cell above."
      ]
    },
    {
      "cell_type": "markdown",
      "metadata": {
        "id": "0mqj8hEgtUw5"
      },
      "source": [
        "# Basic Linear Algebra Operations."
      ]
    },
    {
      "cell_type": "code",
      "metadata": {
        "collapsed": true,
        "id": "MDkOArzytUw5"
      },
      "source": [
        "a = np.array([[1.0, 2.0], [3.0, 4.0]])\n",
        "print(a)"
      ],
      "execution_count": null,
      "outputs": []
    },
    {
      "cell_type": "code",
      "metadata": {
        "collapsed": true,
        "id": "y2BOso8vtUw5"
      },
      "source": [
        "# To find Inverse of matrix a:\n",
        "b = np.linalg.inv(a)\n",
        "print(b)"
      ],
      "execution_count": null,
      "outputs": []
    },
    {
      "cell_type": "code",
      "metadata": {
        "collapsed": true,
        "id": "-6S6bYLJtUw6"
      },
      "source": [
        "# Creating Identity matrix: Identity matrix is always a square matrix.\n",
        "u = np.eye(3)\n",
        "print(u)"
      ],
      "execution_count": null,
      "outputs": []
    },
    {
      "cell_type": "code",
      "metadata": {
        "collapsed": true,
        "id": "hpxCV5_gtUw6"
      },
      "source": [
        "# Finding Trace of a matrix\n",
        "c = np.trace(u)\n",
        "print(c)"
      ],
      "execution_count": null,
      "outputs": []
    },
    {
      "cell_type": "code",
      "metadata": {
        "collapsed": true,
        "id": "sjVdrPsvtUw6"
      },
      "source": [
        "# Find eigen values of a matrix\n",
        "d = np.linalg.eig(a)\n",
        "print(d)"
      ],
      "execution_count": null,
      "outputs": []
    },
    {
      "cell_type": "markdown",
      "metadata": {
        "id": "xUOYJw6ptUw6"
      },
      "source": [
        "# Automatic Reshaping"
      ]
    },
    {
      "cell_type": "code",
      "metadata": {
        "collapsed": true,
        "id": "CZR8Q0QntUw6"
      },
      "source": [
        "# Run this cell\n",
        "a = np.arange(30)\n",
        "a.shape = 2,-1,3  # -1 means \"whatever is needed\"\n",
        "print(a.shape)\n",
        "print(a)"
      ],
      "execution_count": null,
      "outputs": []
    },
    {
      "cell_type": "markdown",
      "metadata": {
        "id": "5qo3G2cDtUw6"
      },
      "source": [
        "This assignment ends here. We hope this assignment gives you basic knowledge of using numpy and it's arrays and perform basic operations. We highly encourage you to use official numpy documentation if you need more help while solving your machine learning assignments. https://docs.scipy.org/doc/numpy-dev/user/quickstart.html . One of the topic not covered in this assignment is indexing with arrays of indices and indexing with  boolean arrays. Though not used much in the programming assignments, but can be helpful in some scenarios. You can find them in the given link above."
      ]
    }
  ]
}